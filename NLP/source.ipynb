{
 "cells": [
  {
   "cell_type": "code",
   "execution_count": 5,
   "metadata": {},
   "outputs": [
    {
     "data": {
      "text/plain": [
       "'\\n#begin, 前/f, 德國/ns, 總理/nnt, 梅克爾/nr, (/w, Angela/nx, Markel/nx, )/w, 昨日/t, 表示/v, 對於/p, 俄/ns, 烏/ns, 情勢/n, 演變/v, 至此/, 「/w, 沒/d, 有/vyou, 什麼/ry, 好/d, 道歉/vi, 的/ude1, 」/w, 強調/v, 自己/rr, 已/d, 努力/ad, 。/#end\\n#bigin, 她/rr, 也/d, 為/v, 自己/rr, 於/p, 2008/m, 年/qt, 反對/v, 烏克蘭/ns, 加入/v, 北/f, 大西洋/ns, 公約/n, 組織/n, NATO/nx, 的/ude1, 決定/n, 辯護/v, ,/w, 指出/v, 當時/tg, 如果/c, 讓/v, 烏/ns, 加入/v, 北約/nt, 恐/vg, 讓/v, 普丁/nr, 出手/vi, ,/w, 同時/tg, 烏克蘭/ns, 也/d, 還是/c, 個/q, 充滿/v, 腐敗/v, 由/p, 寡頭/ad, 治理/v, 的/ude1, 國家/nt, 。/,w#end\\n#begin, 綜合/v, 英國/nr, 《/w, 衛報/nz, 》/w, （/w, The/nx, Guardian/nx, ）/w, 、/w, 英國/ns 廣播/v, 公司/nis, （/w, BBC/nx, ）/w, 、/w, 路透社/nt, 等/udeng, 外媒/r, 報導/v, ，/w, 梅克爾/nr, 昨日/t, 接受/v, 德國/ns, 《/w, 明鏡周刊/nt, 》/w, （/w, Der/nx, Spiegel/nx, ）/w, 記者/n, 歐桑/nr, （/w, Alexander/nx, Osang/nx, ）/w, 訪問/v, ，/w, 這/r, 是/vshi, 她/rr, 卸任/vi, 總理/n, 職務/n, 6/m, 個/q, 月/qt, 後/f, 的/ude1, 首場/n, 主要/a, 專訪/n, 。/,w#end\\n#begin, 當/p, 被/pbei, 問到/v, 她/rr, 是否/ry, 後悔/v, 在/p, 2008/m, 年/qt, 反對/v, 烏克蘭/ns, 加入/v, 北約/nt, 時/ut, ，/w, 梅克爾/nr, 辯護/v, 她/rr, 當時/t, 希望/v, 避免/v, 升高/v, 與/cc, 俄羅斯/ns, 的/ude1, 緊張/a, 情勢/n, ，/w, 同時/t, 烏克蘭/ns, 那/rzv, 時/ut, 也/d, 尚未/d, 準備/v, 好/d, 加入/v, 北約/nt, 。/,w#end\\n#begin, 「/w, 烏克蘭/ns, 當時/t, 並不/d, 是/vshi, 我們/rr, 現在/t, 所/usuo, 認識/v, 的/ude1, 國家/n, ，/w, 是/vshi, 一/m, 個/q, 非常/d, 分裂/vi, 的/ude1, 烏克蘭/ns, ，/w, 就算/d, 是/vshi, 改革派/n, 提摩申科/nr, （/w, Yulia/nx, Tymoshenko/nx, ）/w, 、/w, 尤申科/nr, （/w, Viktor/nx, Yushchenko/nx, ）/w, 也/d, 意見/n, 相左/vi, ，/w, 這/r, 代表/v, 它/rr, 不/d, 是/vshi, 一/m, 個/q, 內在/n, 民主/n, 強化/v, 的/ude1, 國家/n, 。/w, 」/w,#end\\n#begin, 她/rr, 也/d, 提到/v, 烏克蘭/ns, 當時/t, 仍/d, 是/vshi, 由/p, 寡頭/n, 治理/v, 的/ude1, 國家/n, ，/w, 「/w, 這個/rz, 國家/n, 不/d, 穩定/v, ，/w, 充滿/v, 腐敗/n, 。/w, 」/w,#end\\n#begin, 梅克爾/nr, 也/d, 解釋/v, ，/w, 當時/t, 若/c, 同意/v, 烏克蘭/ns, 加入/v, 北約/nt, ，/w, 在/p, 俄羅斯/ns, 總統/n, 普丁/nr, 眼中/s, 將/d, 等同/vi, 於/up, 「/w, 宣戰/v, 」/w, ，/w, 她/rr, 說/v, 非常/d, 了解/v, 普丁/nr, 的/ude1, 想法/n, ，/w, 不/d, 希望/v, 進一步/d, 激怒/v, 普丁/nr, 。/w,#end\\n#begin, 梅克爾/nr, 稱/v, 是/vshi, 基於/v, 烏克蘭/ns, 的/ude1, 最大/a, 利益/n, 才/d, 阻擋/v, 烏克蘭/ns, 加入/v, 北約/nt, ，/w, 強調/v, 真正/d, 加入/v, 北約/nt, 須/d, 經歷/v, 一/m, 段/q, 過程/n, ，/w, 「/w, 我/rr, 知道/v, 這個/rz, 過程/n, 中/ut, 普丁/nr, 會/v, 對/v, 烏克蘭/ns, 做/v, 一些/m, 不利/a, 於/up, 它/rr, 的/ude1, 事/n, 。/w, 」/w,#end\\n#begin, 關於/p, 為了/p, 解決/v, 烏/ns, 東/f, 衝突/n, 而/cc, 在/p, 2014/m, 、/w, 2015/m, 年/qt, 簽署/v, 的/ude1, 《/w, 明斯克/nsf, 協議/n, 》/w, ，/w, 梅克爾/nr, 強調/v, 這/rz, 2/m, 份/q, 協議/n, 為/p, 烏克蘭/ns, 爭取/v, 了/ule, 時間/n, 、/w, 強化/v, 自己/rr, 的/ude1, 軍隊/n, ，/w, 「/w, 它/rr, 讓/v, 這/rz, 場/q, 紛爭/n, 冷靜/v, 下來/v, ，/w, 為/p, 烏克蘭/ns, 爭取/v, 時間/n, 發展/v, 成/d, 現在/t, 的/ude1, 樣子/n, 。/w, 」/w,#end\\n#begin, 「/w, 如果/c, 我/rr, 說/v, 和/cc, 那/rzv, 個/q, 男人/n, （/w, 指/v, 普丁/nr, ）/w, 沒/v, 什麼/nzv, 好/a, 談/v, 的/ude1, ，/w, 我/rr, 會/v, 感到/v, 很/d, 糟/n, 」/w, 「/w, 沒/d, 有/vyou, 成功/v, 令人/v, 相當/d, 難過/v, ，/w, 但/c, 我/rr, 不/d, 怪/v, 自己/rr, 沒/d, 有/vyou, 嘗試/v, 。/w, 」/w, 她/rr, 認為/v, 自己/rr, 已/d, 努力/v, ，/w, 「/w, 我/rr, 不/d, 需要/v, 因為/v, 不/d, 夠/d, 努力/v, 而/cc, 責怪/v, 自己/nz, ，/w, 我/rr, 不/d, 認為/v, 我/rr, 應該/v, 說/v, 『/w, 那/rz, 是/vshi, 錯/n, 的/ude1, 』/w, ，/w, 這/rz, 也/d, 是/vshi, 為什麼/ryv, 我/rr, 沒/v, 什麼/ry, 好/a, 道歉/vi, 的/ude1, 。/w, 」/w,#end\\n#begin, 關於/p, 德國/ns, 的/ude1, 寬容/n, 態度/n, 是否/v, 導致/v, 克宮/ns, 更加/d, 膽/n, 大/a, 妄/d, 為/v, ，/w, 梅克爾/nr, 認為/v, 蘇聯/nt, 解體/v, 製造/v, 的/ude1, 地緣/n, 政治/n, 問題/n, 在/p, 她/rr, 16/m, 年/qt, 任期/n, 中/f, 仍/d, 持續/v, 存在/v, ，/w, 「/w, 沒/d, 辦法/n, 合適/v, 地/ude2, 結束/v, 冷戰/m, ，/w, 俄羅斯/ns, 問題/n, 一直/d, 存在/v, 。/w, 」/w,#end\\n#begin, 梅克爾/nr, 表示/v, 一直/d, 到/v, 任期/n, 結束/v, 前/f, 幾/r, 周/qt, 才/d, 開始/v, 嚴肅/a, 看待/v, 俄羅斯/ns, 入侵/v, 烏克蘭/ns, 的/ude1, 可能性/n, ，/w, 除了/p, 在/p, 專訪/n, 中/f, 明確/a, 譴責/v, 俄羅斯/ns, 外/f, ，/w, 她/rr, 似乎/d, 也/d, 暗示/v, 西方/n, 必須/d, 承擔/v, 部分/n, 責任/n, 。/w, 她/rr, 認為/v, 俄羅斯/ns, 犯下/v, 「/w, 大/a, 錯/n, 」/w, ，/w, 「/w, 我/rr, 要/v, 講/v, 清楚/a, ，/w, 我/rr, 不/d, 同意/v, 普丁/nr, 先生/n, 的/ude1, 觀點/n, ，/w, 但/c, 我們/rr, 未能/v, 創造/v, 一/m, 個/q, 能/v, 避免/v, 這個/rz, （/w, 烏克蘭/ns, 戰爭/n, ）/w, 的/ude1, 安全/a, 架構/n, ，/w, 我們/rr, 也/d, 應該/v, 考慮/v, 這/rz, 一/m, 點/q, 。/w, 」/w,#end\\n#begin, 針對/p, 外界/n, 批評/v, ，/w, 在/p, 她/rr, 帶領/v, 下/f, 的/ude1, 德國/ns, 陷入/v, 透過/v, 貿易/n, 關係/n, 就/d, 能/v, 讓/v, 俄羅斯/ns, 民主/n, 化/v, 的/ude1, 幻想/n, ，/w, 梅克爾/nr, 也/d, 予以/vx, 駁斥/v, ，/w, 「/w, 我/rr, 不/d, 相信/v, 貿易/n, 能/v, 改變/v, 普丁/nr, 」/w, ，/w, 強調/v, 她/rr, 的/ude1, 信念/n, 是/vshi, 政治/n, 合作/n, 是/vshi, 可能/v, 的/ude1, ，/w, 至少/d, 與/cc, 俄/b, 羅斯/nr, 發/n, 展/vg, 一些/m, 經/n, 濟/w, 關/n, 係/nz, 是/vshi, 明智/a, 的/ude1, 。/w,  /w]\\n'"
      ]
     },
     "execution_count": 5,
     "metadata": {},
     "output_type": "execute_result"
    }
   ],
   "source": [
    "\"\"\"\n",
    "#begin, 前/f, 德國/ns, 總理/nnt, 梅克爾/nr, (/w, Angela/nx, Markel/nx, )/w, 昨日/t, 表示/v, 對於/p, 俄/ns, 烏/ns, 情勢/n, 演變/v, 至此/, 「/w, 沒/d, 有/vyou, 什麼/ry, 好/d, 道歉/vi, 的/ude1, 」/w, 強調/v, 自己/rr, 已/d, 努力/ad, 。/#end\n",
    "#bigin, 她/rr, 也/d, 為/v, 自己/rr, 於/p, 2008/m, 年/qt, 反對/v, 烏克蘭/ns, 加入/v, 北/f, 大西洋/ns, 公約/n, 組織/n, NATO/nx, 的/ude1, 決定/n, 辯護/v, ,/w, 指出/v, 當時/tg, 如果/c, 讓/v, 烏/ns, 加入/v, 北約/nt, 恐/vg, 讓/v, 普丁/nr, 出手/vi, ,/w, 同時/tg, 烏克蘭/ns, 也/d, 還是/c, 個/q, 充滿/v, 腐敗/v, 由/p, 寡頭/ad, 治理/v, 的/ude1, 國家/nt, 。/,w#end\n",
    "#begin, 綜合/v, 英國/nr, 《/w, 衛報/nz, 》/w, （/w, The/nx, Guardian/nx, ）/w, 、/w, 英國/ns 廣播/v, 公司/nis, （/w, BBC/nx, ）/w, 、/w, 路透社/nt, 等/udeng, 外媒/r, 報導/v, ，/w, 梅克爾/nr, 昨日/t, 接受/v, 德國/ns, 《/w, 明鏡周刊/nt, 》/w, （/w, Der/nx, Spiegel/nx, ）/w, 記者/n, 歐桑/nr, （/w, Alexander/nx, Osang/nx, ）/w, 訪問/v, ，/w, 這/r, 是/vshi, 她/rr, 卸任/vi, 總理/n, 職務/n, 6/m, 個/q, 月/qt, 後/f, 的/ude1, 首場/n, 主要/a, 專訪/n, 。/,w#end\n",
    "#begin, 當/p, 被/pbei, 問到/v, 她/rr, 是否/ry, 後悔/v, 在/p, 2008/m, 年/qt, 反對/v, 烏克蘭/ns, 加入/v, 北約/nt, 時/ut, ，/w, 梅克爾/nr, 辯護/v, 她/rr, 當時/t, 希望/v, 避免/v, 升高/v, 與/cc, 俄羅斯/ns, 的/ude1, 緊張/a, 情勢/n, ，/w, 同時/t, 烏克蘭/ns, 那/rzv, 時/ut, 也/d, 尚未/d, 準備/v, 好/d, 加入/v, 北約/nt, 。/,w#end\n",
    "#begin, 「/w, 烏克蘭/ns, 當時/t, 並不/d, 是/vshi, 我們/rr, 現在/t, 所/usuo, 認識/v, 的/ude1, 國家/n, ，/w, 是/vshi, 一/m, 個/q, 非常/d, 分裂/vi, 的/ude1, 烏克蘭/ns, ，/w, 就算/d, 是/vshi, 改革派/n, 提摩申科/nr, （/w, Yulia/nx, Tymoshenko/nx, ）/w, 、/w, 尤申科/nr, （/w, Viktor/nx, Yushchenko/nx, ）/w, 也/d, 意見/n, 相左/vi, ，/w, 這/r, 代表/v, 它/rr, 不/d, 是/vshi, 一/m, 個/q, 內在/n, 民主/n, 強化/v, 的/ude1, 國家/n, 。/w, 」/w,#end\n",
    "#begin, 她/rr, 也/d, 提到/v, 烏克蘭/ns, 當時/t, 仍/d, 是/vshi, 由/p, 寡頭/n, 治理/v, 的/ude1, 國家/n, ，/w, 「/w, 這個/rz, 國家/n, 不/d, 穩定/v, ，/w, 充滿/v, 腐敗/n, 。/w, 」/w,#end\n",
    "#begin, 梅克爾/nr, 也/d, 解釋/v, ，/w, 當時/t, 若/c, 同意/v, 烏克蘭/ns, 加入/v, 北約/nt, ，/w, 在/p, 俄羅斯/ns, 總統/n, 普丁/nr, 眼中/s, 將/d, 等同/vi, 於/up, 「/w, 宣戰/v, 」/w, ，/w, 她/rr, 說/v, 非常/d, 了解/v, 普丁/nr, 的/ude1, 想法/n, ，/w, 不/d, 希望/v, 進一步/d, 激怒/v, 普丁/nr, 。/w,#end\n",
    "#begin, 梅克爾/nr, 稱/v, 是/vshi, 基於/v, 烏克蘭/ns, 的/ude1, 最大/a, 利益/n, 才/d, 阻擋/v, 烏克蘭/ns, 加入/v, 北約/nt, ，/w, 強調/v, 真正/d, 加入/v, 北約/nt, 須/d, 經歷/v, 一/m, 段/q, 過程/n, ，/w, 「/w, 我/rr, 知道/v, 這個/rz, 過程/n, 中/ut, 普丁/nr, 會/v, 對/v, 烏克蘭/ns, 做/v, 一些/m, 不利/a, 於/up, 它/rr, 的/ude1, 事/n, 。/w, 」/w,#end\n",
    "#begin, 關於/p, 為了/p, 解決/v, 烏/ns, 東/f, 衝突/n, 而/cc, 在/p, 2014/m, 、/w, 2015/m, 年/qt, 簽署/v, 的/ude1, 《/w, 明斯克/nsf, 協議/n, 》/w, ，/w, 梅克爾/nr, 強調/v, 這/rz, 2/m, 份/q, 協議/n, 為/p, 烏克蘭/ns, 爭取/v, 了/ule, 時間/n, 、/w, 強化/v, 自己/rr, 的/ude1, 軍隊/n, ，/w, 「/w, 它/rr, 讓/v, 這/rz, 場/q, 紛爭/n, 冷靜/v, 下來/v, ，/w, 為/p, 烏克蘭/ns, 爭取/v, 時間/n, 發展/v, 成/d, 現在/t, 的/ude1, 樣子/n, 。/w, 」/w,#end\n",
    "#begin, 「/w, 如果/c, 我/rr, 說/v, 和/cc, 那/rzv, 個/q, 男人/n, （/w, 指/v, 普丁/nr, ）/w, 沒/v, 什麼/nzv, 好/a, 談/v, 的/ude1, ，/w, 我/rr, 會/v, 感到/v, 很/d, 糟/n, 」/w, 「/w, 沒/d, 有/vyou, 成功/v, 令人/v, 相當/d, 難過/v, ，/w, 但/c, 我/rr, 不/d, 怪/v, 自己/rr, 沒/d, 有/vyou, 嘗試/v, 。/w, 」/w, 她/rr, 認為/v, 自己/rr, 已/d, 努力/v, ，/w, 「/w, 我/rr, 不/d, 需要/v, 因為/v, 不/d, 夠/d, 努力/v, 而/cc, 責怪/v, 自己/nz, ，/w, 我/rr, 不/d, 認為/v, 我/rr, 應該/v, 說/v, 『/w, 那/rz, 是/vshi, 錯/n, 的/ude1, 』/w, ，/w, 這/rz, 也/d, 是/vshi, 為什麼/ryv, 我/rr, 沒/v, 什麼/ry, 好/a, 道歉/vi, 的/ude1, 。/w, 」/w,#end\n",
    "#begin, 關於/p, 德國/ns, 的/ude1, 寬容/n, 態度/n, 是否/v, 導致/v, 克宮/ns, 更加/d, 膽/n, 大/a, 妄/d, 為/v, ，/w, 梅克爾/nr, 認為/v, 蘇聯/nt, 解體/v, 製造/v, 的/ude1, 地緣/n, 政治/n, 問題/n, 在/p, 她/rr, 16/m, 年/qt, 任期/n, 中/f, 仍/d, 持續/v, 存在/v, ，/w, 「/w, 沒/d, 辦法/n, 合適/v, 地/ude2, 結束/v, 冷戰/m, ，/w, 俄羅斯/ns, 問題/n, 一直/d, 存在/v, 。/w, 」/w,#end\n",
    "#begin, 梅克爾/nr, 表示/v, 一直/d, 到/v, 任期/n, 結束/v, 前/f, 幾/r, 周/qt, 才/d, 開始/v, 嚴肅/a, 看待/v, 俄羅斯/ns, 入侵/v, 烏克蘭/ns, 的/ude1, 可能性/n, ，/w, 除了/p, 在/p, 專訪/n, 中/f, 明確/a, 譴責/v, 俄羅斯/ns, 外/f, ，/w, 她/rr, 似乎/d, 也/d, 暗示/v, 西方/n, 必須/d, 承擔/v, 部分/n, 責任/n, 。/w, 她/rr, 認為/v, 俄羅斯/ns, 犯下/v, 「/w, 大/a, 錯/n, 」/w, ，/w, 「/w, 我/rr, 要/v, 講/v, 清楚/a, ，/w, 我/rr, 不/d, 同意/v, 普丁/nr, 先生/n, 的/ude1, 觀點/n, ，/w, 但/c, 我們/rr, 未能/v, 創造/v, 一/m, 個/q, 能/v, 避免/v, 這個/rz, （/w, 烏克蘭/ns, 戰爭/n, ）/w, 的/ude1, 安全/a, 架構/n, ，/w, 我們/rr, 也/d, 應該/v, 考慮/v, 這/rz, 一/m, 點/q, 。/w, 」/w,#end\n",
    "#begin, 針對/p, 外界/n, 批評/v, ，/w, 在/p, 她/rr, 帶領/v, 下/f, 的/ude1, 德國/ns, 陷入/v, 透過/v, 貿易/n, 關係/n, 就/d, 能/v, 讓/v, 俄羅斯/ns, 民主/n, 化/v, 的/ude1, 幻想/n, ，/w, 梅克爾/nr, 也/d, 予以/vx, 駁斥/v, ，/w, 「/w, 我/rr, 不/d, 相信/v, 貿易/n, 能/v, 改變/v, 普丁/nr, 」/w, ，/w, 強調/v, 她/rr, 的/ude1, 信念/n, 是/vshi, 政治/n, 合作/n, 是/vshi, 可能/v, 的/ude1, ，/w, 至少/d, 與/cc, 俄/b, 羅斯/nr, 發/n, 展/vg, 一些/m, 經/n, 濟/w, 關/n, 係/nz, 是/vshi, 明智/a, 的/ude1, 。/w,  /w]\n",
    "\"\"\""
   ]
  },
  {
   "cell_type": "code",
   "execution_count": 6,
   "metadata": {},
   "outputs": [
    {
     "data": {
      "text/plain": [
       "'\\n#begin, 日本/ns, 關東/ns, 地區/n, 近日/t, 天氣/n, 酷熱/a, ，/w, 東京/ns, 電力/n, 公司/n, 評估/v, 轄內/a, 地區/n, 電力/n, 供需/n, 嚴峻/a, ，/w, 日本/n, 政府/nt, 首度/n, 發布/v, 「/w, 電力/n, 供需/n, 窘迫/a, 注意/n, 報/n, 」/w, （/w, 次於/p, 警報/n, ）/w, 要求/v, 民眾/n, 下午/t, 3時/t, 至/p, 6時/t, 盡量/d, 節電/v 。/w, #end\\n#begin, 日本/ns, 放送/v, 協會/v, （/w, NHK/nx, ）/w, 報導/v, 日本/ns, 氣象廳/nt, 今天/t, （/w, 6/27/t, ）/w, 上午/t, 宣布/v, ，/w, 關東/ns, 甲信/ns, 東海/ns, 地方/n, 以及/cc, 九州/ns, 南部/f, 梅雨季/n, 已過/d, ，/w, 這/r 是/vshi, 關東/ns, 甲信/ns, 地區/n, 歷來/d, 梅雨季/n, 最早/d, 結束/v, 的/ude1, 紀錄/n, 。/w, 梅雨季/n 一過/t, ，/w, 天氣/n, 變得/v, 酷熱/a, ，/w, 氣象廳/nt, 呼籲/v, 民眾/n, 注意/v, 避免/v, 中暑/vi, 。/w, #end,\\n#begin, 日本/ns, 將/d, 攝氏/n, 30/m, 度/q, 以上/f, 稱為/v, 「/w, 真夏/a, 日/n, 」/w, ，/w, 35/m, 度/q, 以上/f, 稱為/v, 「/w, 猛暑/n, 日/n, 」/w, 。/w, 東京/ns, 市/n, 中心/f, 今天/t, 下午/t, 觀測到/v, 攝氏/n, 35/m, 度/q, ，/w, 昨天/t, 更/d, 飆出/v, 追平/v, 當地/ns, 6月/t, 最高溫/n, 紀錄/n, 的/ude1, 攝氏/n, 36.2/m, 度/q, 。/w, 東京/ns, 連/v, 3天/t, 呈現/v, 猛暑/n, 日/n, ，/w, 是/vshi, 東京/ns, 氣象/n, 觀測/v, 史上/a, 首見/v, 。/w, #end,\\n#begin, 今天/t, 下午/t, 約/d, 2時/t, 30分/t, （/w, 台灣/ns, 時間/t, 下午/t, 1時/t, 30分/t, ）/w, ，/w, 日本/ns, 關東/ns, 甲信/ns, 地方/n, 的/ude1, 櫪木縣/ns, 佐野/ns, 觀察到/v, 攝氏/n, 39.8/m, 度/q, 、/w, 埼玉縣/ns, 鳩山町/ns, 攝氏/n, 38.7/m, 度/q, 、/w, 山梨縣/ns, 大約/d, 攝氏/n, 38.5/m, 度/q, 。/w, #end,\\n#begin, 關東/ns, 地方/n, 今天/t, 酷熱/a, ，/w, 民眾/n, 使用/v, 冷氣/n, 等/udeng, 電力/n, 需求/n, 增大/v, 。/w, 日本/ns, 政府/nt, 昨天/t, 已/d, 預估/v, 東京/ns, 電力/n, 公司/nt, 轄內/a, 地區/n, 今天/t, 備轉/a, 容量率/n, 可能/d, 低於/a, 5%/m, ，/w, 於是/cc, 發布/v, 「/w, 電力/n, 供需/n, 窘迫/a, 注意/n, 報/n 」/w, ，/w, 呼籲/v, 各界/r, 盡量/d, 節約/v, 用電/n, 。/w, #end,\\n#begin, 電力/n, 供需/n, 窘迫/a, 注意/n, 報/n, 是/vshi, 今年/t, 5月/t, 為了/p, 呼籲/v, 民眾/n, 提早/d, 節約/v, 用電/v, 所/usuo, 新設/v, 的/ude1, 措施/n, ，/w, 這次/r, 是/vshi, 首度/n, 發布/v, 注意/n, 報/n, 。/w, #end,\\n#begin, 日本/ns, 政府/ns, 呼籲/v, 東京/ns, 電力/n, 公司/nt, 轄內/a, 1/m, 都/n, 8/m, 縣/n, 的/ude1, 家庭/nt, 、/w, 企業/nt, 今天/t, 下午/t, 3時/t, 至/v, 6時/t, 之間/f, ，/w, 尤其/d, 是/vhsi, 下午/t, 4時/t, 至/v, 5時/t, 之間/f, 盡量/d, 配合/v, 節約/v, 用電/n, 。/w, #end,\\n#begin, 但是/c, 日本/ns, 政府/ns, 也/d, 擔心/v, 天/n, 熱/a, 導致/v, 民眾/n, 中暑/v, 的/ude1, 高/a, 危險性/n, ，/w, 呼籲/v, 民眾/n, 要/d, 適當/d, 的/ude1, 使用/v, 冷氣/n, 、/w, 補充/v, 水分/n, ，/w, 充分/d, 注意/v, 不要/d, 中暑/vi, ，/w, 不需/d, 使用/v, 的/ude1, 照明/v, 設備/n, 等/udeng, 盡量/d, 關閉/v, 以/p, 節約/v, 用電/n, 。/w, #end,\\n#begin, 日本/ns, 資源/n, 能源廳/nt, 電力/n, 基盤/n, 整備課/nt, 課長/n, 小川要/nr, 今天/t, 下午/t, 召開/v, 記者會/n, 表示/v, ，/w, 今天/t, 電力/n, 供需/n, 情況/n, 比/p, 昨天/t, 預估/v, 的/ude1, 還要/d, 嚴峻/a, 些/d, ，/w, 因為/c, 電力/n, 需求/n, 從/p, 今早/t, 開始/v, 便/d, 超過/v, 昨天/t, 的/ude1, 預估/n, ，/w, 氣溫/n, 也/d, 高於/a, 預測/v, ，/w, 預估/v, 今天/t, 傍晚/t, 電力僧/n, 供需/n, 將/d, 趨於/v, 嚴峻/a, ，/w, 盼/v, 民眾/n, 配合/v, 節約/v, 用電/n, 。/w, #end,\\n#begin, 日本/ns, 電力/n, 供需/n, 窘迫/a, 「/w, 注意/n, 報/n, 」/w, 與/cc, 「/w, 警報/n, 」/w, 的/ude1, 差別/n, 在於/p, 當/p, 預估/v, 隔天/t, 備轉/v, 容量率/n, 低於/a, 5%/m, 時/tg, 會/v, 先/d, 發布/v,「/w, 注意/n, 報/n, 」/w, ；/w, 如果/c, 預估/v, 隔天/t, 備轉/v, 容量率/n, 可能/d, 低於/v, 3%/m, 時/ut, ，/w, 將/d, 發布/v, 「/w, 警報/n, 」/w, 強化/v, 相關/a, 對策/n, ，/w, 進一步/d, 呼籲/v, 各界/r, 配合/v, 節電/n, 。/w, #end,\\n#begin, 日本/ns, 埼玉縣/ns, 熊谷/ns, 與/cc, 越谷/ns, 昨天/t, 觀測到/v, 攝氏/n, 36.4/m, 度/q, ，/w, 24日/t, 起/vf, 連續/v, 3天/t, 猛署/n, 日/n, 。/w, 一/m, 名/q, 住在/v, 埼玉縣/ns, 川越市/ns, 的/ude1, 94/m, 歲/n, 男性/n, 25日/t, 疑似/d, 因/d, 中暑/vi, 死亡/vi, ，/w,  為/v, 今年/t, 傳出/v, 因/d, 中暑/vi, 死亡/vi, 首例/n, 。/w #end,\\n'"
      ]
     },
     "execution_count": 6,
     "metadata": {},
     "output_type": "execute_result"
    }
   ],
   "source": [
    "\"\"\"\n",
    "#begin, 日本/ns, 關東/ns, 地區/n, 近日/t, 天氣/n, 酷熱/a, ，/w, 東京/ns, 電力/n, 公司/n, 評估/v, 轄內/a, 地區/n, 電力/n, 供需/n, 嚴峻/a, ，/w, 日本/n, 政府/nt, 首度/n, 發布/v, 「/w, 電力/n, 供需/n, 窘迫/a, 注意/n, 報/n, 」/w, （/w, 次於/p, 警報/n, ）/w, 要求/v, 民眾/n, 下午/t, 3時/t, 至/p, 6時/t, 盡量/d, 節電/v 。/w, #end\n",
    "#begin, 日本/ns, 放送/v, 協會/v, （/w, NHK/nx, ）/w, 報導/v, 日本/ns, 氣象廳/nt, 今天/t, （/w, 6/27/t, ）/w, 上午/t, 宣布/v, ，/w, 關東/ns, 甲信/ns, 東海/ns, 地方/n, 以及/cc, 九州/ns, 南部/f, 梅雨季/n, 已過/d, ，/w, 這/r 是/vshi, 關東/ns, 甲信/ns, 地區/n, 歷來/d, 梅雨季/n, 最早/d, 結束/v, 的/ude1, 紀錄/n, 。/w, 梅雨季/n 一過/t, ，/w, 天氣/n, 變得/v, 酷熱/a, ，/w, 氣象廳/nt, 呼籲/v, 民眾/n, 注意/v, 避免/v, 中暑/vi, 。/w, #end,\n",
    "#begin, 日本/ns, 將/d, 攝氏/n, 30/m, 度/q, 以上/f, 稱為/v, 「/w, 真夏/a, 日/n, 」/w, ，/w, 35/m, 度/q, 以上/f, 稱為/v, 「/w, 猛暑/n, 日/n, 」/w, 。/w, 東京/ns, 市/n, 中心/f, 今天/t, 下午/t, 觀測到/v, 攝氏/n, 35/m, 度/q, ，/w, 昨天/t, 更/d, 飆出/v, 追平/v, 當地/ns, 6月/t, 最高溫/n, 紀錄/n, 的/ude1, 攝氏/n, 36.2/m, 度/q, 。/w, 東京/ns, 連/v, 3天/t, 呈現/v, 猛暑/n, 日/n, ，/w, 是/vshi, 東京/ns, 氣象/n, 觀測/v, 史上/a, 首見/v, 。/w, #end,\n",
    "#begin, 今天/t, 下午/t, 約/d, 2時/t, 30分/t, （/w, 台灣/ns, 時間/t, 下午/t, 1時/t, 30分/t, ）/w, ，/w, 日本/ns, 關東/ns, 甲信/ns, 地方/n, 的/ude1, 櫪木縣/ns, 佐野/ns, 觀察到/v, 攝氏/n, 39.8/m, 度/q, 、/w, 埼玉縣/ns, 鳩山町/ns, 攝氏/n, 38.7/m, 度/q, 、/w, 山梨縣/ns, 大約/d, 攝氏/n, 38.5/m, 度/q, 。/w, #end,\n",
    "#begin, 關東/ns, 地方/n, 今天/t, 酷熱/a, ，/w, 民眾/n, 使用/v, 冷氣/n, 等/udeng, 電力/n, 需求/n, 增大/v, 。/w, 日本/ns, 政府/nt, 昨天/t, 已/d, 預估/v, 東京/ns, 電力/n, 公司/nt, 轄內/a, 地區/n, 今天/t, 備轉/a, 容量率/n, 可能/d, 低於/a, 5%/m, ，/w, 於是/cc, 發布/v, 「/w, 電力/n, 供需/n, 窘迫/a, 注意/n, 報/n 」/w, ，/w, 呼籲/v, 各界/r, 盡量/d, 節約/v, 用電/n, 。/w, #end,\n",
    "#begin, 電力/n, 供需/n, 窘迫/a, 注意/n, 報/n, 是/vshi, 今年/t, 5月/t, 為了/p, 呼籲/v, 民眾/n, 提早/d, 節約/v, 用電/v, 所/usuo, 新設/v, 的/ude1, 措施/n, ，/w, 這次/r, 是/vshi, 首度/n, 發布/v, 注意/n, 報/n, 。/w, #end,\n",
    "#begin, 日本/ns, 政府/ns, 呼籲/v, 東京/ns, 電力/n, 公司/nt, 轄內/a, 1/m, 都/n, 8/m, 縣/n, 的/ude1, 家庭/nt, 、/w, 企業/nt, 今天/t, 下午/t, 3時/t, 至/v, 6時/t, 之間/f, ，/w, 尤其/d, 是/vhsi, 下午/t, 4時/t, 至/v, 5時/t, 之間/f, 盡量/d, 配合/v, 節約/v, 用電/n, 。/w, #end,\n",
    "#begin, 但是/c, 日本/ns, 政府/ns, 也/d, 擔心/v, 天/n, 熱/a, 導致/v, 民眾/n, 中暑/v, 的/ude1, 高/a, 危險性/n, ，/w, 呼籲/v, 民眾/n, 要/d, 適當/d, 的/ude1, 使用/v, 冷氣/n, 、/w, 補充/v, 水分/n, ，/w, 充分/d, 注意/v, 不要/d, 中暑/vi, ，/w, 不需/d, 使用/v, 的/ude1, 照明/v, 設備/n, 等/udeng, 盡量/d, 關閉/v, 以/p, 節約/v, 用電/n, 。/w, #end,\n",
    "#begin, 日本/ns, 資源/n, 能源廳/nt, 電力/n, 基盤/n, 整備課/nt, 課長/n, 小川要/nr, 今天/t, 下午/t, 召開/v, 記者會/n, 表示/v, ，/w, 今天/t, 電力/n, 供需/n, 情況/n, 比/p, 昨天/t, 預估/v, 的/ude1, 還要/d, 嚴峻/a, 些/d, ，/w, 因為/c, 電力/n, 需求/n, 從/p, 今早/t, 開始/v, 便/d, 超過/v, 昨天/t, 的/ude1, 預估/n, ，/w, 氣溫/n, 也/d, 高於/a, 預測/v, ，/w, 預估/v, 今天/t, 傍晚/t, 電力僧/n, 供需/n, 將/d, 趨於/v, 嚴峻/a, ，/w, 盼/v, 民眾/n, 配合/v, 節約/v, 用電/n, 。/w, #end,\n",
    "#begin, 日本/ns, 電力/n, 供需/n, 窘迫/a, 「/w, 注意/n, 報/n, 」/w, 與/cc, 「/w, 警報/n, 」/w, 的/ude1, 差別/n, 在於/p, 當/p, 預估/v, 隔天/t, 備轉/v, 容量率/n, 低於/a, 5%/m, 時/tg, 會/v, 先/d, 發布/v,「/w, 注意/n, 報/n, 」/w, ；/w, 如果/c, 預估/v, 隔天/t, 備轉/v, 容量率/n, 可能/d, 低於/v, 3%/m, 時/ut, ，/w, 將/d, 發布/v, 「/w, 警報/n, 」/w, 強化/v, 相關/a, 對策/n, ，/w, 進一步/d, 呼籲/v, 各界/r, 配合/v, 節電/n, 。/w, #end,\n",
    "#begin, 日本/ns, 埼玉縣/ns, 熊谷/ns, 與/cc, 越谷/ns, 昨天/t, 觀測到/v, 攝氏/n, 36.4/m, 度/q, ，/w, 24日/t, 起/vf, 連續/v, 3天/t, 猛署/n, 日/n, 。/w, 一/m, 名/q, 住在/v, 埼玉縣/ns, 川越市/ns, 的/ude1, 94/m, 歲/n, 男性/n, 25日/t, 疑似/d, 因/d, 中暑/vi, 死亡/vi, ，/w,  為/v, 今年/t, 傳出/v, 因/d, 中暑/vi, 死亡/vi, 首例/n, 。/w #end,\n",
    "\"\"\""
   ]
  },
  {
   "cell_type": "code",
   "execution_count": 7,
   "metadata": {},
   "outputs": [
    {
     "data": {
      "text/plain": [
       "'\\n#begin, 東京/ns, 本月/t, 11/m, 人/q, 中暑/v, 死/v, 、/w, 今/t, 飆/v, 36.4/m °C/nx, ，/w, 雙/d, 破/v, 10年/t, 紀錄/n, #end,\\n#begin, 日本/ns, 東京市/ns, 中心/f, 今天/t, （/w, 6/30/t, ）/w, 飆出/v, 攝氏/n, 36.4/m, 度/q, 高溫/n, ，/w, 創/v, 當地/r, 6月/t, 觀測史/n, 新/a, 高/a, 紀錄/n, 。/w, 連日/t,  高溫/n,  讓/v, 東京都/ns, 6月/t, 截至/v, 29日/t, 為止/d, ，/w, 有/vyou, 11/m, 人/q, 疑/v, 因/p, 中暑/v, 死亡/v, ，/w, 同/c, 創/v, 10年/t, 來/d, 6月/t, 新/a, 高/a, 紀錄/n, 。/w, 另/c, 有/vyou, 多個/r, 城市/n, 熱到/v, 將近/d, 攝氏/n, 40/m, 度/q, ，/w, 總計/v, 日本/ns, 全國/r, 今天/t, 有/vyou, 160多/m, 個/q, 觀測點/n, 氣溫/n, 都/d, 飆破/v, 攝氏/n, 35/m, 度/q, 。/w, #end,\\n#begin, 《/w, 讀賣/nt, 新聞/n, 》/w, 報導/v, ，/w, 東京市/ns, 中心/f, 今天/t, 中午/t, 12時/t, 43分/t, 被/pbei, 觀測到/v, 36.4/m, ℃/nx, 高溫/n, ，/w, 創/v, 當地/r, 6月/t, 觀測史/n, 新/a, 高/a, 紀錄/n, ，/w, 也/d, 是/vhsi, 連續/d, 6天/t, 出現/v, 逾/v, 35/m, ℃/nx, 的/ude1, 「/w, 猛暑/n, 日/n, 」/w, 。/w, 同/c, 創/v, 當地/r, 6月/t, 觀測史/n, 新/a, 高/a, 紀錄/n, 的/ude1, 地區/n, ，/w, 還/c, 包括/v, 千葉縣/ns, 船橋市/ns, 的/ude1, 37.1/m, ℃/nx, 、/w, 橫濱市/ns, 中區/f, 的/ude1, 35.5/m, ℃/nx, 等/udeng, 。/w, #end,\\n#begin, 日本/ns, 關東/ns, 、/w, 東海/ns, 其他/r, 城市/n, 今天/t, 的/ude1, 高溫/n, 也/d, 很/d, 驚人/v, 。/w, 據/p, NHK/nx, 報導/v, ，/w, 當地/r, 時間/n, 下午/t, 2時/t, 30分/t, 為止/d, 已/d, 有/vyou, 多處/r, 測得/v, 逼近/v, 40/m, ℃/nx, 的/ude1, 氣溫/n, ，/w, 埼玉縣/ns, 鳩山町/ns, 39.9/m, ℃/nx, 、/w, 寄居町/ns, 39.6/m, ℃/nx, ；/w, 群馬縣/ns, 桐生市/ns, 與/c, 伊勢崎市/ns, 、/w, 靜岡縣/ns, 濱松市/ns, 船明/ns, 39.4/m, ℃/nx, ；/w, 愛知縣/ns, 豐田市/ns, 、/w, 岐阜縣/ns, 多治見市/ns, 39.3/m, ℃/nx, 。/w, #end\\n#begin, 此外/c, ，/w, 山梨縣/ns, 甲州市/ns, 勝沼路/ns, 38.9/m, ℃/nx, ，/w, 名古屋市/nx, 37.9/m, ℃/nx, ，/w, 京都市/ns, 37.1/m, ℃/nx, ，/w, 福島縣/ns, 廣野町/ns, 36.5/m, ℃/nx, ，/w, 東京市/ns, 中心/f, 、/w, 大分縣/ns, 日田市/ns, 也/d, 飆到/v, 36.4/m, 度/q, ℃/nx, 。/w, 總計/v, 日本/ns, 全國/r, 有/vyou, 160多/m, 個/q, 觀測點/n, 氣溫/n, 都/d 達到/v, 「/w, 猛暑/n, 日/n, 」/w, 的/ude1, 標準/n, 。/w, #end\\n#begin, 由於/c, 中暑/v, 危險性/n, 極高/a, ，/w, 日本/ns, 氣象廳/nt, 和/c, 環境省/nt, 在/p, 關東/ns, 甲信/ns, 至/p, 九州/ns, 各地/r, 發佈/v, 「/w, 中暑/v, 警戒/v, 警報/n, 」/w, ，/w, 提醒/v, 大眾/r, 務必/d, 注意/v, 熱/n, 傷害/n, 。/w, #end,\\n#begin, 日本/ns, 放送/v, 協會/n, （/w, NHK/nx, ）/w, 報導/v, ，/w, 警視廳/nt, 等/udeng, 單位/n, 表示/v, ，/w, 東京都/ns, 從/p, 進入/v, 6月/t, 以來/d, ，/w, 到/p, 29日/t, 止/d, 已/d, 有/vyou, 11/m, 名/q, 男女/n, 疑/v, 因/p, 中暑/v, 死亡/v, ，/w, 年齡/n, 介於/p, 40多/m, 歲/q, 到/p, 90多/m, 歲/q, ，/w, 男女/n, 均/d, 有/vyou, ；/w, 從/p, 年齡/n, 別/n, 來看/v, ，/w, 70多/m, 歲/q, 和/c, 80多/m, 歲/q, 各/d, 4/m, 人/q, 最多/a, ；/w, 11/m, 人/q, 中/f, 有/vyou, 9/m, 人/q, 是/vshi, 倒臥/v, 自家/r, 等/udeng, 室內/f, 被/pbei, 發現/v, 。/w, #end\\n#begin, 其中/f, ，/w, 足立區/ns, 在/p, 28日/t, 有/vyou, 一/m, 名/q, 70多/m, 歲/q, 女性/n, 在/p, 自家/r, 被褥/n, 被/pbei, 發現/v, 已經/d, 死亡/v, ，/w, 死因/n, 是/vshi, 中暑/v, ，/w, 該名/r, 女性/n, 獨居/v, ，/w, 現場/r, 窗戶/n, 關閉/v, ，/w, 空調/n, 也/d, 沒/d, 開/v, ；/w, 文京區/ns, 一/m, 處/q, 公寓/n, ，/w, 27日/t, 也/d, 有/vyou, 一/m, 名/q, 70多/m, 歲/q, 男性/n, 倒下/v, ，/w, 送醫不治/v, 。/w, #end\\n#begin, 東京/ns, 消防廳/nt, 呼籲/v, 民眾/r, 不要/d, 忍耐/v, 而/c, 不/d, 打開/v, 冷氣/n, ，/w, 並/c, 在/p, 感到/v, 口渴/n, 前/f, 就/d, 勤於/v, 補充/v, 水分/n, ，/w, 採取/v, 避免/v, 中暑/v, 的/ude1, 對策/n, 。/w, #end\\n#begin, 東京都/ns, 29日/t, 有/vyou, 215/m, 人/q, 疑似/v, 中暑/v, 被/pbei, 送醫/v, ，/w, 連續/d, 兩天/t, 送醫/v, 人數/n, 都/d, 超過/v, 200/m, 人/q, ，/w, 是/vshi, 近/d, 10年/t, 首度/d, 在/p, 6月/t, 就/d, 有/vyou, 單日/t, 逾/v, 200/m, 人/q, 送醫/v, ；/w, 而/c, 6月/t, 截至/v, 29日/t, 總計/v, 有/vyou, 1223/m, 人/q, 因/c, 疑似/v, 中暑/v, 送醫/v, ，/w, 也/d, 創下/v, 10年/t, 來/d, 新/a, 高/a, 。/w, #end\\n#begin, 另外/c, ，/w, 四國/ns, 地方/r, 的/ude1, 德島縣/ns, 鳴門市/ns, 有/vyou, 一/m, 名/q, 80多/m, 歲/q, 男性/n, 6月/t, 29日/t, 在/p, 自宅/r, 死亡/v, ，/w, 經/d, 詳細/a, 調查/v, 得知/v, 死因/n, 是/vshi, 中暑/v, ，/w, 成為/v, 德島縣/vns, 內/f, 今年/t, 首例/n, 。/w, 消防/n, 等/udeng, 單位/n, 表示/, ，/w, 日間/n, 照護/v, 人員/n, 當天/t, 上午/t, 9時/t, 40分/t, 左右/a, 抵達/v, 這名/r, 長者/n, 家中/f, 時/ut, 發現/v, 他/r, 倒臥/v, 自宅/r, 無/d, 呼吸/n, 心跳/n, ，/w, 當時/tg, 室內/r, 並/d, 未/d, 使用/v, 冷氣/v, 及/c, 電風扇/n, 等/udeng, 電器/n, ，/w, 長者/r, 送醫不治/v, ，/w, 經/d, 詳細/a, 調查/v, 死因/n, 是/vshi, 中暑/v, 。/w, #end\\n#begin, 德島縣/ns, 一連/d, 多/a, 日/m, 都/d, 是/vshi, 高溫/n, 逾/v, 30/m, ℃/nx, 的/ude1, 酷暑/n, ，/w, 氣象/n, 單位/n, 29日/t, 也/d, 對/p, 德島縣/ns, 發布/v, 「/w, 中暑/v, 警戒/v, 警報/n, 」/w, 。/w, #end\\n#begin, 由於/c, 接下來/c, 仍會/d, 持續/d, 高溫/n, 炎熱/a, 天氣/n, ，/w, 地方/r, 氣象台/nt, 與/c, 消防/v, 單位/n, 呼籲/v, ，/w, 民眾/r, 應/d, 勤於/v, 補充/v, 水分/n, 並/c, 開啟/v, 冷氣/n, 等/udeng, 嚴防/v, 中暑/v, 。/w, #end\\n#begin, 連日/d, 高溫/n, 也/d, 令/d, 用電/n, 吃緊/a, 的/ude1, 問題/n, 更加/d, 嚴峻/a, 。/w, 日本/ns, 政府/rt, 在/p, 東京/ns, 電力/n, 管轄區/n, 內/f, 發佈/v, 「/w, 電力/n, 供需/n, 緊張/a, 注意/v, 報/n, 」/w, ，/w, 要求/vm 家庭/nt, 和/c, 企業/nt, 連續/d, 4天/t, 節約/v, 用電/n, ，/w, 預計/v, 今天/t, （/w, 6/30/t, ）/w, 傍晚/t, 6點/t, 宣佈/v, 解除/v, 。/w, #end\\n'"
      ]
     },
     "execution_count": 7,
     "metadata": {},
     "output_type": "execute_result"
    }
   ],
   "source": [
    "\"\"\"\n",
    "#begin, 東京/ns, 本月/t, 11/m, 人/q, 中暑/v, 死/v, 、/w, 今/t, 飆/v, 36.4/m °C/nx, ，/w, 雙/d, 破/v, 10年/t, 紀錄/n, #end,\n",
    "#begin, 日本/ns, 東京市/ns, 中心/f, 今天/t, （/w, 6/30/t, ）/w, 飆出/v, 攝氏/n, 36.4/m, 度/q, 高溫/n, ，/w, 創/v, 當地/r, 6月/t, 觀測史/n, 新/a, 高/a, 紀錄/n, 。/w, 連日/t,  高溫/n,  讓/v, 東京都/ns, 6月/t, 截至/v, 29日/t, 為止/d, ，/w, 有/vyou, 11/m, 人/q, 疑/v, 因/p, 中暑/v, 死亡/v, ，/w, 同/c, 創/v, 10年/t, 來/d, 6月/t, 新/a, 高/a, 紀錄/n, 。/w, 另/c, 有/vyou, 多個/r, 城市/n, 熱到/v, 將近/d, 攝氏/n, 40/m, 度/q, ，/w, 總計/v, 日本/ns, 全國/r, 今天/t, 有/vyou, 160多/m, 個/q, 觀測點/n, 氣溫/n, 都/d, 飆破/v, 攝氏/n, 35/m, 度/q, 。/w, #end,\n",
    "#begin, 《/w, 讀賣/nt, 新聞/n, 》/w, 報導/v, ，/w, 東京市/ns, 中心/f, 今天/t, 中午/t, 12時/t, 43分/t, 被/pbei, 觀測到/v, 36.4/m, ℃/nx, 高溫/n, ，/w, 創/v, 當地/r, 6月/t, 觀測史/n, 新/a, 高/a, 紀錄/n, ，/w, 也/d, 是/vhsi, 連續/d, 6天/t, 出現/v, 逾/v, 35/m, ℃/nx, 的/ude1, 「/w, 猛暑/n, 日/n, 」/w, 。/w, 同/c, 創/v, 當地/r, 6月/t, 觀測史/n, 新/a, 高/a, 紀錄/n, 的/ude1, 地區/n, ，/w, 還/c, 包括/v, 千葉縣/ns, 船橋市/ns, 的/ude1, 37.1/m, ℃/nx, 、/w, 橫濱市/ns, 中區/f, 的/ude1, 35.5/m, ℃/nx, 等/udeng, 。/w, #end,\n",
    "#begin, 日本/ns, 關東/ns, 、/w, 東海/ns, 其他/r, 城市/n, 今天/t, 的/ude1, 高溫/n, 也/d, 很/d, 驚人/v, 。/w, 據/p, NHK/nx, 報導/v, ，/w, 當地/r, 時間/n, 下午/t, 2時/t, 30分/t, 為止/d, 已/d, 有/vyou, 多處/r, 測得/v, 逼近/v, 40/m, ℃/nx, 的/ude1, 氣溫/n, ，/w, 埼玉縣/ns, 鳩山町/ns, 39.9/m, ℃/nx, 、/w, 寄居町/ns, 39.6/m, ℃/nx, ；/w, 群馬縣/ns, 桐生市/ns, 與/c, 伊勢崎市/ns, 、/w, 靜岡縣/ns, 濱松市/ns, 船明/ns, 39.4/m, ℃/nx, ；/w, 愛知縣/ns, 豐田市/ns, 、/w, 岐阜縣/ns, 多治見市/ns, 39.3/m, ℃/nx, 。/w, #end\n",
    "#begin, 此外/c, ，/w, 山梨縣/ns, 甲州市/ns, 勝沼路/ns, 38.9/m, ℃/nx, ，/w, 名古屋市/nx, 37.9/m, ℃/nx, ，/w, 京都市/ns, 37.1/m, ℃/nx, ，/w, 福島縣/ns, 廣野町/ns, 36.5/m, ℃/nx, ，/w, 東京市/ns, 中心/f, 、/w, 大分縣/ns, 日田市/ns, 也/d, 飆到/v, 36.4/m, 度/q, ℃/nx, 。/w, 總計/v, 日本/ns, 全國/r, 有/vyou, 160多/m, 個/q, 觀測點/n, 氣溫/n, 都/d 達到/v, 「/w, 猛暑/n, 日/n, 」/w, 的/ude1, 標準/n, 。/w, #end\n",
    "#begin, 由於/c, 中暑/v, 危險性/n, 極高/a, ，/w, 日本/ns, 氣象廳/nt, 和/c, 環境省/nt, 在/p, 關東/ns, 甲信/ns, 至/p, 九州/ns, 各地/r, 發佈/v, 「/w, 中暑/v, 警戒/v, 警報/n, 」/w, ，/w, 提醒/v, 大眾/r, 務必/d, 注意/v, 熱/n, 傷害/n, 。/w, #end,\n",
    "#begin, 日本/ns, 放送/v, 協會/n, （/w, NHK/nx, ）/w, 報導/v, ，/w, 警視廳/nt, 等/udeng, 單位/n, 表示/v, ，/w, 東京都/ns, 從/p, 進入/v, 6月/t, 以來/d, ，/w, 到/p, 29日/t, 止/d, 已/d, 有/vyou, 11/m, 名/q, 男女/n, 疑/v, 因/p, 中暑/v, 死亡/v, ，/w, 年齡/n, 介於/p, 40多/m, 歲/q, 到/p, 90多/m, 歲/q, ，/w, 男女/n, 均/d, 有/vyou, ；/w, 從/p, 年齡/n, 別/n, 來看/v, ，/w, 70多/m, 歲/q, 和/c, 80多/m, 歲/q, 各/d, 4/m, 人/q, 最多/a, ；/w, 11/m, 人/q, 中/f, 有/vyou, 9/m, 人/q, 是/vshi, 倒臥/v, 自家/r, 等/udeng, 室內/f, 被/pbei, 發現/v, 。/w, #end\n",
    "#begin, 其中/f, ，/w, 足立區/ns, 在/p, 28日/t, 有/vyou, 一/m, 名/q, 70多/m, 歲/q, 女性/n, 在/p, 自家/r, 被褥/n, 被/pbei, 發現/v, 已經/d, 死亡/v, ，/w, 死因/n, 是/vshi, 中暑/v, ，/w, 該名/r, 女性/n, 獨居/v, ，/w, 現場/r, 窗戶/n, 關閉/v, ，/w, 空調/n, 也/d, 沒/d, 開/v, ；/w, 文京區/ns, 一/m, 處/q, 公寓/n, ，/w, 27日/t, 也/d, 有/vyou, 一/m, 名/q, 70多/m, 歲/q, 男性/n, 倒下/v, ，/w, 送醫不治/v, 。/w, #end\n",
    "#begin, 東京/ns, 消防廳/nt, 呼籲/v, 民眾/r, 不要/d, 忍耐/v, 而/c, 不/d, 打開/v, 冷氣/n, ，/w, 並/c, 在/p, 感到/v, 口渴/n, 前/f, 就/d, 勤於/v, 補充/v, 水分/n, ，/w, 採取/v, 避免/v, 中暑/v, 的/ude1, 對策/n, 。/w, #end\n",
    "#begin, 東京都/ns, 29日/t, 有/vyou, 215/m, 人/q, 疑似/v, 中暑/v, 被/pbei, 送醫/v, ，/w, 連續/d, 兩天/t, 送醫/v, 人數/n, 都/d, 超過/v, 200/m, 人/q, ，/w, 是/vshi, 近/d, 10年/t, 首度/d, 在/p, 6月/t, 就/d, 有/vyou, 單日/t, 逾/v, 200/m, 人/q, 送醫/v, ；/w, 而/c, 6月/t, 截至/v, 29日/t, 總計/v, 有/vyou, 1223/m, 人/q, 因/c, 疑似/v, 中暑/v, 送醫/v, ，/w, 也/d, 創下/v, 10年/t, 來/d, 新/a, 高/a, 。/w, #end\n",
    "#begin, 另外/c, ，/w, 四國/ns, 地方/r, 的/ude1, 德島縣/ns, 鳴門市/ns, 有/vyou, 一/m, 名/q, 80多/m, 歲/q, 男性/n, 6月/t, 29日/t, 在/p, 自宅/r, 死亡/v, ，/w, 經/d, 詳細/a, 調查/v, 得知/v, 死因/n, 是/vshi, 中暑/v, ，/w, 成為/v, 德島縣/vns, 內/f, 今年/t, 首例/n, 。/w, 消防/n, 等/udeng, 單位/n, 表示/, ，/w, 日間/n, 照護/v, 人員/n, 當天/t, 上午/t, 9時/t, 40分/t, 左右/a, 抵達/v, 這名/r, 長者/n, 家中/f, 時/ut, 發現/v, 他/r, 倒臥/v, 自宅/r, 無/d, 呼吸/n, 心跳/n, ，/w, 當時/tg, 室內/r, 並/d, 未/d, 使用/v, 冷氣/v, 及/c, 電風扇/n, 等/udeng, 電器/n, ，/w, 長者/r, 送醫不治/v, ，/w, 經/d, 詳細/a, 調查/v, 死因/n, 是/vshi, 中暑/v, 。/w, #end\n",
    "#begin, 德島縣/ns, 一連/d, 多/a, 日/m, 都/d, 是/vshi, 高溫/n, 逾/v, 30/m, ℃/nx, 的/ude1, 酷暑/n, ，/w, 氣象/n, 單位/n, 29日/t, 也/d, 對/p, 德島縣/ns, 發布/v, 「/w, 中暑/v, 警戒/v, 警報/n, 」/w, 。/w, #end\n",
    "#begin, 由於/c, 接下來/c, 仍會/d, 持續/d, 高溫/n, 炎熱/a, 天氣/n, ，/w, 地方/r, 氣象台/nt, 與/c, 消防/v, 單位/n, 呼籲/v, ，/w, 民眾/r, 應/d, 勤於/v, 補充/v, 水分/n, 並/c, 開啟/v, 冷氣/n, 等/udeng, 嚴防/v, 中暑/v, 。/w, #end\n",
    "#begin, 連日/d, 高溫/n, 也/d, 令/d, 用電/n, 吃緊/a, 的/ude1, 問題/n, 更加/d, 嚴峻/a, 。/w, 日本/ns, 政府/rt, 在/p, 東京/ns, 電力/n, 管轄區/n, 內/f, 發佈/v, 「/w, 電力/n, 供需/n, 緊張/a, 注意/v, 報/n, 」/w, ，/w, 要求/vm 家庭/nt, 和/c, 企業/nt, 連續/d, 4天/t, 節約/v, 用電/n, ，/w, 預計/v, 今天/t, （/w, 6/30/t, ）/w, 傍晚/t, 6點/t, 宣佈/v, 解除/v, 。/w, #end\n",
    "\"\"\""
   ]
  },
  {
   "cell_type": "markdown",
   "metadata": {},
   "source": []
  },
  {
   "cell_type": "code",
   "execution_count": 2,
   "metadata": {},
   "outputs": [
    {
     "data": {
      "text/plain": [
       "'\\n#begin, 野火/n, 逼近/v, 秘魯/ns, 「/w, 天空/n, 之/ushi 城/n, 」/w, 馬丘比丘/ns, ，/w 消防員/n, 急忙/d, 灌救/v, #end,\\n#begin, 秘魯/ns, 觀光勝地/n, 、/w, 有/vyou, 「/w, 天空/n, 之GGG 城/n, 」/w, 之/uzhi, 稱/v, 的/ude1, 印加/ns, 古城/n, 馬丘比丘/ns, （/w, Machu/nx, Picchu/nx, ）/w, ，/w, 正/d, 面臨/v, 野火/n, 威脅/v, ！/w, 馬丘比丘/ns, 附近/d, 日前/t, 發生/b, 野火/n, ，/w, 直至/d, 周四/t, （/w, 6/30/t, ）/w, 仍/d, 未/d, 撲滅/v, ，/w, 消防/n, 人員/n, 積極/v, 救火/v, 。/w, #end,\\n#begin, 路透/nt, 報導/v, ，/w, 這場/r, 森林/n, 大火/n, 是/vshi, 周二/t, 開始/vi, 延燒/v, ，/w, 當地/r, 農民/n, 焚燒/v, 野草/n, 和/c, 碎屑/n, 準備/v, 播種/v, 新/a, 作物/n, ，/w, 不料/d, 引發/v, 野火/n, 。/w, #end,\\n#begin, 馬丘比丘/ns, 鄰近/a, 城市/n, 庫司科/ns, （/w, Cusco/nx, ）/w, 的/ude1, 市長/n, 指出/v, ，/w, 截至/d, 周三/t, ，/w, 已/d, 約/d, 有/vyou, 20/m 公頃/q, 林地/n, 受到/v, 火災/n, 的/udi1, 影響/v, ，/w, 火勢/n, 襲捲了/v, 約莫/d, 是/vshi, 天主教/nt, 中樞/f, 梵蒂岡/ns, 的/ude1, 一半/m, 面積/n, 。/w, #end,\\n#begin, 由於/p, 大火/n, 位置/n, 偏遠/a, ，/w, 消防員/n, 難以/d, 到達/v, ，/w, 庫司科/ns, 風險/n, 管理/v, 和/c, 安全/n, 辦公室/n, 主任/n, 阿巴卡/nr, （/w, Roberto/nx, Abarca/nx, ）/w, 說/v, ：/w, 「/w, 我們/r, 已經/d, 跟/c, 森林/n, 大火/n, 奮鬥了/v, 2天/t, ，/w, 由於/p, 該地區/r, 交通/n, 不便/a, ，/w, 難以/d, 控制/v, 。/w, 」/w, #end,\\n#begin, 座落/v, 在/p, 安地斯/ns, 山脈/n, 的/ude1, 馬丘比丘/ns, 石頭/n, 建築群/n, ，/w, 是/vshi, 印加人/n, 於/p, 逾/v, 500年/t, 建造/v, ；/w, 印加/ns, 帝國/n, 統治/v, 南美洲/ns, 西部/f, 大片/a, 土地/n, 長達/v, 100年/t, ，/w, 範圍/n, 包括/v, 今日/t, 的/ude1, 厄瓜多/ns, 南部/f, 到/v, 智利/ns, 中部/f, 。/w, #end,\\n#begin, 馬丘比丘/ns, 在/p, 1983年/t, 被/pbei, 列入/v, 聯合國/nt, 教科文組織/nt, （/w, UNESCO/nx, ）/w, 世界/n, 遺產/n, ，/w, 也/d, 被/pbei, 認定/v, 為/v, 世界/n, 新/a, 7/m, 大/a, 奇蹟/n, 之GGG 一/m, ，/w, 連帶/d, 使得/v, 庫司科/nx, 地區/n, 成為/v, 秘魯/ns, 頂級/a, 旅遊/n, 目的地/n, 。/w, #end,\\n'"
      ]
     },
     "execution_count": 2,
     "metadata": {},
     "output_type": "execute_result"
    }
   ],
   "source": [
    "\"\"\"\n",
    "#begin, 野火/n, 逼近/v, 秘魯/ns, 「/w, 天空/n, 之/ushi 城/n, 」/w, 馬丘比丘/ns, ，/w 消防員/n, 急忙/d, 灌救/v, #end,\n",
    "#begin, 秘魯/ns, 觀光勝地/n, 、/w, 有/vyou, 「/w, 天空/n, 之GGG 城/n, 」/w, 之/uzhi, 稱/v, 的/ude1, 印加/ns, 古城/n, 馬丘比丘/ns, （/w, Machu/nx, Picchu/nx, ）/w, ，/w, 正/d, 面臨/v, 野火/n, 威脅/v, ！/w, 馬丘比丘/ns, 附近/d, 日前/t, 發生/b, 野火/n, ，/w, 直至/d, 周四/t, （/w, 6/30/t, ）/w, 仍/d, 未/d, 撲滅/v, ，/w, 消防/n, 人員/n, 積極/v, 救火/v, 。/w, #end,\n",
    "#begin, 路透/nt, 報導/v, ，/w, 這場/r, 森林/n, 大火/n, 是/vshi, 周二/t, 開始/vi, 延燒/v, ，/w, 當地/r, 農民/n, 焚燒/v, 野草/n, 和/c, 碎屑/n, 準備/v, 播種/v, 新/a, 作物/n, ，/w, 不料/d, 引發/v, 野火/n, 。/w, #end,\n",
    "#begin, 馬丘比丘/ns, 鄰近/a, 城市/n, 庫司科/ns, （/w, Cusco/nx, ）/w, 的/ude1, 市長/n, 指出/v, ，/w, 截至/d, 周三/t, ，/w, 已/d, 約/d, 有/vyou, 20/m 公頃/q, 林地/n, 受到/v, 火災/n, 的/udi1, 影響/v, ，/w, 火勢/n, 襲捲了/v, 約莫/d, 是/vshi, 天主教/nt, 中樞/f, 梵蒂岡/ns, 的/ude1, 一半/m, 面積/n, 。/w, #end,\n",
    "#begin, 由於/p, 大火/n, 位置/n, 偏遠/a, ，/w, 消防員/n, 難以/d, 到達/v, ，/w, 庫司科/ns, 風險/n, 管理/v, 和/c, 安全/n, 辦公室/n, 主任/n, 阿巴卡/nr, （/w, Roberto/nx, Abarca/nx, ）/w, 說/v, ：/w, 「/w, 我們/r, 已經/d, 跟/c, 森林/n, 大火/n, 奮鬥了/v, 2天/t, ，/w, 由於/p, 該地區/r, 交通/n, 不便/a, ，/w, 難以/d, 控制/v, 。/w, 」/w, #end,\n",
    "#begin, 座落/v, 在/p, 安地斯/ns, 山脈/n, 的/ude1, 馬丘比丘/ns, 石頭/n, 建築群/n, ，/w, 是/vshi, 印加人/n, 於/p, 逾/v, 500年/t, 建造/v, ；/w, 印加/ns, 帝國/n, 統治/v, 南美洲/ns, 西部/f, 大片/a, 土地/n, 長達/v, 100年/t, ，/w, 範圍/n, 包括/v, 今日/t, 的/ude1, 厄瓜多/ns, 南部/f, 到/v, 智利/ns, 中部/f, 。/w, #end,\n",
    "#begin, 馬丘比丘/ns, 在/p, 1983年/t, 被/pbei, 列入/v, 聯合國/nt, 教科文組織/nt, （/w, UNESCO/nx, ）/w, 世界/n, 遺產/n, ，/w, 也/d, 被/pbei, 認定/v, 為/v, 世界/n, 新/a, 7/m, 大/a, 奇蹟/n, 之GGG 一/m, ，/w, 連帶/d, 使得/v, 庫司科/nx, 地區/n, 成為/v, 秘魯/ns, 頂級/a, 旅遊/n, 目的地/n, 。/w, #end,\n",
    "\"\"\""
   ]
  },
  {
   "cell_type": "code",
   "execution_count": 4,
   "metadata": {},
   "outputs": [
    {
     "data": {
      "text/plain": [
       "'\\n#begin, 東京/ns, 連/v, 6天/t, 達/v, 35/m, 度/q, 「/w, 猛暑/n, 日/w, 」/w, ，/w, 高壓/n, 重疊/v, 恐/v, 是/vshi, 主因/n, #end,\\n#begin, 日本/ns, 東京市/ns, 中心/f, 今天/t, （/w, 30日/t, ）/w, 還/d, 不/d, 到/v, 中午/t, 高溫/n, 已/d, 逾/v, 攝氏/n, 35/m, 度/q, ，/w, 連續/v, 6天/t, 出現/v, 「/w, 猛暑/n, 日/n, 」/w, 。/w, 日媒/nt, 報導/v, ，/w, 多數/r, 地區/n, 連日/a, 酷暑/n, 可能/d, 跟/c, 太平洋/ns, 高壓/n, 及/c, 西藏/ns, 高壓/n, 斷斷續續/a, 重疊/v, 有關/v, 。/w, #end,\\n#begin, 日本/ns, 把/pba, 攝氏/n, 30/m, 度/q, 以上/d, 稱為/v, 「/w, 真夏/n, 日/n, 」/w, ，/w, 35/m, 度/q, 以上/d, 稱為/v, 「/w, 猛暑/n, 日/w, 」/w, 。/w, #end,\\n#begin, 日本/ns, 朝日/nt, 電視台/nt, 報導/v, ，/w, 東京市/ns, 中心/f, 今天/t, 上午/t, 高溫/n, 已/d, 達/v, 攝氏/n, 35/m, 度/q, ，/w, 連續/d, 6天/t, 出現/v, 「/w, 猛暑/n, 日/n, 」/w, ；/w, 且/c, 今天/t, 在/p, 上午/t, 10時/t, 41分/t, 就/d, 觀測到/v, 35/m, 度/q, ，/w, 創/v, 今年/t, 最快/a, 紀錄/n, 。/w, #end,\\n#begin, 讀賣/nt, 新聞/n, 報導/v, ，/w, 日本/ns, 政府/nt, 環境省/nt, 與/c, 氣象廳/nt, 今天/t, 對/p, 包括/v, 東京都/ns, 在內/f, 26/m, 個/q, 都府縣/nt, 發布/v, 「/w, 中暑/v, 警戒/v, 警報/n, 」/w, ，/w, 其中/d, 針對/v, 東京都/ns, 是/vshi, 今年/t, 首度/d, 發布/v, 。/w, #end,\\n#begin, 日本/ns, 關東/ns, 地方/n, 以西/f, 多數/r, 地區/n, 近日/t, 之所以/c, 被/pbei, 酷暑/n, 侵襲/v, ，/w, 主要/a, 原因/n, 跟/c, 上空/n, 除了/d, 太平洋/ns, 高壓/n, 外/f, ，/w, 還有/c, 來自/v, 中國大陸/ns, 上方/f, 擴張/v, 的/ude1, 西藏/ns, 高壓/n, 斷斷續續/d, 發生/v, 重疊/v, ，/w, 而/c, 這種/r, 情況/n, 通常/d, 在/p, 日本/ns, 7月/t, 到/v, 8月/t, 的/ude1, 猛暑/n, 季節/n, 時/ut, 才會/u, 發生/v, 。/w, #end,\\n#begin, 日本/ns, 氣象廳/nt, 表示/v, ，/w, 6月/t, 28日/t, 左右/d, 開始/v, ，/w, 西藏/ns, 高壓/n, 勢力/n, 在/p, 大氣/n, 上層/n, 約/d, 1萬/m, 公尺/q, 處/n, 增強/v, ，/w, 跟/c, 在/p, 日本/ns, 列島/n, 附近/d, 大氣/n, 下層/n, 約/d, 5800/m, 公尺/n, 處/n, 的/ude1, 太平洋/ns, 高壓/n, ，/w, 發生/v, 非/d, 持續性/n, 的/ude1, 重疊/v, 現象/n, 。/w, #end,\\n#begin, 高壓/n, 一旦/c, 相互/d, 重疊/v, ，/w, 空氣/n, 會/u, 往/v, 下方/f, 吹/v, 且/c, 壓縮力/n, 增強/v, ，/w, 就會/u, 造成/v, 大/a, 範圍/n, 地區/n, 出現/v, 高溫/n, 。/w, #end,\\n#begin, 日本/ns, 東京/ns, 大學/nt, 教授/n, 中村尚/nr, 說/v, ，/w, 高壓/n, 重疊/v, 是/vshi, 西風帶/n, 蛇行/v, 強烈/a, 的/ued1, 表現/v, ；/w, 雖然/c, 西風帶/n, 蛇行到/v, 本週末/t, 可能/d, 會/u, 暫時/a, 減弱/v, ，/w, 但/c, 相對/d, 就/d, 可能/d, 造成/v, 梅雨/n, 鋒面/n, 南下/v, 帶來/v, 大雨/n, ，/w, 呼籲/v, 民眾/n, 必須/d, 對/p, 下週/t, 可能/d, 出現/v, 的/ude1, 大雨/n, 抱持/v, 警戒/v, 。/w, #end,\\n#begin, 日本/ns, 氣象/n, 新聞/n, （/w, Weathernews/nx, ）/w, 公司/nt, 預測/v, ，/w, 受到/v, 高壓/n, 勢力/n, 擴張/v, 籠罩/v, 影響/v, ，/w, 日本/ns, 今年/t, 7月/t, 到/v, 9月/t, 氣溫/n, 高於/v, 往年/t, 的/ude1, 天數/n, 會/u, 較多/a, ，/w, 這/r, 不/d, 是/vshi, 日本/ns, 的/ude1, 夏天/n, 提前/v, ，/w, 而是/c, 夏天/v, 會/u, 變長/v, ，/w, 甚至/d, 今年/t, 關東/ns, 地區/n, 的/ude1, 「/w, 秋老虎/n, 」/w, 威力/n, 可能/u, 也/d, 會/u, 很/d, 驚人/v, 。/w, #end,\\n'"
      ]
     },
     "execution_count": 4,
     "metadata": {},
     "output_type": "execute_result"
    }
   ],
   "source": [
    "\"\"\"\n",
    "#begin, 東京/ns, 連/v, 6天/t, 達/v, 35/m, 度/q, 「/w, 猛暑/n, 日/w, 」/w, ，/w, 高壓/n, 重疊/v, 恐/v, 是/vshi, 主因/n, #end,\n",
    "#begin, 日本/ns, 東京市/ns, 中心/f, 今天/t, （/w, 30日/t, ）/w, 還/d, 不/d, 到/v, 中午/t, 高溫/n, 已/d, 逾/v, 攝氏/n, 35/m, 度/q, ，/w, 連續/v, 6天/t, 出現/v, 「/w, 猛暑/n, 日/n, 」/w, 。/w, 日媒/nt, 報導/v, ，/w, 多數/r, 地區/n, 連日/a, 酷暑/n, 可能/d, 跟/c, 太平洋/ns, 高壓/n, 及/c, 西藏/ns, 高壓/n, 斷斷續續/a, 重疊/v, 有關/v, 。/w, #end,\n",
    "#begin, 日本/ns, 把/pba, 攝氏/n, 30/m, 度/q, 以上/d, 稱為/v, 「/w, 真夏/n, 日/n, 」/w, ，/w, 35/m, 度/q, 以上/d, 稱為/v, 「/w, 猛暑/n, 日/w, 」/w, 。/w, #end,\n",
    "#begin, 日本/ns, 朝日/nt, 電視台/nt, 報導/v, ，/w, 東京市/ns, 中心/f, 今天/t, 上午/t, 高溫/n, 已/d, 達/v, 攝氏/n, 35/m, 度/q, ，/w, 連續/d, 6天/t, 出現/v, 「/w, 猛暑/n, 日/n, 」/w, ；/w, 且/c, 今天/t, 在/p, 上午/t, 10時/t, 41分/t, 就/d, 觀測到/v, 35/m, 度/q, ，/w, 創/v, 今年/t, 最快/a, 紀錄/n, 。/w, #end,\n",
    "#begin, 讀賣/nt, 新聞/n, 報導/v, ，/w, 日本/ns, 政府/nt, 環境省/nt, 與/c, 氣象廳/nt, 今天/t, 對/p, 包括/v, 東京都/ns, 在內/f, 26/m, 個/q, 都府縣/nt, 發布/v, 「/w, 中暑/v, 警戒/v, 警報/n, 」/w, ，/w, 其中/d, 針對/v, 東京都/ns, 是/vshi, 今年/t, 首度/d, 發布/v, 。/w, #end,\n",
    "#begin, 日本/ns, 關東/ns, 地方/n, 以西/f, 多數/r, 地區/n, 近日/t, 之所以/c, 被/pbei, 酷暑/n, 侵襲/v, ，/w, 主要/a, 原因/n, 跟/c, 上空/n, 除了/d, 太平洋/ns, 高壓/n, 外/f, ，/w, 還有/c, 來自/v, 中國大陸/ns, 上方/f, 擴張/v, 的/ude1, 西藏/ns, 高壓/n, 斷斷續續/d, 發生/v, 重疊/v, ，/w, 而/c, 這種/r, 情況/n, 通常/d, 在/p, 日本/ns, 7月/t, 到/v, 8月/t, 的/ude1, 猛暑/n, 季節/n, 時/ut, 才會/u, 發生/v, 。/w, #end,\n",
    "#begin, 日本/ns, 氣象廳/nt, 表示/v, ，/w, 6月/t, 28日/t, 左右/d, 開始/v, ，/w, 西藏/ns, 高壓/n, 勢力/n, 在/p, 大氣/n, 上層/n, 約/d, 1萬/m, 公尺/q, 處/n, 增強/v, ，/w, 跟/c, 在/p, 日本/ns, 列島/n, 附近/d, 大氣/n, 下層/n, 約/d, 5800/m, 公尺/n, 處/n, 的/ude1, 太平洋/ns, 高壓/n, ，/w, 發生/v, 非/d, 持續性/n, 的/ude1, 重疊/v, 現象/n, 。/w, #end,\n",
    "#begin, 高壓/n, 一旦/c, 相互/d, 重疊/v, ，/w, 空氣/n, 會/u, 往/v, 下方/f, 吹/v, 且/c, 壓縮力/n, 增強/v, ，/w, 就會/u, 造成/v, 大/a, 範圍/n, 地區/n, 出現/v, 高溫/n, 。/w, #end,\n",
    "#begin, 日本/ns, 東京/ns, 大學/nt, 教授/n, 中村尚/nr, 說/v, ，/w, 高壓/n, 重疊/v, 是/vshi, 西風帶/n, 蛇行/v, 強烈/a, 的/ued1, 表現/v, ；/w, 雖然/c, 西風帶/n, 蛇行到/v, 本週末/t, 可能/d, 會/u, 暫時/a, 減弱/v, ，/w, 但/c, 相對/d, 就/d, 可能/d, 造成/v, 梅雨/n, 鋒面/n, 南下/v, 帶來/v, 大雨/n, ，/w, 呼籲/v, 民眾/n, 必須/d, 對/p, 下週/t, 可能/d, 出現/v, 的/ude1, 大雨/n, 抱持/v, 警戒/v, 。/w, #end,\n",
    "#begin, 日本/ns, 氣象/n, 新聞/n, （/w, Weathernews/nx, ）/w, 公司/nt, 預測/v, ，/w, 受到/v, 高壓/n, 勢力/n, 擴張/v, 籠罩/v, 影響/v, ，/w, 日本/ns, 今年/t, 7月/t, 到/v, 9月/t, 氣溫/n, 高於/v, 往年/t, 的/ude1, 天數/n, 會/u, 較多/a, ，/w, 這/r, 不/d, 是/vshi, 日本/ns, 的/ude1, 夏天/n, 提前/v, ，/w, 而是/c, 夏天/v, 會/u, 變長/v, ，/w, 甚至/d, 今年/t, 關東/ns, 地區/n, 的/ude1, 「/w, 秋老虎/n, 」/w, 威力/n, 可能/u, 也/d, 會/u, 很/d, 驚人/v, 。/w, #end,\n",
    "\"\"\""
   ]
  },
  {
   "cell_type": "code",
   "execution_count": null,
   "metadata": {},
   "outputs": [],
   "source": []
  }
 ],
 "metadata": {
  "kernelspec": {
   "display_name": "Python 3",
   "language": "python",
   "name": "python3"
  },
  "language_info": {
   "codemirror_mode": {
    "name": "ipython",
    "version": 3
   },
   "file_extension": ".py",
   "mimetype": "text/x-python",
   "name": "python",
   "nbconvert_exporter": "python",
   "pygments_lexer": "ipython3",
   "version": "3.6.12"
  }
 },
 "nbformat": 4,
 "nbformat_minor": 4
}
