{
 "cells": [
  {
   "cell_type": "code",
   "execution_count": 6,
   "metadata": {},
   "outputs": [
    {
     "name": "stdout",
     "output_type": "stream",
     "text": [
      "#begin 前/f 德國/ns 總理/nt 梅克爾/nr (/w Angela/nx Markel/nx )/w 昨日/t 表示/v 對於/p 俄/ns 烏/ns 情勢/n 演變/v 至/v 此/r 「/w 沒/d 有/vyou 什麼/ry 好/d 道歉/vi 的/ude1 」/w 強調/v 自己/r 已/d 努力/ad 。/w #end\n",
      "#bigin 她/rr 也/d 為/v 自己/rr 於/p 2008/m 年/qt 反對/v 烏克蘭/ns 加入/v 北/f 大西洋/ns 公約/n 組織/n NATO/nx 的/ude1 決定/n 辯護/v /w 指出/v 當時/tg 如果/c 讓/v 烏/ns 加入/v 北約/nt 恐/vg 讓/v 普丁/nr 出手/vi /w 同時/tg 烏克蘭/ns 也/d 還是/c 個/q 充滿/v 腐敗/v 由/p 寡頭/ad 治理/v 的/ude1 國家/nt 。/w #end\n",
      "#begin 綜合/v 英國/nr 《/w 衛報/nz 》/w （/w The/nx Guardian/nx ）/w 、/w 英國/ns 廣播/v 公司/nis （/w BBC/nx ）/w 、/w 路透社/nt 等/udeng 外媒/r 報導/v ，/w 梅克爾/nr 昨日/t 接受/v 德國/ns 《/w 明鏡周刊/nt 》/w （/w Der/nx Spiegel/nx ）/w 記者/n 歐桑/nr （/w Alexander/nx Osang/nx ）/w 訪問/v ，/w 這/r 是/vshi 她/rr 卸任/vi 總理/n 職務/n 6/m 個/q 月/qt 後/f 的/ude1 首場/n 主要/a 專訪/n 。/w #end\n",
      "#begin 當/p 被/pbei 問到/v 她/rr 是否/ry 後悔/v 在/p 2008/m 年/qt 反對/v 烏克蘭/ns 加入/v 北約/nt 時/ut ，/w 梅克爾/nr 辯護/v 她/rr 當時/t 希望/v 避免/v 升高/v 與/cc 俄羅斯/ns 的/ude1 緊張/a 情勢/n ，/w 同時/t 烏克蘭/ns 那/rzv 時/ut 也/d 尚未/d 準備/v 好/d 加入/v 北約/nt 。/w #end\n",
      "#begin 「/w 烏克蘭/ns 當時/t 並不/d 是/vshi 我們/rr 現在/t 所/usuo 認識/v 的/ude1 國家/n ，/w 是/vshi 一/m 個/q 非常/d 分裂/vi 的/ude1 烏克蘭/ns ，/w 就算/d 是/vshi 改革派/n 提摩申科/nr （/w Yulia/nx Tymoshenko/nx ）/w 、/w 尤申科/nr （/w Viktor/nx Yushchenko/nx ）/w 也/d 意見/n 相左/vi ，/w 這/r 代表/v 它/rr 不/d 是/vshi 一/m 個/q 內在/n 民主/n 強化/v 的/ude1 國家/n 。/w 」/w #end\n",
      "#begin 她/rr 也/d 提到/v 烏克蘭/ns 當時/t 仍/d 是/vshi 由/p 寡頭/n 治理/v 的/ude1 國家/n ，/w 「/w 這個/rz 國家/n 不/d 穩定/v ，/w 充滿/v 腐敗/n 。/w 」/w #end\n",
      "#begin 梅克爾/nr 也/d 解釋/v ，/w 當時/t 若/c 同意/v 烏克蘭/ns 加入/v 北約/nt ，/w 在/p 俄羅斯/ns 總統/n 普丁/nr 眼中/s 將/d 等同/vi 於/up 「/w 宣戰/v 」/w ，/w 她/rr 說/v 非常/d 了解/v 普丁/nr 的/ude1 想法/n ，/w 不/d 希望/v 進一步/d 激怒/v 普丁/nr 。/w #end\n",
      "#begin 梅克爾/nr 稱/v 是/vshi 基於/v 烏克蘭/ns 的/ude1 最大/a 利益/n 才/d 阻擋/v 烏克蘭/ns 加入/v 北約/nt ，/w 強調/v 真正/d 加入/v 北約/nt 須/d 經歷/v 一/m 段/q 過程/n ，/w 「/w 我/rr 知道/v 這個/rz 過程/n 中/ut 普丁/nr 會/v 對/v 烏克蘭/ns 做/v 一些/m 不利/a 於/up 它/rr 的/ude1 事/n 。/w 」/w #end\n",
      "#begin 關於/p 為了/p 解決/v 烏/ns 東/f 衝突/n 而/cc 在/p 2014/m 、/w 2015/m 年/qt 簽署/v 的/ude1 《/w 明斯克/nsf 協議/n 》/w ，/w 梅克爾/nr 強調/v 這/rz 2/m 份/q 協議/n 為/p 烏克蘭/ns 爭取/v 了/ule 時間/n 、/w 強化/v 自己/rr 的/ude1 軍隊/n ，/w 「/w 它/rr 讓/v 這/rz 場/q 紛爭/n 冷靜/v 下來/v ，/w 為/p 烏克蘭/ns 爭取/v 時間/n 發展/v 成/d 現在/t 的/ude1 樣子/n 。/w 」/w #end\n",
      "#begin 「/w 如果/c 我/rr 說/v 和/cc 那/rzv 個/q 男人/n （/w 指/v 普丁/nr ）/w 沒/v 什麼/nzv 好/a 談/v 的/ude1 ，/w 我/rr 會/v 感到/v 很/d 糟/n 」/w 「/w 沒/d 有/vyou 成功/v 令人/v 相當/d 難過/v ，/w 但/c 我/rr 不/d 怪/v 自己/rr 沒/d 有/vyou 嘗試/v 。/w 」/w 她/rr 認為/v 自己/rr 已/d 努力/v ，/w 「/w 我/rr 不/d 需要/v 因為/v 不/d 夠/d 努力/v 而/cc 責怪/v 自己/nz ，/w 我/rr 不/d 認為/v 我/rr 應該/v 說/v 『/w 那/rz 是/vshi 錯/n 的/ude1 』/w ，/w 這/rz 也/d 是/vshi 為什麼/ryv 我/rr 沒/v 什麼/ry 好/a 道歉/vi 的/ude1 。/w 」/w #end\n",
      "#begin 關於/p 德國/ns 的/ude1 寬容/n 態度/n 是否/v 導致/v 克宮/ns 更加/d 膽/n 大/a 妄/d 為/v ，/w 梅克爾/nr 認為/v 蘇聯/nt 解體/v 製造/v 的/ude1 地緣/n 政治/n 問題/n 在/p 她/rr 16/m 年/qt 任期/n 中/f 仍/d 持續/v 存在/v ，/w 「/w 沒/d 辦法/n 合適/v 地/ude2 結束/v 冷戰/m ，/w 俄羅斯/ns 問題/n 一直/d 存在/v 。/w 」/w #end\n",
      "#begin 梅克爾/nr 表示/v 一直/d 到/v 任期/n 結束/v 前/f 幾/r 周/qt 才/d 開始/v 嚴肅/a 看待/v 俄羅斯/ns 入侵/v 烏克蘭/ns 的/ude1 可能性/n ，/w 除了/p 在/p 專訪/n 中/f 明確/a 譴責/v 俄羅斯/ns 外/f ，/w 她/rr 似乎/d 也/d 暗示/v 西方/n 必須/d 承擔/v 部分/n 責任/n 。/w 她/rr 認為/v 俄羅斯/ns 犯下/v 「/w 大/a 錯/n 」/w ，/w 「/w 我/rr 要/v 講/v 清楚/a ，/w 我/rr 不/d 同意/v 普丁/nr 先生/n 的/ude1 觀點/n ，/w 但/c 我們/rr 未能/v 創造/v 一/m 個/q 能/v 避免/v 這個/rz （/w 烏克蘭/ns 戰爭/n ）/w 的/ude1 安全/a 架構/n ，/w 我們/rr 也/d 應該/v 考慮/v 這/rz 一/m 點/q 。/w 」/w #end\n",
      "#begin 針對/p 外界/n 批評/v ，/w 在/p 她/rr 帶領/v 下/f 的/ude1 德國/ns 陷入/v 透過/v 貿易/n 關係/n 就/d 能/v 讓/v 俄羅斯/ns 民主/n 化/v 的/ude1 幻想/n ，/w 梅克爾/nr 也/d 予以/vx 駁斥/v ，/w 「/w 我/rr 不/d 相信/v 貿易/n 能/v 改變/v 普丁/nr 」/w ，/w 強調/v 她/rr 的/ude1 信念/n 是/vshi 政治/n 合作/n 是/vshi 可能/v 的/ude1 ，/w 至少/d 與/cc 俄/b 羅斯/nr 發/n 展/vg 一些/m 經/n 濟/w 關/n 係/nz 是/vshi 明智/a 的/ude1 。/w #end\n",
      "\n"
     ]
    }
   ],
   "source": [
    "content = \"\"\"#begin 前/f 德國/ns 總理/nt 梅克爾/nr (/w Angela/nx Markel/nx )/w 昨日/t 表示/v 對於/p 俄/ns 烏/ns 情勢/n 演變/v 至/v 此/r 「/w 沒/d 有/vyou 什麼/ry 好/d 道歉/vi 的/ude1 」/w 強調/v 自己/r 已/d 努力/ad 。/w #end\n",
    "#bigin 她/rr 也/d 為/v 自己/rr 於/p 2008/m 年/qt 反對/v 烏克蘭/ns 加入/v 北/f 大西洋/ns 公約/n 組織/n NATO/nx 的/ude1 決定/n 辯護/v /w 指出/v 當時/tg 如果/c 讓/v 烏/ns 加入/v 北約/nt 恐/vg 讓/v 普丁/nr 出手/vi /w 同時/tg 烏克蘭/ns 也/d 還是/c 個/q 充滿/v 腐敗/v 由/p 寡頭/ad 治理/v 的/ude1 國家/nt 。/w #end\n",
    "#begin 綜合/v 英國/nr 《/w 衛報/nz 》/w （/w The/nx Guardian/nx ）/w 、/w 英國/ns 廣播/v 公司/nis （/w BBC/nx ）/w 、/w 路透社/nt 等/udeng 外媒/r 報導/v ，/w 梅克爾/nr 昨日/t 接受/v 德國/ns 《/w 明鏡周刊/nt 》/w （/w Der/nx Spiegel/nx ）/w 記者/n 歐桑/nr （/w Alexander/nx Osang/nx ）/w 訪問/v ，/w 這/r 是/vshi 她/rr 卸任/vi 總理/n 職務/n 6/m 個/q 月/qt 後/f 的/ude1 首場/n 主要/a 專訪/n 。/w #end\n",
    "#begin 當/p 被/pbei 問到/v 她/rr 是否/ry 後悔/v 在/p 2008/m 年/qt 反對/v 烏克蘭/ns 加入/v 北約/nt 時/ut ，/w 梅克爾/nr 辯護/v 她/rr 當時/t 希望/v 避免/v 升高/v 與/cc 俄羅斯/ns 的/ude1 緊張/a 情勢/n ，/w 同時/t 烏克蘭/ns 那/rzv 時/ut 也/d 尚未/d 準備/v 好/d 加入/v 北約/nt 。/w #end\n",
    "#begin 「/w 烏克蘭/ns 當時/t 並不/d 是/vshi 我們/rr 現在/t 所/usuo 認識/v 的/ude1 國家/n ，/w 是/vshi 一/m 個/q 非常/d 分裂/vi 的/ude1 烏克蘭/ns ，/w 就算/d 是/vshi 改革派/n 提摩申科/nr （/w Yulia/nx Tymoshenko/nx ）/w 、/w 尤申科/nr （/w Viktor/nx Yushchenko/nx ）/w 也/d 意見/n 相左/vi ，/w 這/r 代表/v 它/rr 不/d 是/vshi 一/m 個/q 內在/n 民主/n 強化/v 的/ude1 國家/n 。/w 」/w #end\n",
    "#begin 她/rr 也/d 提到/v 烏克蘭/ns 當時/t 仍/d 是/vshi 由/p 寡頭/n 治理/v 的/ude1 國家/n ，/w 「/w 這個/rz 國家/n 不/d 穩定/v ，/w 充滿/v 腐敗/n 。/w 」/w #end\n",
    "#begin 梅克爾/nr 也/d 解釋/v ，/w 當時/t 若/c 同意/v 烏克蘭/ns 加入/v 北約/nt ，/w 在/p 俄羅斯/ns 總統/n 普丁/nr 眼中/s 將/d 等同/vi 於/up 「/w 宣戰/v 」/w ，/w 她/rr 說/v 非常/d 了解/v 普丁/nr 的/ude1 想法/n ，/w 不/d 希望/v 進一步/d 激怒/v 普丁/nr 。/w #end\n",
    "#begin 梅克爾/nr 稱/v 是/vshi 基於/v 烏克蘭/ns 的/ude1 最大/a 利益/n 才/d 阻擋/v 烏克蘭/ns 加入/v 北約/nt ，/w 強調/v 真正/d 加入/v 北約/nt 須/d 經歷/v 一/m 段/q 過程/n ，/w 「/w 我/rr 知道/v 這個/rz 過程/n 中/ut 普丁/nr 會/v 對/v 烏克蘭/ns 做/v 一些/m 不利/a 於/up 它/rr 的/ude1 事/n 。/w 」/w #end\n",
    "#begin 關於/p 為了/p 解決/v 烏/ns 東/f 衝突/n 而/cc 在/p 2014/m 、/w 2015/m 年/qt 簽署/v 的/ude1 《/w 明斯克/nsf 協議/n 》/w ，/w 梅克爾/nr 強調/v 這/rz 2/m 份/q 協議/n 為/p 烏克蘭/ns 爭取/v 了/ule 時間/n 、/w 強化/v 自己/rr 的/ude1 軍隊/n ，/w 「/w 它/rr 讓/v 這/rz 場/q 紛爭/n 冷靜/v 下來/v ，/w 為/p 烏克蘭/ns 爭取/v 時間/n 發展/v 成/d 現在/t 的/ude1 樣子/n 。/w 」/w #end\n",
    "#begin 「/w 如果/c 我/rr 說/v 和/cc 那/rzv 個/q 男人/n （/w 指/v 普丁/nr ）/w 沒/v 什麼/nzv 好/a 談/v 的/ude1 ，/w 我/rr 會/v 感到/v 很/d 糟/n 」/w 「/w 沒/d 有/vyou 成功/v 令人/v 相當/d 難過/v ，/w 但/c 我/rr 不/d 怪/v 自己/rr 沒/d 有/vyou 嘗試/v 。/w 」/w 她/rr 認為/v 自己/rr 已/d 努力/v ，/w 「/w 我/rr 不/d 需要/v 因為/v 不/d 夠/d 努力/v 而/cc 責怪/v 自己/nz ，/w 我/rr 不/d 認為/v 我/rr 應該/v 說/v 『/w 那/rz 是/vshi 錯/n 的/ude1 』/w ，/w 這/rz 也/d 是/vshi 為什麼/ryv 我/rr 沒/v 什麼/ry 好/a 道歉/vi 的/ude1 。/w 」/w #end\n",
    "#begin 關於/p 德國/ns 的/ude1 寬容/n 態度/n 是否/v 導致/v 克宮/ns 更加/d 膽/n 大/a 妄/d 為/v ，/w 梅克爾/nr 認為/v 蘇聯/nt 解體/v 製造/v 的/ude1 地緣/n 政治/n 問題/n 在/p 她/rr 16/m 年/qt 任期/n 中/f 仍/d 持續/v 存在/v ，/w 「/w 沒/d 辦法/n 合適/v 地/ude2 結束/v 冷戰/m ，/w 俄羅斯/ns 問題/n 一直/d 存在/v 。/w 」/w #end\n",
    "#begin 梅克爾/nr 表示/v 一直/d 到/v 任期/n 結束/v 前/f 幾/r 周/qt 才/d 開始/v 嚴肅/a 看待/v 俄羅斯/ns 入侵/v 烏克蘭/ns 的/ude1 可能性/n ，/w 除了/p 在/p 專訪/n 中/f 明確/a 譴責/v 俄羅斯/ns 外/f ，/w 她/rr 似乎/d 也/d 暗示/v 西方/n 必須/d 承擔/v 部分/n 責任/n 。/w 她/rr 認為/v 俄羅斯/ns 犯下/v 「/w 大/a 錯/n 」/w ，/w 「/w 我/rr 要/v 講/v 清楚/a ，/w 我/rr 不/d 同意/v 普丁/nr 先生/n 的/ude1 觀點/n ，/w 但/c 我們/rr 未能/v 創造/v 一/m 個/q 能/v 避免/v 這個/rz （/w 烏克蘭/ns 戰爭/n ）/w 的/ude1 安全/a 架構/n ，/w 我們/rr 也/d 應該/v 考慮/v 這/rz 一/m 點/q 。/w 」/w #end\n",
    "#begin 針對/p 外界/n 批評/v ，/w 在/p 她/rr 帶領/v 下/f 的/ude1 德國/ns 陷入/v 透過/v 貿易/n 關係/n 就/d 能/v 讓/v 俄羅斯/ns 民主/n 化/v 的/ude1 幻想/n ，/w 梅克爾/nr 也/d 予以/vx 駁斥/v ，/w 「/w 我/rr 不/d 相信/v 貿易/n 能/v 改變/v 普丁/nr 」/w ，/w 強調/v 她/rr 的/ude1 信念/n 是/vshi 政治/n 合作/n 是/vshi 可能/v 的/ude1 ，/w 至少/d 與/cc 俄/b 羅斯/nr 發/n 展/vg 一些/m 經/n 濟/w 關/n 係/nz 是/vshi 明智/a 的/ude1 。/w #end\n",
    "\"\"\"\n",
    "content = content.split('\\n')\n",
    "for item in content:\n",
    "    print(item)"
   ]
  },
  {
   "cell_type": "code",
   "execution_count": 4,
   "metadata": {},
   "outputs": [],
   "source": [
    "content = \"\"\"#begin 前/f 德國/ns 總理/nt 梅克爾/nr (/w Angela/nx Markel/nx )/w 昨日/t 表示/v 對於/p 俄/ns 烏/ns 情勢/n 演變/v 至/v 此/r 「/w 沒/d 有/vyou 什麼/ry 好/d 道歉/vi 的/ude1 」/w 強調/v 自己/r 已/d 努力/ad 。/w #end\n",
    "#bigin 她/rr 也/d 為/v 自己/rr 於/p 2008/m 年/qt 反對/v 烏克蘭/ns 加入/v 北/f 大西洋/ns 公約/n 組織/n NATO/nx 的/ude1 決定/n 辯護/v /w 指出/v 當時/tg 如果/c 讓/v 烏/ns 加入/v 北約/nt 恐/vg 讓/v 普丁/nr 出手/vi /w 同時/tg 烏克蘭/ns 也/d 還是/c 個/q 充滿/v 腐敗/v 由/p 寡頭/ad 治理/v 的/ude1 國家/nt 。/w #end\n",
    "#begin 綜合/v 英國/nr 《/w 衛報/nz 》/w （/w The/nx Guardian/nx ）/w 、/w 英國/ns 廣播/v 公司/nis （/w BBC/nx ）/w 、/w 路透社/nt 等/udeng 外媒/r 報導/v ，/w 梅克爾/nr 昨日/t 接受/v 德國/ns 《/w 明鏡周刊/nt 》/w （/w Der/nx Spiegel/nx ）/w 記者/n 歐桑/nr （/w Alexander/nx Osang/nx ）/w 訪問/v ，/w 這/r 是/vshi 她/rr 卸任/vi 總理/n 職務/n 6/m 個/q 月/qt 後/f 的/ude1 首場/n 主要/a 專訪/n 。/w #end\n",
    "#begin 當/p 被/pbei 問到/v 她/rr 是否/ry 後悔/v 在/p 2008/m 年/qt 反對/v 烏克蘭/ns 加入/v 北約/nt 時/ut ，/w 梅克爾/nr 辯護/v 她/rr 當時/t 希望/v 避免/v 升高/v 與/cc 俄羅斯/ns 的/ude1 緊張/a 情勢/n ，/w 同時/t 烏克蘭/ns 那/rzv 時/ut 也/d 尚未/d 準備/v 好/d 加入/v 北約/nt 。/w #end\n",
    "#begin 「/w 烏克蘭/ns 當時/t 並不/d 是/vshi 我們/rr 現在/t 所/usuo 認識/v 的/ude1 國家/n ，/w 是/vshi 一/m 個/q 非常/d 分裂/vi 的/ude1 烏克蘭/ns ，/w 就算/d 是/vshi 改革派/n 提摩申科/nr （/w Yulia/nx Tymoshenko/nx ）/w 、/w 尤申科/nr （/w Viktor/nx Yushchenko/nx ）/w 也/d 意見/n 相左/vi ，/w 這/r 代表/v 它/rr 不/d 是/vshi 一/m 個/q 內在/n 民主/n 強化/v 的/ude1 國家/n 。/w 」/w #end\n",
    "#begin 她/rr 也/d 提到/v 烏克蘭/ns 當時/t 仍/d 是/vshi 由/p 寡頭/n 治理/v 的/ude1 國家/n ，/w 「/w 這個/rz 國家/n 不/d 穩定/v ，/w 充滿/v 腐敗/n 。/w 」/w #end\n",
    "#begin 梅克爾/nr 也/d 解釋/v ，/w 當時/t 若/c 同意/v 烏克蘭/ns 加入/v 北約/nt ，/w 在/p 俄羅斯/ns 總統/n 普丁/nr 眼中/s 將/d 等同/vi 於/up 「/w 宣戰/v 」/w ，/w 她/rr 說/v 非常/d 了解/v 普丁/nr 的/ude1 想法/n ，/w 不/d 希望/v 進一步/d 激怒/v 普丁/nr 。/w #end\n",
    "#begin 梅克爾/nr 稱/v 是/vshi 基於/v 烏克蘭/ns 的/ude1 最大/a 利益/n 才/d 阻擋/v 烏克蘭/ns 加入/v 北約/nt ，/w 強調/v 真正/d 加入/v 北約/nt 須/d 經歷/v 一/m 段/q 過程/n ，/w 「/w 我/rr 知道/v 這個/rz 過程/n 中/ut 普丁/nr 會/v 對/v 烏克蘭/ns 做/v 一些/m 不利/a 於/up 它/rr 的/ude1 事/n 。/w 」/w #end\n",
    "#begin 關於/p 為了/p 解決/v 烏/ns 東/f 衝突/n 而/cc 在/p 2014/m 、/w 2015/m 年/qt 簽署/v 的/ude1 《/w 明斯克/nsf 協議/n 》/w ，/w 梅克爾/nr 強調/v 這/rz 2/m 份/q 協議/n 為/p 烏克蘭/ns 爭取/v 了/ule 時間/n 、/w 強化/v 自己/rr 的/ude1 軍隊/n ，/w 「/w 它/rr 讓/v 這/rz 場/q 紛爭/n 冷靜/v 下來/v ，/w 為/p 烏克蘭/ns 爭取/v 時間/n 發展/v 成/d 現在/t 的/ude1 樣子/n 。/w 」/w #end\n",
    "#begin 「/w 如果/c 我/rr 說/v 和/cc 那/rzv 個/q 男人/n （/w 指/v 普丁/nr ）/w 沒/v 什麼/nzv 好/a 談/v 的/ude1 ，/w 我/rr 會/v 感到/v 很/d 糟/n 」/w 「/w 沒/d 有/vyou 成功/v 令人/v 相當/d 難過/v ，/w 但/c 我/rr 不/d 怪/v 自己/rr 沒/d 有/vyou 嘗試/v 。/w 」/w 她/rr 認為/v 自己/rr 已/d 努力/v ，/w 「/w 我/rr 不/d 需要/v 因為/v 不/d 夠/d 努力/v 而/cc 責怪/v 自己/nz ，/w 我/rr 不/d 認為/v 我/rr 應該/v 說/v 『/w 那/rz 是/vshi 錯/n 的/ude1 』/w ，/w 這/rz 也/d 是/vshi 為什麼/ryv 我/rr 沒/v 什麼/ry 好/a 道歉/vi 的/ude1 。/w 」/w #end\n",
    "#begin 關於/p 德國/ns 的/ude1 寬容/n 態度/n 是否/v 導致/v 克宮/ns 更加/d 膽/n 大/a 妄/d 為/v ，/w 梅克爾/nr 認為/v 蘇聯/nt 解體/v 製造/v 的/ude1 地緣/n 政治/n 問題/n 在/p 她/rr 16/m 年/qt 任期/n 中/f 仍/d 持續/v 存在/v ，/w 「/w 沒/d 辦法/n 合適/v 地/ude2 結束/v 冷戰/m ，/w 俄羅斯/ns 問題/n 一直/d 存在/v 。/w 」/w #end\n",
    "#begin 梅克爾/nr 表示/v 一直/d 到/v 任期/n 結束/v 前/f 幾/r 周/qt 才/d 開始/v 嚴肅/a 看待/v 俄羅斯/ns 入侵/v 烏克蘭/ns 的/ude1 可能性/n ，/w 除了/p 在/p 專訪/n 中/f 明確/a 譴責/v 俄羅斯/ns 外/f ，/w 她/rr 似乎/d 也/d 暗示/v 西方/n 必須/d 承擔/v 部分/n 責任/n 。/w 她/rr 認為/v 俄羅斯/ns 犯下/v 「/w 大/a 錯/n 」/w ，/w 「/w 我/rr 要/v 講/v 清楚/a ，/w 我/rr 不/d 同意/v 普丁/nr 先生/n 的/ude1 觀點/n ，/w 但/c 我們/rr 未能/v 創造/v 一/m 個/q 能/v 避免/v 這個/rz （/w 烏克蘭/ns 戰爭/n ）/w 的/ude1 安全/a 架構/n ，/w 我們/rr 也/d 應該/v 考慮/v 這/rz 一/m 點/q 。/w 」/w #end\n",
    "#begin 針對/p 外界/n 批評/v ，/w 在/p 她/rr 帶領/v 下/f 的/ude1 德國/ns 陷入/v 透過/v 貿易/n 關係/n 就/d 能/v 讓/v 俄羅斯/ns 民主/n 化/v 的/ude1 幻想/n ，/w 梅克爾/nr 也/d 予以/vx 駁斥/v ，/w 「/w 我/rr 不/d 相信/v 貿易/n 能/v 改變/v 普丁/nr 」/w ，/w 強調/v 她/rr 的/ude1 信念/n 是/vshi 政治/n 合作/n 是/vshi 可能/v 的/ude1 ，/w 至少/d 與/cc 俄/b 羅斯/nr 發/n 展/vg 一些/m 經/n 濟/w 關/n 係/nz 是/vshi 明智/a 的/ude1 。/w #end\n",
    "\"\"\""
   ]
  },
  {
   "cell_type": "code",
   "execution_count": null,
   "metadata": {},
   "outputs": [],
   "source": []
  }
 ],
 "metadata": {
  "kernelspec": {
   "display_name": "Python 3",
   "language": "python",
   "name": "python3"
  },
  "language_info": {
   "codemirror_mode": {
    "name": "ipython",
    "version": 3
   },
   "file_extension": ".py",
   "mimetype": "text/x-python",
   "name": "python",
   "nbconvert_exporter": "python",
   "pygments_lexer": "ipython3",
   "version": "3.6.12"
  }
 },
 "nbformat": 4,
 "nbformat_minor": 4
}
