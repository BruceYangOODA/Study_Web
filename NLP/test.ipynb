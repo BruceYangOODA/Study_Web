{
 "cells": [
  {
   "cell_type": "code",
   "execution_count": 1,
   "metadata": {},
   "outputs": [
    {
     "name": "stdout",
     "output_type": "stream",
     "text": [
      "[现如今/t, ，/w, 机器学习/gi, 和/cc, 深度/n, 学习/v, 带动/v, 人工智能/n, 飞速/d, 的/ude1, 发展/vn, ，/w, 并/cc, 在/p, 图片/n, 处理/vn, 、/w, 语音/n, 识别/vn, 领域/n, 取得/v, 巨大/a, 成功/a, 。/w]\n"
     ]
    }
   ],
   "source": [
    "from pyhanlp import *\n",
    "content = \"现如今，机器学习和深度学习带动人工智能飞速的发展，并在图片处理、语音识别领域取得巨大成功。\"\n",
    "print(HanLP.segment(content))"
   ]
  },
  {
   "cell_type": "code",
   "execution_count": 2,
   "metadata": {},
   "outputs": [
    {
     "name": "stdout",
     "output_type": "stream",
     "text": [
      "[铁甲/n, 网/n, 是/vshi, 中国/ns, 最大/gm, 的/ude1, 工程机械/nz, 交易平台/nz, 。/w]\n"
     ]
    }
   ],
   "source": [
    "txt = \"铁甲网是中国最大的工程机械交易平台。\"\n",
    "print(HanLP.segment(txt))"
   ]
  },
  {
   "cell_type": "code",
   "execution_count": 6,
   "metadata": {},
   "outputs": [
    {
     "name": "stdout",
     "output_type": "stream",
     "text": [
      "铁甲\tn\n",
      "网\tn\n",
      "是\tvshi\n",
      "中国\tns\n",
      "最大\tgm\n",
      "的\tude1\n",
      "工程机械\tnz\n",
      "交易平台\tnz\n",
      "。\tw\n"
     ]
    }
   ],
   "source": [
    "for term in HanLP.segment(txt):\n",
    "    print('{}\\t{}'.format(term.word, term.nature))"
   ]
  },
  {
   "cell_type": "code",
   "execution_count": 12,
   "metadata": {},
   "outputs": [
    {
     "name": "stdout",
     "output_type": "stream",
     "text": [
      "[带动, 识别, 语音]\n"
     ]
    }
   ],
   "source": [
    "# 關鍵字提取\n",
    "content = \"现如今，机器学习和深度学习带动人工智能飞速的发展，并在图片处理、语音识别领域取得巨大成功。\"\n",
    "print(HanLP.extractKeyword(content,3))"
   ]
  },
  {
   "cell_type": "code",
   "execution_count": 19,
   "metadata": {},
   "outputs": [
    {
     "name": "stdout",
     "output_type": "stream",
     "text": [
      "[并在图片处理、语音识别领域取得巨大成功]\n"
     ]
    }
   ],
   "source": [
    "# 自動摘要\n",
    "content = \"现如今，机器学习和深度学习带动人工智能飞速的发展，并在图片处理、语音识别领域取得巨大成功。\"\n",
    "print(HanLP.extractSummary(content,3))"
   ]
  },
  {
   "cell_type": "code",
   "execution_count": 20,
   "metadata": {},
   "outputs": [
    {
     "name": "stdout",
     "output_type": "stream",
     "text": [
      "1\t现如今\t现如今\tnt\tt\t_\t4\t状中结构\t_\t_\n",
      "2\t，\t，\twp\tw\t_\t1\t标点符号\t_\t_\n",
      "3\t机器\t机器\tn\tn\t_\t4\t定中关系\t_\t_\n",
      "4\t学习\t学习\tv\tv\t_\t0\t核心关系\t_\t_\n",
      "5\t和\t和\tc\tc\t_\t7\t左附加关系\t_\t_\n",
      "6\t深度\t深度\tn\tn\t_\t7\t状中结构\t_\t_\n",
      "7\t学习\t学习\tv\tv\t_\t4\t并列关系\t_\t_\n",
      "8\t带动\t带动\tv\tv\t_\t4\t并列关系\t_\t_\n",
      "9\t人工智能\t人工智能\tn\tn\t_\t12\t定中关系\t_\t_\n",
      "10\t飞速\t飞速\td\td\t_\t12\t定中关系\t_\t_\n",
      "11\t的\t的\tu\tu\t_\t10\t右附加关系\t_\t_\n",
      "12\t发展\t发展\tv\tvn\t_\t8\t动宾关系\t_\t_\n",
      "13\t，\t，\twp\tw\t_\t4\t标点符号\t_\t_\n",
      "14\t并\t并\tc\tc\t_\t22\t状中结构\t_\t_\n",
      "15\t在\t在\tp\tp\t_\t22\t状中结构\t_\t_\n",
      "16\t图片\t图片\tn\tn\t_\t17\t前置宾语\t_\t_\n",
      "17\t处理\t处理\tv\tvn\t_\t21\t定中关系\t_\t_\n",
      "18\t、\t、\twp\tw\t_\t20\t标点符号\t_\t_\n",
      "19\t语音\t语音\tn\tn\t_\t20\t前置宾语\t_\t_\n",
      "20\t识别\t识别\tv\tvn\t_\t17\t并列关系\t_\t_\n",
      "21\t领域\t领域\tn\tn\t_\t15\t介宾关系\t_\t_\n",
      "22\t取得\t取得\tv\tv\t_\t4\t并列关系\t_\t_\n",
      "23\t巨大\t巨大\ta\ta\t_\t24\t定中关系\t_\t_\n",
      "24\t成功\t成功\ta\tan\t_\t22\t动宾关系\t_\t_\n",
      "25\t。\t。\twp\tw\t_\t4\t标点符号\t_\t_\n",
      "\n"
     ]
    }
   ],
   "source": [
    "# 依存句法分析\n",
    "content = \"现如今，机器学习和深度学习带动人工智能飞速的发展，并在图片处理、语音识别领域取得巨大成功。\"\n",
    "print(HanLP.parseDependency(content))"
   ]
  },
  {
   "cell_type": "code",
   "execution_count": 4,
   "metadata": {},
   "outputs": [
    {
     "ename": "AttributeError",
     "evalue": "type object 'com.hankcs.hanlp.corpus.io.IOUtil' has no attribute 'loadDictiornary'",
     "output_type": "error",
     "traceback": [
      "\u001b[1;31m---------------------------------------------------------------------------\u001b[0m",
      "\u001b[1;31mAttributeError\u001b[0m                            Traceback (most recent call last)",
      "\u001b[1;32m<ipython-input-4-710ea732e28b>\u001b[0m in \u001b[0;36m<module>\u001b[1;34m\u001b[0m\n\u001b[0;32m      4\u001b[0m     \u001b[0mdic\u001b[0m \u001b[1;33m=\u001b[0m \u001b[0mIOUtil\u001b[0m\u001b[1;33m.\u001b[0m\u001b[0mloadDictiornary\u001b[0m\u001b[1;33m(\u001b[0m\u001b[1;33m[\u001b[0m\u001b[0mpath\u001b[0m\u001b[1;33m]\u001b[0m\u001b[1;33m)\u001b[0m\u001b[1;33m\u001b[0m\u001b[1;33m\u001b[0m\u001b[0m\n\u001b[0;32m      5\u001b[0m     \u001b[1;32mreturn\u001b[0m \u001b[0mset\u001b[0m\u001b[1;33m(\u001b[0m\u001b[0mdic\u001b[0m\u001b[1;33m.\u001b[0m\u001b[0mkeySet\u001b[0m\u001b[1;33m(\u001b[0m\u001b[1;33m)\u001b[0m\u001b[1;33m)\u001b[0m\u001b[1;33m\u001b[0m\u001b[1;33m\u001b[0m\u001b[0m\n\u001b[1;32m----> 6\u001b[1;33m \u001b[0mprint\u001b[0m\u001b[1;33m(\u001b[0m\u001b[0mload_dictionary\u001b[0m\u001b[1;33m(\u001b[0m\u001b[1;33m)\u001b[0m\u001b[1;33m)\u001b[0m\u001b[1;33m\u001b[0m\u001b[1;33m\u001b[0m\u001b[0m\n\u001b[0m",
      "\u001b[1;32m<ipython-input-4-710ea732e28b>\u001b[0m in \u001b[0;36mload_dictionary\u001b[1;34m()\u001b[0m\n\u001b[0;32m      2\u001b[0m     \u001b[0mIOUtil\u001b[0m \u001b[1;33m=\u001b[0m \u001b[0mJClass\u001b[0m\u001b[1;33m(\u001b[0m\u001b[1;34m'com.hankcs.hanlp.corpus.io.IOUtil'\u001b[0m\u001b[1;33m)\u001b[0m\u001b[1;33m\u001b[0m\u001b[1;33m\u001b[0m\u001b[0m\n\u001b[0;32m      3\u001b[0m     \u001b[0mpath\u001b[0m \u001b[1;33m=\u001b[0m \u001b[0mHanLP\u001b[0m\u001b[1;33m.\u001b[0m\u001b[0mConfig\u001b[0m\u001b[1;33m.\u001b[0m\u001b[0mCoreDictionaryPath\u001b[0m\u001b[1;33m.\u001b[0m\u001b[0mreplace\u001b[0m\u001b[1;33m(\u001b[0m\u001b[1;34m'.txt'\u001b[0m\u001b[1;33m,\u001b[0m\u001b[1;34m'.mini.txt'\u001b[0m\u001b[1;33m)\u001b[0m\u001b[1;33m\u001b[0m\u001b[1;33m\u001b[0m\u001b[0m\n\u001b[1;32m----> 4\u001b[1;33m     \u001b[0mdic\u001b[0m \u001b[1;33m=\u001b[0m \u001b[0mIOUtil\u001b[0m\u001b[1;33m.\u001b[0m\u001b[0mloadDictiornary\u001b[0m\u001b[1;33m(\u001b[0m\u001b[1;33m[\u001b[0m\u001b[0mpath\u001b[0m\u001b[1;33m]\u001b[0m\u001b[1;33m)\u001b[0m\u001b[1;33m\u001b[0m\u001b[1;33m\u001b[0m\u001b[0m\n\u001b[0m\u001b[0;32m      5\u001b[0m     \u001b[1;32mreturn\u001b[0m \u001b[0mset\u001b[0m\u001b[1;33m(\u001b[0m\u001b[0mdic\u001b[0m\u001b[1;33m.\u001b[0m\u001b[0mkeySet\u001b[0m\u001b[1;33m(\u001b[0m\u001b[1;33m)\u001b[0m\u001b[1;33m)\u001b[0m\u001b[1;33m\u001b[0m\u001b[1;33m\u001b[0m\u001b[0m\n\u001b[0;32m      6\u001b[0m \u001b[0mprint\u001b[0m\u001b[1;33m(\u001b[0m\u001b[0mload_dictionary\u001b[0m\u001b[1;33m(\u001b[0m\u001b[1;33m)\u001b[0m\u001b[1;33m)\u001b[0m\u001b[1;33m\u001b[0m\u001b[1;33m\u001b[0m\u001b[0m\n",
      "\u001b[1;32m~\\.conda\\envs\\nlp36\\lib\\site-packages\\jpype\\_jclass.py\u001b[0m in \u001b[0;36m__getattribute__\u001b[1;34m(self, name)\u001b[0m\n\u001b[0;32m    141\u001b[0m                 \u001b[1;32mreturn\u001b[0m \u001b[0m_jclassDoc\u001b[0m\u001b[1;33m(\u001b[0m\u001b[0mself\u001b[0m\u001b[1;33m)\u001b[0m\u001b[1;33m\u001b[0m\u001b[1;33m\u001b[0m\u001b[0m\n\u001b[0;32m    142\u001b[0m             \u001b[1;32mreturn\u001b[0m \u001b[0mtype\u001b[0m\u001b[1;33m.\u001b[0m\u001b[0m__getattribute__\u001b[0m\u001b[1;33m(\u001b[0m\u001b[0mself\u001b[0m\u001b[1;33m,\u001b[0m \u001b[0mname\u001b[0m\u001b[1;33m)\u001b[0m\u001b[1;33m\u001b[0m\u001b[1;33m\u001b[0m\u001b[0m\n\u001b[1;32m--> 143\u001b[1;33m         \u001b[0mattr\u001b[0m \u001b[1;33m=\u001b[0m \u001b[0mtype\u001b[0m\u001b[1;33m.\u001b[0m\u001b[0m__getattribute__\u001b[0m\u001b[1;33m(\u001b[0m\u001b[0mself\u001b[0m\u001b[1;33m,\u001b[0m \u001b[0mname\u001b[0m\u001b[1;33m)\u001b[0m\u001b[1;33m\u001b[0m\u001b[1;33m\u001b[0m\u001b[0m\n\u001b[0m\u001b[0;32m    144\u001b[0m         \u001b[1;32mif\u001b[0m \u001b[0misinstance\u001b[0m\u001b[1;33m(\u001b[0m\u001b[0mattr\u001b[0m\u001b[1;33m,\u001b[0m \u001b[0m_jpype\u001b[0m\u001b[1;33m.\u001b[0m\u001b[0mPyJPMethod\u001b[0m\u001b[1;33m)\u001b[0m\u001b[1;33m:\u001b[0m\u001b[1;33m\u001b[0m\u001b[1;33m\u001b[0m\u001b[0m\n\u001b[0;32m    145\u001b[0m             \u001b[1;32mreturn\u001b[0m \u001b[0mattr\u001b[0m\u001b[1;33m\u001b[0m\u001b[1;33m\u001b[0m\u001b[0m\n",
      "\u001b[1;31mAttributeError\u001b[0m: type object 'com.hankcs.hanlp.corpus.io.IOUtil' has no attribute 'loadDictiornary'"
     ]
    }
   ],
   "source": [
    "def load_dictionary():\n",
    "    IOUtil = JClass('com.hankcs.hanlp.corpus.io.IOUtil')\n",
    "    path = HanLP.Config.CoreDictionaryPath.replace('.txt','.mini.txt')\n",
    "    dic = IOUtil.loadDictiornary([path])\n",
    "    return set(dic.keySet())\n",
    "print(load_dictionary())"
   ]
  },
  {
   "cell_type": "code",
   "execution_count": 5,
   "metadata": {},
   "outputs": [],
   "source": [
    "content = \"\"\"ㄟ 法律是道德的最低標準 你懂不懂?\n",
    "你說你沒有違反法律 那就是說你只是達到了道德的最低標準而已\n",
    "你反質詢合乎法律沒錯啊 但是觀感很差你知道嗎?\n",
    "其實從這邊就知道你平時做事的態度了\n",
    "只要不違反法律 就只是達到了道德觀感的最低標準...\n",
    "道德規範體現著每個人的文明程度和素養\n",
    "如果只是狹隘的認為 只要不違法 觀感標準隨便應對\n",
    "那真是可憐吶\"\"\""
   ]
  },
  {
   "cell_type": "code",
   "execution_count": 3,
   "metadata": {},
   "outputs": [
    {
     "name": "stdout",
     "output_type": "stream",
     "text": [
      "[只要不違反法律 就只是達到了道德觀感的最低標準..., 你反質詢合乎法律沒錯啊 但是觀感很差你知道嗎, 你說你沒有違反法律 那就是說你只是達到了道德的最低標準而已]\n"
     ]
    }
   ],
   "source": [
    "# 自動摘要\n",
    "print(HanLP.extractSummary(content,3))"
   ]
  },
  {
   "cell_type": "code",
   "execution_count": 7,
   "metadata": {},
   "outputs": [
    {
     "name": "stdout",
     "output_type": "stream",
     "text": [
      "[準, 觀, 違]\n"
     ]
    }
   ],
   "source": [
    "# 關鍵字提取\n",
    "print(HanLP.extractKeyword(content,3))"
   ]
  },
  {
   "cell_type": "code",
   "execution_count": 6,
   "metadata": {},
   "outputs": [
    {
     "name": "stdout",
     "output_type": "stream",
     "text": [
      "[ㄟ /w, 法律/n, 是/vshi, 道德/n, 的/ude1, 最低/a, 標/w, 準/nz,  /w, 你/rr, 懂不懂/v, ?/w, \n",
      "/w, 你/rr, 說/v, 你/rr, 沒有/v, 違/n, 反/vi, 法律/n,  /w, 那/rzv, 就是/v, 說/v, 你/rr, 只是/d, 達/v, 到/v, 了/ule, 道德/n, 的/ude1, 最低/a, 標/w, 準/nz, 而已/y, \n",
      "/w, 你/rr, 反/vi, 質詢/n, 合乎/v, 法律/n, 沒/nz, 錯/n, 啊/y,  /w, 但是/c, 觀/n, 感/vg, 很差/d, 你/rr, 知道/v, 嗎/w, ?/w, \n",
      "/w, 其/rz, 實/w, 從/p, 這邊/n, 就/d, 知道/v, 你/rr, 平/v, 時/ng, 做事/vi, 的/ude1, 態度/n, 了/ule, \n",
      "/w, 只/d, 要不/c, 違/n, 反/vi, 法律/n,  /w, 就/d, 只是/d, 達/v, 到/v, 了/ule, 道德/n, 觀/n, 感/vg, 的/ude1, 最低/a, 標/w, 準/nz, .../w, \n",
      "/w, 道德/n, 規範體/n, 現/w, 著/nz, 每/rz, 個人/n, 的/ude1, 文明/n, 程度/n, 和/cc, 素/ag, 養/n, \n",
      "/w, 如果/c, 只是/d, 狹/w, 隘/ng, 的/ude1, 認/n, 為/nz,  /w, 只/d, 要不/c, 違/n, 法/n,  /w, 觀/n, 感/vg, 標/w, 準/nz, 隨/nz, 便/d, 應/w, 對/p, \n",
      "/w, 那/rzv, 真是/d, 可/v, 憐/w, 吶/n]\n"
     ]
    }
   ],
   "source": [
    "print(HanLP.segment(content))"
   ]
  },
  {
   "cell_type": "code",
   "execution_count": 8,
   "metadata": {},
   "outputs": [
    {
     "name": "stdout",
     "output_type": "stream",
     "text": [
      "1\tㄟ 法律\tㄟ 法律\tn\tn\t_\t2\t主谓关系\t_\t_\n",
      "2\t是\t是\tv\tv\t_\t0\t核心关系\t_\t_\n",
      "3\t道德\t道德\tn\tn\t_\t6\t定中关系\t_\t_\n",
      "4\t的\t的\tu\tu\t_\t3\t右附加关系\t_\t_\n",
      "5\t最低\t最低\ta\ta\t_\t6\t定中关系\t_\t_\n",
      "6\t標準 你懂\t標準 你懂\tn\tn\t_\t8\t主谓关系\t_\t_\n",
      "7\t不\t不\td\td\t_\t8\t状中结构\t_\t_\n",
      "8\t懂?\n",
      "你說\t懂?\n",
      "你說\tv\tv\t_\t2\t动宾关系\t_\t_\n",
      "9\t你\t你\tr\tr\t_\t12\t定中关系\t_\t_\n",
      "10\t沒有\t沒有\td\td\t_\t12\t定中关系\t_\t_\n",
      "11\t違反\t違反\tv\tv\t_\t12\t定中关系\t_\t_\n",
      "12\t法律 那就是說\t法律 那就是說\tn\tn\t_\t8\t动宾关系\t_\t_\n",
      "13\t你\t你\tr\tr\t_\t15\t主谓关系\t_\t_\n",
      "14\t只是\t只是\td\td\t_\t15\t状中结构\t_\t_\n",
      "15\t達到\t達到\tv\tv\t_\t8\t并列关系\t_\t_\n",
      "16\t了\t了\tu\tu\t_\t15\t右附加关系\t_\t_\n",
      "17\t道德\t道德\tn\tn\t_\t20\t定中关系\t_\t_\n",
      "18\t的\t的\tu\tu\t_\t17\t右附加关系\t_\t_\n",
      "19\t最低\t最低\ta\ta\t_\t20\t定中关系\t_\t_\n",
      "20\t標準\t標準\tn\tn\t_\t22\t主谓关系\t_\t_\n",
      "21\t而已\n",
      "你反質詢\t而已\n",
      "你反質詢\ta\tad\t_\t22\t状中结构\t_\t_\n",
      "22\t合乎\t合乎\tv\tv\t_\t15\t并列关系\t_\t_\n",
      "23\t法律\t法律\tn\tn\t_\t22\t动宾关系\t_\t_\n",
      "24\t沒錯啊 但是\t沒錯啊 但是\td\td\t_\t28\t状中结构\t_\t_\n",
      "25\t觀感\t觀感\tVg\tVg\t_\t28\t状中结构\t_\t_\n",
      "26\t很差\t很差\tp\tp\t_\t28\t状中结构\t_\t_\n",
      "27\t你\t你\tr\tr\t_\t28\t主谓关系\t_\t_\n",
      "28\t知道\t知道\tv\tv\t_\t22\t并列关系\t_\t_\n",
      "29\t嗎?\n",
      "其實\t嗎?\n",
      "其實\td\td\t_\t33\t状中结构\t_\t_\n",
      "30\t從\t從\tp\tp\t_\t33\t状中结构\t_\t_\n",
      "31\t這邊\t這邊\tr\tr\t_\t30\t介宾关系\t_\t_\n",
      "32\t就\t就\td\td\t_\t33\t状中结构\t_\t_\n",
      "33\t知道\t知道\tv\tv\t_\t28\t动宾关系\t_\t_\n",
      "34\t你\t你\tr\tr\t_\t36\t主谓关系\t_\t_\n",
      "35\t平時\t平時\tnt\tt\t_\t36\t状中结构\t_\t_\n",
      "36\t做事\t做事\tv\tv\t_\t38\t定中关系\t_\t_\n",
      "37\t的\t的\tu\tu\t_\t36\t右附加关系\t_\t_\n",
      "38\t態度了\n",
      "只要\t態度了\n",
      "只要\tn\tn\t_\t40\t主谓关系\t_\t_\n",
      "39\t不\t不\td\td\t_\t40\t状中结构\t_\t_\n",
      "40\t違反\t違反\tv\tv\t_\t33\t动宾关系\t_\t_\n",
      "41\t法律 就只是\t法律 就只是\tn\tn\t_\t40\t动宾关系\t_\t_\n",
      "42\t達到\t達到\tv\tv\t_\t40\t并列关系\t_\t_\n",
      "43\t了\t了\tu\tu\t_\t42\t右附加关系\t_\t_\n",
      "44\t道德\t道德\tn\tn\t_\t45\t定中关系\t_\t_\n",
      "45\t觀感\t觀感\tn\tn\t_\t48\t定中关系\t_\t_\n",
      "46\t的\t的\tu\tu\t_\t45\t右附加关系\t_\t_\n",
      "47\t最低\t最低\ta\ta\t_\t48\t定中关系\t_\t_\n",
      "48\t標準\t標準\tn\tn\t_\t57\t定中关系\t_\t_\n",
      "49\t...\n",
      "道德規範\t...\n",
      "道德規範\ta\tad\t_\t57\t定中关系\t_\t_\n",
      "50\t體現\t體現\tv\tv\t_\t57\t定中关系\t_\t_\n",
      "51\t著\t著\tv\tv\t_\t50\t右附加关系\t_\t_\n",
      "52\t每\t每\tr\tr\t_\t53\t定中关系\t_\t_\n",
      "53\t個\t個\tq\tq\t_\t54\t定中关系\t_\t_\n",
      "54\t人\t人\tn\tn\t_\t57\t定中关系\t_\t_\n",
      "55\t的\t的\tu\tu\t_\t54\t右附加关系\t_\t_\n",
      "56\t文明\t文明\tn\tn\t_\t57\t定中关系\t_\t_\n",
      "57\t程度\t程度\tn\tn\t_\t69\t主谓关系\t_\t_\n",
      "58\t和\t和\tc\tc\t_\t59\t左附加关系\t_\t_\n",
      "59\t素養\n",
      "如果\t素養\n",
      "如果\tn\tn\t_\t57\t并列关系\t_\t_\n",
      "60\t只是\t只是\td\td\t_\t69\t状中结构\t_\t_\n",
      "61\t狹隘\t狹隘\ta\ta\t_\t63\t定中关系\t_\t_\n",
      "62\t的\t的\tu\tu\t_\t61\t右附加关系\t_\t_\n",
      "63\t認為 只要\t認為 只要\ta\tan\t_\t68\t定中关系\t_\t_\n",
      "64\t不\t不\td\td\t_\t65\t状中结构\t_\t_\n",
      "65\t違法 觀感\t違法 觀感\ta\ta\t_\t66\t定中关系\t_\t_\n",
      "66\t標準\t標準\tn\tn\t_\t68\t定中关系\t_\t_\n",
      "67\t隨便\t隨便\ta\tad\t_\t68\t定中关系\t_\t_\n",
      "68\t應對\n",
      "那真\t應對\n",
      "那真\tv\tv\t_\t69\t主谓关系\t_\t_\n",
      "69\t是\t是\tv\tv\t_\t42\t并列关系\t_\t_\n",
      "70\t可憐\t可憐\tv\tv\t_\t69\t动宾关系\t_\t_\n",
      "71\t吶\t吶\te\ty\t_\t70\t动宾关系\t_\t_\n",
      "\n"
     ]
    }
   ],
   "source": [
    "# 依存句法分析\n",
    "print(HanLP.parseDependency(content))"
   ]
  },
  {
   "cell_type": "code",
   "execution_count": 9,
   "metadata": {},
   "outputs": [
    {
     "name": "stdout",
     "output_type": "stream",
     "text": [
      "ㄟ \tw\n",
      "法律\tn\n",
      "是\tvshi\n",
      "道德\tn\n",
      "的\tude1\n",
      "最低\ta\n",
      "標\tw\n",
      "準\tnz\n",
      " \tw\n",
      "你\trr\n",
      "懂不懂\tv\n",
      "?\tw\n",
      "\n",
      "\tw\n",
      "你\trr\n",
      "說\tv\n",
      "你\trr\n",
      "沒有\tv\n",
      "違\tn\n",
      "反\tvi\n",
      "法律\tn\n",
      " \tw\n",
      "那\trzv\n",
      "就是\tv\n",
      "說\tv\n",
      "你\trr\n",
      "只是\td\n",
      "達\tv\n",
      "到\tv\n",
      "了\tule\n",
      "道德\tn\n",
      "的\tude1\n",
      "最低\ta\n",
      "標\tw\n",
      "準\tnz\n",
      "而已\ty\n",
      "\n",
      "\tw\n",
      "你\trr\n",
      "反\tvi\n",
      "質詢\tn\n",
      "合乎\tv\n",
      "法律\tn\n",
      "沒\tnz\n",
      "錯\tn\n",
      "啊\ty\n",
      " \tw\n",
      "但是\tc\n",
      "觀\tn\n",
      "感\tvg\n",
      "很差\td\n",
      "你\trr\n",
      "知道\tv\n",
      "嗎\tw\n",
      "?\tw\n",
      "\n",
      "\tw\n",
      "其\trz\n",
      "實\tw\n",
      "從\tp\n",
      "這邊\tn\n",
      "就\td\n",
      "知道\tv\n",
      "你\trr\n",
      "平\tv\n",
      "時\tng\n",
      "做事\tvi\n",
      "的\tude1\n",
      "態度\tn\n",
      "了\tule\n",
      "\n",
      "\tw\n",
      "只\td\n",
      "要不\tc\n",
      "違\tn\n",
      "反\tvi\n",
      "法律\tn\n",
      " \tw\n",
      "就\td\n",
      "只是\td\n",
      "達\tv\n",
      "到\tv\n",
      "了\tule\n",
      "道德\tn\n",
      "觀\tn\n",
      "感\tvg\n",
      "的\tude1\n",
      "最低\ta\n",
      "標\tw\n",
      "準\tnz\n",
      "...\tw\n",
      "\n",
      "\tw\n",
      "道德\tn\n",
      "規範體\tn\n",
      "現\tw\n",
      "著\tnz\n",
      "每\trz\n",
      "個人\tn\n",
      "的\tude1\n",
      "文明\tn\n",
      "程度\tn\n",
      "和\tcc\n",
      "素\tag\n",
      "養\tn\n",
      "\n",
      "\tw\n",
      "如果\tc\n",
      "只是\td\n",
      "狹\tw\n",
      "隘\tng\n",
      "的\tude1\n",
      "認\tn\n",
      "為\tnz\n",
      " \tw\n",
      "只\td\n",
      "要不\tc\n",
      "違\tn\n",
      "法\tn\n",
      " \tw\n",
      "觀\tn\n",
      "感\tvg\n",
      "標\tw\n",
      "準\tnz\n",
      "隨\tnz\n",
      "便\td\n",
      "應\tw\n",
      "對\tp\n",
      "\n",
      "\tw\n",
      "那\trzv\n",
      "真是\td\n",
      "可\tv\n",
      "憐\tw\n",
      "吶\tn\n"
     ]
    }
   ],
   "source": [
    "for term in HanLP.segment(content):\n",
    "    print('{}\\t{}'.format(term.word, term.nature))"
   ]
  },
  {
   "cell_type": "code",
   "execution_count": 3,
   "metadata": {},
   "outputs": [
    {
     "name": "stdout",
     "output_type": "stream",
     "text": [
      "[2022/m, //w, 06/m, //w, 08/m,  /w, 22/m, :/w, 05/m, \n",
      "/w, 〔/w, 即/v, 時/ng, 新/a, 聞/n, ／/w, 綜/nz, 合/v, 報/nz, 導/w, 〕/mq, 烏/w, 克/q, 蘭/nz, 盧/n, 甘斯/nrf, 克州/nz, （/w, Lugansk/nx, ）/w, 州/n, 長蓋/n, 戴/v, （/w, Sergiy/nx,  /w, Gaiday/nx, ）/w, 今/tg, （/w, 8/m, ）/w, 日/b, 表示/v, ，/w, 由/p, 於/nz, 戰/v, 況/w, 不利/a, ，/w, 烏/w, 軍/nz, 有可能/nz, 得/ude3, 從/p, 北/f, 頓/n, 內/nz, 茨/ng, 克/q, （/w, Severodonetsk/nx, ）/w, 撤退/vi, 。/w, \n",
      "\n",
      "/w, 《/w, 法新社/j, 》/w, 報/nz, 導/w, ，/w, 蓋/n, 戴/v, 本/rz, 日/b, 在/p, 接受/v, 1/m, +/w, 1/m, 電視台/nis, 採/nz, 訪/n, 時/ng, 表示/v, ，/w, 「/w, 有可能/nz, 我們/rr, 得/ude3, 撤退/vi, 到/v, 位置/n, 更好/d, 的/ude1, 據/nz, 點/qt, 。/w, 」/w, 因/p, 為/nz, 北/f, 頓/n, 內/nz, 茨/ng, 克/q, 全天/n, 24/m, 小/a, 時/ng, 持/v, 續/n, 遭受/v, 俄/b, 軍/nz, 砲/n, 擊/w, 。/w, \n",
      "\n",
      "/w, 北/f, 頓/n, 內/nz, 茨/ng, 克/q, 原本/d, 為/nz, 盧/n, 甘斯/nrf, 克州/nz, 的/ude1, 工/n, 業/nz, 重/a, 鎮/n, ，/w, 也/d, 是/vshi, 近期/t, 烏/w, 俄/b, 兩/w, 軍/nz, 激烈/a, 爭奪/w, 的/ude1, 戰/v, 略/d, 要/v, 點/qt, ，/w, 俄/b, 羅斯/nr, 昨日/t, 公開/ad, 宣/nz, 稱/v, 已/d, 成功/a, 占/v, 領/n, 北/f, 頓/n, 內/nz, 茨/ng, 克/q, 的/ude1, 住宅/n, 區/w, ，/w, 工/n, 業/nz, 區/w, 則/d, 尚在/nr, 烏/w, 克/q, 蘭/nz, 掌握/v, 中/f, 。/w, \n",
      "\n",
      "/w, 北/f, 頓/n, 內/nz, 茨/ng, 克/q, 與/cc, 利/n, 西昌/ns, 斯克/nr, （/w, Lysychansk/nx, ）/w, 是/vshi, 烏/w, 克/q, 蘭/nz, 在/p, 盧/n, 甘斯/nrf, 克州/nz, 的/ude1, 最/d, 後/nz, 兩/w, 處/n, 據/nz, 點/qt, ，/w, 這/n, 兩/w, 座/q, 城市/n, 被/pbei, 北/f, 頓/n, 涅/vg, 茨河/nz, （/w, Siverskyi/nx,  /w, Donets/nx, ）/w, 分隔/vi, ，/w, 不過/c, 利/n, 西昌/ns, 斯克/nr, 也/d, 正在/d, 遭受/v, 俄/b, 軍/nz, 的/ude1, 砲/n, 火/n, 打/v, 擊/w, 。/w, \n",
      "\n",
      "/w]\n"
     ]
    }
   ],
   "source": [
    "NEWS = \"\"\"2022/06/08 22:05\n",
    "〔即時新聞／綜合報導〕烏克蘭盧甘斯克州（Lugansk）州長蓋戴（Sergiy Gaiday）今（8）日表示，由於戰況不利，烏軍有可能得從北頓內茨克（Severodonetsk）撤退。\n",
    "\n",
    "《法新社》報導，蓋戴本日在接受1+1電視台採訪時表示，「有可能我們得撤退到位置更好的據點。」因為北頓內茨克全天24小時持續遭受俄軍砲擊。\n",
    "\n",
    "北頓內茨克原本為盧甘斯克州的工業重鎮，也是近期烏俄兩軍激烈爭奪的戰略要點，俄羅斯昨日公開宣稱已成功占領北頓內茨克的住宅區，工業區則尚在烏克蘭掌握中。\n",
    "\n",
    "北頓內茨克與利西昌斯克（Lysychansk）是烏克蘭在盧甘斯克州的最後兩處據點，這兩座城市被北頓涅茨河（Siverskyi Donets）分隔，不過利西昌斯克也正在遭受俄軍的砲火打擊。\n",
    "\n",
    "\"\"\"\n",
    "print(HanLP.segment(NEWS))"
   ]
  },
  {
   "cell_type": "code",
   "execution_count": 4,
   "metadata": {
    "scrolled": true
   },
   "outputs": [
    {
     "name": "stdout",
     "output_type": "stream",
     "text": [
      "[ /w, 前/f, 德/b, 國/w, 總/n, 理/n, 梅克/nrf, 爾/w, （/w, Angela/nx,  /w, Merkel/nx, ）/w, 昨/tg, （/w, 7/m, ）/w, 日/b, 表示/v, ，/w, 對於/p, 俄/b, 烏/w, 情/n, 勢/w, 演/v, 變/n, 至此/d, 「/w, 沒有/v, 什/ng, 麼/nz, 好/a, 道歉/vi, 的/ude1, 」/w, ，/w, 強/nz, 調/n, 自己/rr, 已/d, 努力/ad, 。/w, 她/rr, 也/d, 為/nz, 自己/rr, 於/nz, 2008/m, 年/qt, 反/vi, 對/p, 烏/w, 克/q, 蘭/nz, 加入/v, 北/f, 大西洋/nsf, 公/ng, 約組織/n, （/w, NATO/nx, ）/w, 的/ude1, 決定/v, 辯護/n, ，/w, 指出/v, 當/p, 時/ng, 如果/c, 讓/v, 烏/w, 加入/v, 北/f, 約/n, ，/w, 恐/vg, 讓/v, 普/ag, 丁/ng, 出手/vi, ，/w, 同/p, 時/ng, 烏/w, 克/q, 蘭/nz, 也/d, 還是/c, 個/q, 充/v, 滿/w, 腐/vg, 敗/w, 、/w, 由/p, 寡/ag, 頭/n, 治理/vn, 的/ude1, 國/w, 家/q, 。/w, \n",
      "\n",
      "/w, 綜/nz, 合/v, 英國/nr, 《/w, 衛/n, 報/nz, 》/w, （/w, The/nx,  /w, Guardian/nx, ）/w, 、/w, 英/b, 國廣/w, 播/v, 公司/nis, （/w, BBC/nx, ）/w, 、/w, 路透社/nt, 等/udeng, 外/f, 媒/ng, 報/nz, 導/w, ，/w, 梅克/nrf, 爾/w, 昨日/t, 接受/v, 德/b, 國/w, 《/w, 明/ag, 鏡/n, 周刊/n, 》/w, （/w, Der/nx,  /w, Spiegel/nx, ）/w, 記/v, 者/k, 歐/w, 桑/ng, （/w, Alexander/nx,  /w, Osang/nx, ）/w, 訪/n, 問/v, ，/w, 這/n, 是/vshi, 她/rr, 卸任/vi, 總/n, 理/n, 職/n, 務/w, 6/m, 個/q, 月/n, 後/nz, 的/ude1, 首場/n, 主要/b, 專/w, 訪/n, 。/w, \n",
      "\n",
      "/w, 當/p, 被/pbei, 問/v, 到/v, 她/rr, 是否/v, 後/nz, 悔/vg, 在/p, 2008/m, 年/qt, 反/vi, 對/p, 烏/w, 克/q, 蘭/nz, 加入/v, 北/f, 約/n, 時/ng, ，/w, 梅克/nrf, 爾/w, 辯護/n, 她/rr, 當/p, 時/ng, 希望/v, 避免/v, 升高/v, 與/cc, 俄/b, 羅斯/nr, 的/ude1, 緊張/a, 情/n, 勢/w, ，/w, 同/p, 時/ng, 烏/w, 克/q, 蘭/nz, 那/rzv, 時/ng, 也/d, 尚未/d, 準/nz, 備/w, 好/a, 加入/v, 北/f, 約/n, 。/w, \n",
      "\n",
      "/w, 「/w, 烏/w, 克/q, 蘭/nz, 當/p, 時/ng, 並不/d, 是/vshi, 我們/rr, 現/w, 在/p, 所/usuo, 認識/n, 的/ude1, 國/w, 家/q, ，/w, 是/vshi, 一/m, 個/q, 非常/d, 分裂/vi, 的/ude1, 烏/w, 克/q, 蘭/nz, ，/w, 就算/d, 是/vshi, 改革派/n, 提/v, 摩/b, 申科/nr, （/w, Yulia/nx,  /w, Tymoshenko/nx, ）/w, 、/w, 尤申科/nr, （/w, Viktor/nx,  /w, Yushchenko/nx, ）/w, 也/d, 意/ng, 見/n, 相左/vi, ，/w, 這/n, 代表/nnt, 它/rr, 不是/c, 一/m, 個/q, 內/nz, 在/p, 民主/a, 強/nz, 化/v, 的/ude1, 國/w, 家/q, 。/w, 」/w, \n",
      "\n",
      "/w, 她/rr, 也/d, 提到/v, 烏/w, 克/q, 蘭/nz, 當/p, 時/ng, 仍/d, 是/vshi, 由/p, 寡/ag, 頭/n, 治理/vn, 的/ude1, 國/w, 家/q, ，/w, 「/w, 這個/rz, 國/w, 家/q, 不/d, 穩/n, 定/v, ，/w, 充/v, 滿/w, 腐/vg, 敗/w, 。/w, 」/w, \n",
      "\n",
      "/w, 梅克/nrf, 爾/w, 也/d, 解/v, 釋/n, ，/w, 當/p, 時/ng, 若/c, 同意/v, 烏/w, 克/q, 蘭/nz, 加入/v, 北/f, 約/n, ，/w, 在/p, 俄/b, 羅斯/nr, 總統/n, 普/ag, 丁/ng, 眼中/s, 將/d, 等同/vi, 於/nz, 「/w, 宣/nz, 戰/v, 」/w, ，/w, 她/rr, 說/v, 非常/d, 了解/v, 普丁/nr, 的/ude1, 想法/n, ，/w, 不/d, 希望/v, 進/vf, 一/m, 步/qv, 激怒/v, 普/ag, 丁/ng, 。/w, \n",
      "\n",
      "/w, 梅克/nrf, 爾/w, 稱/v, 是/vshi, 基/ng, 於/nz, 烏/w, 克/q, 蘭/nz, 的/ude1, 最大/gm, 利益/n, 才/d, 阻/vg, 擋烏/w, 克/q, 蘭/nz, 加入/v, 北/f, 約/n, ，/w, 強/nz, 調/n, 真正/d, 加入/v, 北/f, 約須經/n, 歷/w, 一/m, 段/q, 過/uguo, 程/n, ，/w, 「/w, 我/rr, 知道/v, 這個/rz, 過/uguo, 程中普/nr, 丁/ng, 會/v, 對/p, 烏/w, 克/q, 蘭/nz, 做/v, 一些/m, 不利/a, 於/nz, 它/rr, 的/ude1, 事/n, 。/w, 」/w, \n",
      "\n",
      "/w, 關於/nr, 為/nz, 了解/v, 決/nz, 烏東/w, 衝/n, 突/vg, 而/cc, 在/p, 2014/m, 、/w, 2015/m, 年/qt, 簽/n, 署/ng, 的/ude1, 《/w, 明斯克/nsf, 協/w, 議/n, 》/w, ，/w, 梅克/nrf, 爾/w, 強/nz, 調這/n, 2/m, 份/q, 協/w, 議/n, 為/nz, 烏/w, 克/q, 蘭/nz, 爭/w, 取/v, 了/ule, 時/ng, 間/n, 、/w, 強/nz, 化/v, 自己/rr, 的/ude1, 軍/nz, 隊/n, ，/w, 「/w, 它/rr, 讓/v, 這/n, 場/qv, 紛/n, 爭/w, 冷靜/nr, 下/f, 來/nz, ，/w, 為/nz, 烏/w, 克/q, 蘭/nz, 爭/w, 取/v, 時/ng, 間發/n, 展/vg, 成/v, 現/w, 在/p, 的/ude1, 樣/w, 子/ng, 。/w, 」/w, \n",
      "\n",
      "/w, 「/w, 如果/c, 我/rr, 說/v, 和/cc, 那/rzv, 個/q, 男人/n, （/w, 指/v, 普丁/nr, ）/w, 沒/nz, 什/ng, 麼/nz, 好/a, 談/n, 的/ude1, ，/w, 我/rr, 會/v, 感到/v, 很糟/nz, 」/w, ，/w, 「/w, 沒有/v, 成功/a, 令人/v, 相當/d, 難/a, 過/uguo, ，/w, 但/c, 我/rr, 不/d, 怪自己/nz, 沒有/v, 嘗/w, 試/n, 。/w, 」/w, 她/rr, 認/n, 為/nz, 自己/rr, 已/d, 努力/ad, ，/w, 「/w, 我/rr, 不/d, 需要/v, 因/p, 為/nz, 不/d, 夠/w, 努力/ad, 而/cc, 責/n, 怪自己/nz, ，/w, 我/rr, 不/d, 認/n, 為/nz, 我/rr, 應/w, 該/rz, 說/v, 『/w, 那是/nr, 錯/n, 的/ude1, 』/w, ，/w, 這/n, 也/d, 是/vshi, 為什麼/ryv, 我/rr, 沒/nz, 什/ng, 麼/nz, 好/a, 道歉/vi, 的/ude1, 。/w, 」/w, \n",
      "\n",
      "/w, 關於德/nr, 國/w, 的/ude1, 寬/w, 容/v, 態度/n, 是否/v, 導/w, 致/v, 克/q, 宮/nz, 更加/d, 膽/n, 大/a, 妄/d, 為/nz, ，/w, 梅克/nrf, 爾/w, 認/n, 為/nz, 蘇聯/n, 解/v, 體/n, 製/nz, 造/v, 的/ude1, 地/ude2, 緣/n, 政治/n, 問/v, 題/n, 在/p, 她/rr, 16/m, 年/qt, 任期/n, 中/f, 仍/d, 持/v, 續/n, 存在/v, ，/w, 「/w, 沒/nz, 辦/n, 法/n, 合/v, 適/n, 地/ude2, 結/n, 束冷/nr, 戰/v, ，/w, 俄/b, 羅斯/nr, 問/v, 題/n, 一直/d, 存在/v, 。/w, 」/w, \n",
      "\n",
      "/w, 梅克/nrf, 爾/w, 表示/v, 一直/d, 到/v, 任期/n, 結/n, 束前/nr, 幾/w, 周/qt, 才/d, 開始/v, 嚴/w, 肅/n, 看待/v, 俄/b, 羅斯/nr, 入侵/v, 烏/w, 克/q, 蘭/nz, 的/ude1, 可能性/n, ，/w, 除了/p, 在/p, 專/w, 訪/n, 中/f, 明/ag, 確譴責/n, 俄/b, 羅斯外/nr, ，/w, 她/rr, 似乎/d, 也/d, 暗示/v, 西方/ns, 必/d, 須/n, 承/vg, 擔/w, 部分/n, 責/n, 任/v, 。/w, 她/rr, 認/n, 為/nz, 俄/b, 羅斯/nr, 犯下/v, 「/w, 大/a, 錯/n, 」/w, ，/w, 「/w, 我/rr, 要/v, 講/n, 清楚/a, ，/w, 我/rr, 不/d, 同意/v, 普丁/nr, 先生/n, 的/ude1, 觀/n, 點/qt, ，/w, 但/c, 我們/rr, 未能/v, 創造/v, 一/m, 個/q, 能避免/nz, 這個/rz, （/w, 烏/w, 克/q, 蘭/nz, 戰/v, 爭/w, ）/w, 的/ude1, 安全架/n, 構/w, ，/w, 我們/rr, 也/d, 應/w, 該/rz, 考/v, 慮/w, 這/n, 一/m, 點/qt, 。/w, 」/w, \n",
      "\n",
      "/w, 針/n, 對/p, 外界/n, 批/q, 評/n, ，/w, 在/p, 她/rr, 帶/v, 領/n, 下/f, 的/ude1, 德/b, 國/w, 陷入/v, 透/v, 過/uguo, 貿/n, 易/ad, 關/n, 係/nz, 就/d, 能/v, 讓/v, 俄/b, 羅斯/nr, 民主化/vn, 的/ude1, 幻想/n, ，/w, 梅克/nrf, 爾/w, 也/d, 予以/vx, 駁/n, 斥/vg, ，/w, 「/w, 我/rr, 不/d, 相信/v, 貿/n, 易能/nr, 改變/v, 普/ag, 丁/ng, 」/w, ，/w, 強/nz, 調/n, 她/rr, 的/ude1, 信念/n, 是/vshi, 政治/n, 合作/vn, 是/vshi, 可能/v, 的/ude1, ，/w, 至少/d, 與/cc, 俄/b, 羅斯/nr, 發/n, 展/vg, 一些/m, 經/n, 濟/w, 關/n, 係/nz, 是/vshi, 明智/a, 的/ude1, 。/w,  /w]\n"
     ]
    }
   ],
   "source": [
    "NEWS = \"\"\" 前德國總理梅克爾（Angela Merkel）昨（7）日表示，對於俄烏情勢演變至此「沒有什麼好道歉的」，強調自己已努力。她也為自己於2008年反對烏克蘭加入北大西洋公約組織（NATO）的決定辯護，指出當時如果讓烏加入北約，恐讓普丁出手，同時烏克蘭也還是個充滿腐敗、由寡頭治理的國家。\n",
    "\n",
    "綜合英國《衛報》（The Guardian）、英國廣播公司（BBC）、路透社等外媒報導，梅克爾昨日接受德國《明鏡周刊》（Der Spiegel）記者歐桑（Alexander Osang）訪問，這是她卸任總理職務6個月後的首場主要專訪。\n",
    "\n",
    "當被問到她是否後悔在2008年反對烏克蘭加入北約時，梅克爾辯護她當時希望避免升高與俄羅斯的緊張情勢，同時烏克蘭那時也尚未準備好加入北約。\n",
    "\n",
    "「烏克蘭當時並不是我們現在所認識的國家，是一個非常分裂的烏克蘭，就算是改革派提摩申科（Yulia Tymoshenko）、尤申科（Viktor Yushchenko）也意見相左，這代表它不是一個內在民主強化的國家。」\n",
    "\n",
    "她也提到烏克蘭當時仍是由寡頭治理的國家，「這個國家不穩定，充滿腐敗。」\n",
    "\n",
    "梅克爾也解釋，當時若同意烏克蘭加入北約，在俄羅斯總統普丁眼中將等同於「宣戰」，她說非常了解普丁的想法，不希望進一步激怒普丁。\n",
    "\n",
    "梅克爾稱是基於烏克蘭的最大利益才阻擋烏克蘭加入北約，強調真正加入北約須經歷一段過程，「我知道這個過程中普丁會對烏克蘭做一些不利於它的事。」\n",
    "\n",
    "關於為了解決烏東衝突而在2014、2015年簽署的《明斯克協議》，梅克爾強調這2份協議為烏克蘭爭取了時間、強化自己的軍隊，「它讓這場紛爭冷靜下來，為烏克蘭爭取時間發展成現在的樣子。」\n",
    "\n",
    "「如果我說和那個男人（指普丁）沒什麼好談的，我會感到很糟」，「沒有成功令人相當難過，但我不怪自己沒有嘗試。」她認為自己已努力，「我不需要因為不夠努力而責怪自己，我不認為我應該說『那是錯的』，這也是為什麼我沒什麼好道歉的。」\n",
    "\n",
    "關於德國的寬容態度是否導致克宮更加膽大妄為，梅克爾認為蘇聯解體製造的地緣政治問題在她16年任期中仍持續存在，「沒辦法合適地結束冷戰，俄羅斯問題一直存在。」\n",
    "\n",
    "梅克爾表示一直到任期結束前幾周才開始嚴肅看待俄羅斯入侵烏克蘭的可能性，除了在專訪中明確譴責俄羅斯外，她似乎也暗示西方必須承擔部分責任。她認為俄羅斯犯下「大錯」，「我要講清楚，我不同意普丁先生的觀點，但我們未能創造一個能避免這個（烏克蘭戰爭）的安全架構，我們也應該考慮這一點。」\n",
    "\n",
    "針對外界批評，在她帶領下的德國陷入透過貿易關係就能讓俄羅斯民主化的幻想，梅克爾也予以駁斥，「我不相信貿易能改變普丁」，強調她的信念是政治合作是可能的，至少與俄羅斯發展一些經濟關係是明智的。 \"\"\"\n",
    "\n",
    "print(HanLP.segment(NEWS))"
   ]
  },
  {
   "cell_type": "code",
   "execution_count": 5,
   "metadata": {},
   "outputs": [
    {
     "data": {
      "text/plain": [
       "'\\n#begin, 前/f, 德國/ns, 總理/nnt, 梅克爾/nr, (/w, Angela/nx, Markel/nx, )/w, 昨日/t, 表示/v, 對於/p, 俄/ns, 烏/ns, 情勢/n, 演變/v, 至此/, 「/w, 沒有/v, 什麼/ry, 好/d, 道歉/vi, 的/ude1, 」/w, 強調/v, 自己/rr, 已/d, 努力/ad, 。/#end\\n#bigin, 她/rr, 也/d, 為/v, 自己/rr, 於/p, 2008/m, 年/qt, 反對/v, 烏克蘭/ns, 加入/v, 北/f, 大西洋/ns, 公約/n, 組織/n, NATO/nx, 的/ude1, 決定/n, 辯護/v, ,/w, 指出/v, 當時/tg, 如果/c, 讓/v, 烏/ns, 加入/v, 北約/nt, 恐/vg, 讓/v, 普丁/nr, 出手/vi, ,/w, 同時/tg, 烏克蘭/ns, 也/d, 還是/c, 個/q, 充滿/v, 腐敗/v, 由/p, 寡頭/ad, 治理/v, 的/ude1, 國家/nt, 。/#end\\n#begin, 綜合/v, 英國/nr, 《/w, 衛報/nz, 》/w, （/w, The/nx, Guardian/nx, ）/w, 、/w, 英國/ns 廣播/v, 公司/nis, （/w, BBC/nx, ）/w, 、/w, 路透社/nt, 等/udeng, 外媒/r, 報導/v, ，/w, 梅克爾/nr, 昨日/t, 接受/v, 德國/ns, 《/w, 明鏡周刊/nt, 》/w, （/w, Der/nx, Spiegel/nx, ）/w, 記者/n, 歐桑/nr, （/w, Alexander/nx, Osang/nx, ）/w, 訪問/v, ，/w, 這/r, 是/vshi, 她/rr, 卸任/vi, 總理/n, 職務/n, 6/m, 個/q, 月/qt, 後/f, 的/ude1, 首場/n, 主要/a, 專訪/n, 。/#end\\n#begin, 當/p, 被/pbei, 問到/v, 她/rr, 是否/ry, 後悔/v, 在/p, 2008/m, 年/qt, 反對/v, 烏克蘭/ns, 加入/v, 北約/nt, 時/ut, ，/w, 梅克爾/nr, 辯護/v, 她/rr, 當時/t, 希望/v, 避免/v, 升高/v, 與/cc, 俄羅斯/ns, 的/ude1, 緊張/a, 情勢/n, ，/w, 同時/t, 烏克蘭/ns, 那/rzv, 時/t, 也/d, 尚未/d, 準備/v, 好/d, 加入/v, 北約/nt, 。/#end\\n#begin, 「/w, 烏克蘭/ns, 當時/t, 並不/d, 是/vshi, 我們/rr, 現在/t, 所/usuo, 認識/v, 的/ude1, 國家/n, ，/w, 是/vshi, 一/m, 個/q, 非常/d, 分裂/vi, 的/ude1, 烏克蘭/ns, ，/w, 就算/d, 是/vshi, 改革派/n, 提摩申科/nr, （/w, Yulia/nx, Tymoshenko/nx, ）/w, 、/w, 尤申科/nr, （/w, Viktor/nx, Yushchenko/nx, ）/w, 也/d, 意見/n, 相左/vi, ，/w, 這/r, 代表/v, 它/rr, 不/d, 是/vshi, 一/m, 個/q, 內在/n, 民主/n, 強化/v, 的/ude1, 國家/n, 。/w, 」/w#end\\n#begin, \\n\\n'"
      ]
     },
     "execution_count": 5,
     "metadata": {},
     "output_type": "execute_result"
    }
   ],
   "source": [
    "\"\"\"\n",
    "#begin, 前/f, 德國/ns, 總理/nnt, 梅克爾/nr, (/w, Angela/nx, Markel/nx, )/w, 昨日/t, 表示/v, 對於/p, 俄/ns, 烏/ns, 情勢/n, 演變/v, 至此/, 「/w, 沒有/v, 什麼/ry, 好/d, 道歉/vi, 的/ude1, 」/w, 強調/v, 自己/rr, 已/d, 努力/ad, 。/#end\n",
    "#bigin, 她/rr, 也/d, 為/v, 自己/rr, 於/p, 2008/m, 年/qt, 反對/v, 烏克蘭/ns, 加入/v, 北/f, 大西洋/ns, 公約/n, 組織/n, NATO/nx, 的/ude1, 決定/n, 辯護/v, ,/w, 指出/v, 當時/tg, 如果/c, 讓/v, 烏/ns, 加入/v, 北約/nt, 恐/vg, 讓/v, 普丁/nr, 出手/vi, ,/w, 同時/tg, 烏克蘭/ns, 也/d, 還是/c, 個/q, 充滿/v, 腐敗/v, 由/p, 寡頭/ad, 治理/v, 的/ude1, 國家/nt, 。/,w#end\n",
    "#begin, 綜合/v, 英國/nr, 《/w, 衛報/nz, 》/w, （/w, The/nx, Guardian/nx, ）/w, 、/w, 英國/ns 廣播/v, 公司/nis, （/w, BBC/nx, ）/w, 、/w, 路透社/nt, 等/udeng, 外媒/r, 報導/v, ，/w, 梅克爾/nr, 昨日/t, 接受/v, 德國/ns, 《/w, 明鏡周刊/nt, 》/w, （/w, Der/nx, Spiegel/nx, ）/w, 記者/n, 歐桑/nr, （/w, Alexander/nx, Osang/nx, ）/w, 訪問/v, ，/w, 這/r, 是/vshi, 她/rr, 卸任/vi, 總理/n, 職務/n, 6/m, 個/q, 月/qt, 後/f, 的/ude1, 首場/n, 主要/a, 專訪/n, 。/,w#end\n",
    "#begin, 當/p, 被/pbei, 問到/v, 她/rr, 是否/ry, 後悔/v, 在/p, 2008/m, 年/qt, 反對/v, 烏克蘭/ns, 加入/v, 北約/nt, 時/ut, ，/w, 梅克爾/nr, 辯護/v, 她/rr, 當時/t, 希望/v, 避免/v, 升高/v, 與/cc, 俄羅斯/ns, 的/ude1, 緊張/a, 情勢/n, ，/w, 同時/t, 烏克蘭/ns, 那/rzv, 時/n, 也/d, 尚未/d, 準備/v, 好/d, 加入/v, 北約/nt, 。/,w#end\n",
    "#begin, 「/w, 烏克蘭/ns, 當時/t, 並不/d, 是/vshi, 我們/rr, 現在/t, 所/usuo, 認識/v, 的/ude1, 國家/n, ，/w, 是/vshi, 一/m, 個/q, 非常/d, 分裂/vi, 的/ude1, 烏克蘭/ns, ，/w, 就算/d, 是/vshi, 改革派/n, 提摩申科/nr, （/w, Yulia/nx, Tymoshenko/nx, ）/w, 、/w, 尤申科/nr, （/w, Viktor/nx, Yushchenko/nx, ）/w, 也/d, 意見/n, 相左/vi, ，/w, 這/r, 代表/v, 它/rr, 不/d, 是/vshi, 一/m, 個/q, 內在/n, 民主/n, 強化/v, 的/ude1, 國家/n, 。/w, 」/w,#end\n",
    "#begin, 她/rr, 也/d, 提到/v, 烏克蘭/ns, 當時/t, 仍/d, 是/vshi, 由/p, 寡頭/n, 治理/v, 的/ude1, 國家/n, ，/w, 「/w, 這個/rz, 國家/n, 不/d, 穩定/v, ，/w, 充滿/v, 腐敗/n, 。/w, 」/w,#end\n",
    "#begin, 梅克爾/nr, 也/d, 解釋/v, ，/w, 當時/t, 若/c, 同意/v, 烏克蘭/ns, 加入/v, 北約/nt, ，/w, 在/p, 俄羅斯/ns, 總統/n, 普丁/nr, 眼中/s, 將/d, 等同/vi, 於/up, 「/w, 宣戰/v, 」/w, ，/w, 她/rr, 說/v, 非常/d, 了解/v, 普丁/nr, 的/ude1, 想法/n, ，/w, 不/d, 希望/v, 進一步/d, 激怒/v, 普丁/nr, 。/w,#end\n",
    "#begin, 梅克爾/nr, 稱/v, 是/vshi, 基於/v, 烏克蘭/ns, 的/ude1, 最大/a, 利益/n, 才/d, 阻擋/v, 烏克蘭/ns, 加入/v, 北約/nt, ，/w, 強調/v, 真正/d, 加入/v, 北約/nt, 須/d, 經歷/v, 一/m, 段/q, 過程/n, ，/w, 「/w, 我/rr, 知道/v, 這個/rz, 過程/n, 中/ut, 普丁/nr, 會/v, 對/v, 烏克蘭/ns, 做/v, 一些/m, 不利/a, 於/up, 它/rr, 的/ude1, 事/n, 。/w, 」/w,#end\n",
    "#begin, 關於/p, 為了/p, 解決/v, 烏/ns, 東/f, 衝突/n, 而/cc, 在/p, 2014/m, 、/w, 2015/m, 年/qt, 簽署/v, 的/ude1, 《/w, 明斯克/nsf, 協議/n, 》/w, ，/w, 梅克爾/nr, 強調/v, 這/rz, 2/m, 份/q, 協議/n, 為/p, 烏克蘭/ns, 爭取/v, 了/ule, 時間/n, 、/w, 強化/v, 自己/rr, 的/ude1, 軍隊/n, ，/w, 「/w, 它/rr, 讓/v, 這/rz, 場/q, 紛爭/n, 冷靜/v, 下來/v, ，/w, 為/p, 烏克蘭/ns, 爭取/v, 時間/n, 發展/v, 成/d, 現在/t, 的/ude1, 樣子/n, 。/w, 」/w,#end\n",
    "#begin, 「/w, 如果/c, 我/rr, 說/v, 和/cc, 那/rzv, 個/q, 男人/n, （/w, 指/v, 普丁/nr, ）/w, 沒/v, 什麼/nzv, 好/a, 談/v, 的/ude1, ，/w, 我/rr, 會/v, 感到/v, 很/d, 糟/n, 」/w, 「/w, 沒有/v, 成功/v, 令人/v, 相當/d, 難過/v, ，/w, 但/c, 我/rr, 不/d, 怪/v, 自己/rr, 沒有/v, 嘗試/v, 。/w, 」/w, 她/rr, 認為/v, 自己/rr, 已/d, 努力/v, ，/w, 「/w, 我/rr, 不/d, 需要/v, 因為/v, 不/d, 夠/d, 努力/v, 而/cc, 責怪/v, 自己/nz, ，/w, 我/rr, 不/d, 認為/v, 我/rr, 應該/v, 說/v, 『/w, 那/rz, 是/vshi, 錯/n, 的/ude1, 』/w, ，/w, 這/rz, 也/d, 是/vshi, 為什麼/ryv, 我/rr, 沒/v, 什麼/ry, 好/a, 道歉/vi, 的/ude1, 。/w, 」/w,#end\n",
    "#begin, 關於/p, 德國/ns, 的/ude1, 寬容/n, 態度/n, 是否/v, 導致/v, 克宮/ns, 更加/d, 膽/n, 大/a, 妄/d, 為/v, ，/w, 梅克爾/nr, 認為/v, 蘇聯/nt, 解體/v, 製造/v, 的/ude1, 地緣/n, 政治/n, 問題/n, 在/p, 她/rr, 16/m, 年/qt, 任期/n, 中/f, 仍/d, 持續/v, 存在/v, ，/w, 「/w, 沒/d, 辦法/n, 合適/v, 地/ude2, 結束/v, 冷戰/m, ，/w, 俄羅斯/ns, 問題/n, 一直/d, 存在/v, 。/w, 」/w,#end\n",
    "#begin, 梅克爾/nr, 表示/v, 一直/d, 到/v, 任期/n, 結束/v, 前/f, 幾/r, 周/qt, 才/d, 開始/v, 嚴肅/a, 看待/v, 俄羅斯/ns, 入侵/v, 烏克蘭/ns, 的/ude1, 可能性/n, ，/w, 除了/p, 在/p, 專訪/n, 中/f, 明確/a, 譴責/v, 俄羅斯/ns, 外/f, ，/w, 她/rr, 似乎/d, 也/d, 暗示/v, 西方/n, 必須/d, 承擔/v, 部分/n, 責任/n, 。/w, 她/rr, 認為/v, 俄羅斯/ns, 犯下/v, 「/w, 大/a, 錯/n, 」/w, ，/w, 「/w, 我/rr, 要/v, 講/v, 清楚/a, ，/w, 我/rr, 不/d, 同意/v, 普丁/nr, 先生/n, 的/ude1, 觀點/n, ，/w, 但/c, 我們/rr, 未能/v, 創造/v, 一/m, 個/q, 能/v, 避免/v, 這個/rz, （/w, 烏克蘭/ns, 戰爭/n, ）/w, 的/ude1, 安全/a, 架構/n, ，/w, 我們/rr, 也/d, 應該/v, 考慮/v, 這/rz, 一/m, 點/q, 。/w, 」/w,#end\n",
    "#begin, 針對/p, 外界/n, 批評/v, ，/w, 在/p, 她/rr, 帶領/v, 下/f, 的/ude1, 德國/ns, 陷入/v, 透過/v, 貿易/n, 關係/n, 就/d, 能/v, 讓/v, 俄羅斯/ns, 民主/n, 化/v, 的/ude1, 幻想/n, ，/w, 梅克爾/nr, 也/d, 予以/vx, 駁斥/v, ，/w, 「/w, 我/rr, 不/d, 相信/v, 貿易/n, 能/v, 改變/v, 普丁/nr, 」/w, ，/w, 強調/v, 她/rr, 的/ude1, 信念/n, 是/vshi, 政治/n, 合作/n, 是/vshi, 可能/v, 的/ude1, ，/w, 至少/d, 與/cc, 俄/b, 羅斯/nr, 發/n, 展/vg, 一些/m, 經/n, 濟/w, 關/n, 係/nz, 是/vshi, 明智/a, 的/ude1, 。/w,  /w]\n",
    "\"\"\""
   ]
  },
  {
   "cell_type": "code",
   "execution_count": 3,
   "metadata": {},
   "outputs": [
    {
     "name": "stdout",
     "output_type": "stream",
     "text": [
      "[當時若同意烏克蘭加入北約, 梅克爾強調這2份協議為烏克蘭爭取了時間、強化自己的軍隊, 當被問到她是否後悔在2008年反對烏克蘭加入北約時, 同時烏克蘭那時也尚未準備好加入北約, 梅克爾稱是基於烏克蘭的最大利益才阻擋烏克蘭加入北約]\n"
     ]
    }
   ],
   "source": [
    "NEWS = \"前德國總理梅克爾（Angela Merkel）昨（7）日表示，對於俄烏情勢演變至此「沒有什麼好道歉的」，強調自己已努力。她也為自己於2008年反對烏克蘭加入北大西洋公約組織（NATO）的決定辯護，指出當時如果讓烏加入北約，恐讓普丁出手，同時烏克蘭也還是個充滿腐敗、由寡頭治理的國家。綜合英國《衛報》（The Guardian）、英國廣播公司（BBC）、路透社等外媒報導，梅克爾昨日接受德國《明鏡周刊》（Der Spiegel）記者歐桑（Alexander Osang）訪問，這是她卸任總理職務6個月後的首場主要專訪。當被問到她是否後悔在2008年反對烏克蘭加入北約時，梅克爾辯護她當時希望避免升高與俄羅斯的緊張情勢，同時烏克蘭那時也尚未準備好加入北約。「烏克蘭當時並不是我們現在所認識的國家，是一個非常分裂的烏克蘭，就算是改革派提摩申科（Yulia Tymoshenko）、尤申科（Viktor Yushchenko）也意見相左，這代表它不是一個內在民主強化的國家。」她也提到烏克蘭當時仍是由寡頭治理的國家，「這個國家不穩定，充滿腐敗。」梅克爾也解釋，當時若同意烏克蘭加入北約，在俄羅斯總統普丁眼中將等同於「宣戰」，她說非常了解普丁的想法，不希望進一步激怒普丁。梅克爾稱是基於烏克蘭的最大利益才阻擋烏克蘭加入北約，強調真正加入北約須經歷一段過程，「我知道這個過程中普丁會對烏克蘭做一些不利於它的事。」關於為了解決烏東衝突而在2014、2015年簽署的《明斯克協議》，梅克爾強調這2份協議為烏克蘭爭取了時間、強化自己的軍隊，「它讓這場紛爭冷靜下來，為烏克蘭爭取時間發展成現在的樣子。」「如果我說和那個男人（指普丁）沒什麼好談的，我會感到很糟」，「沒有成功令人相當難過，但我不怪自己沒有嘗試。」她認為自己已努力，「我不需要因為不夠努力而責怪自己，我不認為我應該說『那是錯的』，這也是為什麼我沒什麼好道歉的。」關於德國的寬容態度是否導致克宮更加膽大妄為，梅克爾認為蘇聯解體製造的地緣政治問題在她16年任期中仍持續存在，「沒辦法合適地結束冷戰，俄羅斯問題一直存在。」梅克爾表示一直到任期結束前幾周才開始嚴肅看待俄羅斯入侵烏克蘭的可能性，除了在專訪中明確譴責俄羅斯外，她似乎也暗示西方必須承擔部分責任。她認為俄羅斯犯下「大錯」，「我要講清楚，我不同意普丁先生的觀點，但我們未能創造一個能避免這個（烏克蘭戰爭）的安全架構，我們也應該考慮這一點。」針對外界批評，在她帶領下的德國陷入透過貿易關係就能讓俄羅斯民主化的幻想，梅克爾也予以駁斥，「我不相信貿易能改變普丁」，強調她的信念是政治合作是可能的，至少與俄羅斯發展一些經濟關係是明智的。\"\n",
    "\n",
    "print(HanLP.extractSummary(NEWS,5))"
   ]
  },
  {
   "cell_type": "code",
   "execution_count": 7,
   "metadata": {},
   "outputs": [
    {
     "name": "stdout",
     "output_type": "stream",
     "text": [
      "[為了/p]\n"
     ]
    }
   ],
   "source": [
    "from pyhanlp import *\n"
   ]
  },
  {
   "cell_type": "code",
   "execution_count": 8,
   "metadata": {},
   "outputs": [
    {
     "name": "stdout",
     "output_type": "stream",
     "text": [
      "[因/p, 為/nz]\n"
     ]
    }
   ],
   "source": [
    "word = '因為'\n",
    "print(HanLP.segment(word ))"
   ]
  },
  {
   "cell_type": "code",
   "execution_count": 1,
   "metadata": {},
   "outputs": [
    {
     "name": "stdout",
     "output_type": "stream",
     "text": [
      "[日本/ns, 關/n, 東/w, 地/ude2, 區/w, 近日/t, 天/qt, 氣/w, 酷/ag, 熱/a, ，/w, 東/w, 京/b, 電/n, 力/n, 公司/nis, 評/n, 估/v, 轄/n, 內/nz, 地/ude2, 區/w, 電/n, 力/n, 供需/n, 嚴/w, 峻/ag, ，/w, 日本政府/nt, 首度/n, 發/n, 布/n, 「/w, 電/n, 力/n, 供需/n, 窘迫/a, 注意/v, 報/nz, 」/w, （/w, 次/qv, 於/nz, 警/ng, 報/nz, ）/w, ，/w, 要求/n, 民/ng, 眾/nz, 下午/t, 3/m, 時/ng, 至/p, 6/m, 時/ng, 盡/vi, 量/n, 節電/n, 。/w, \n",
      "\n",
      "/w, 日本/ns, 放送/v, 協/w, 會/v, （/w, NHK/nx, ）/w, 報/nz, 導/w, ，/w, 日本/ns, 氣/w, 象/ng, 廳/w, 今天/t, （/w, 6/m, //w, 27/m, ）/w, 上午/t, 宣布/v, ，/w, 關/n, 東/w, 甲/n, 信/n, 、/w, 東/w, 海地/nsf, 方/q, 以及/cc, 九州/ns, 南部/f, 梅/ng, 雨季/t, 已/d, 過/uguo, ，/w, 這/n, 是/vshi, 關/n, 東/w, 甲/n, 信/n, 地/ude2, 區歷/w, 來/nz, 梅/ng, 雨季/t, 最早/d, 結/n, 束/q, 的/ude1, 紀/n, 錄/nz, 。/w, 梅/ng, 雨季/t, 一/m, 過/uguo, ，/w, 天/qt, 氣/w, 變/n, 得/ude3, 酷/ag, 熱/a, ，/w, 氣/w, 象/ng, 廳/w, 呼/v, 籲/n, 民/ng, 眾/nz, 注意/v, 避免/v, 中暑/vi, 。/w, \n",
      "\n",
      "/w, 日本/ns, 將/d, 攝/w, 氏/ng, 30/m, 度/qv, 以上/f, 稱/v, 為/nz, 「/w, 真/a, 夏日/n, 」/w, ，/w, 35/m, 度/qv, 以上/f, 稱/v, 為/nz, 「/w, 猛暑/nr, 日/b, 」/w, 。/w, 東/w, 京/b, 市中心/s, 今天下午/nz, 觀/n, 測/w, 到/v, 攝/w, 氏/ng, 35/m, 度/qv, ，/w, 昨天/t, 更/d, 飆/n, 出/vf, 追/v, 平/v, 當/p, 地/ude2, 6月/t, 最高/a, 溫/w, 紀/n, 錄/nz, 的/ude1, 攝/w, 氏/ng, 36.2/m, 度/qv, 。/w, 東/w, 京/b, 連/n, 3/m, 天/qt, 呈/v, 現/w, 猛暑/nr, 日/b, ，/w, 是/vshi, 東/w, 京/b, 氣/w, 象/ng, 觀/n, 測/w, 史/ng, 上首/f, 見/n, 。/w, \n",
      "\n",
      "/w, 今天下午/nz, 約/n, 2/m, 時/ng, 30/m, 分/qt, （/w, 台/q, 灣/w, 時/ng, 間/n, 下午/t, 1/m, 時/ng, 30/m, 分/qt, ）/w, ，/w, 日本/ns, 關/n, 東/w, 甲/n, 信/n, 地方/n, 的/ude1, 櫪/w, 木/ng, 縣/n, 佐野/nr, 觀/n, 察/vg, 到/v, 攝/w, 氏/ng, 39.8/m, 度/qv, 、/w, 埼/w, 玉/n, 縣/n, 鳩/w, 山/n, 町/n, 攝/w, 氏/ng, 38.7/m, 度/qv, 、/w, 山梨/ns, 縣/n, 大月/nr, 攝/w, 氏/ng, 38.5/m, 度/qv, 。/w, \n",
      "\n",
      "/w, 關/n, 東/w, 地方/n, 今天/t, 酷/ag, 熱/a, ，/w, 民/ng, 眾/nz, 使用/v, 冷/a, 氣/w, 等/udeng, 電/n, 力/n, 需求/n, 增大/v, 。/w, 日本政府/nt, 昨天/t, 已/d, 預/n, 估/v, 東/w, 京/b, 電/n, 力/n, 公司/nis, 轄/n, 內/nz, 地/ude2, 區/w, 今天/t, 備/w, 轉/n, 容量/n, 率/v, 可能/v, 低/a, 於/nz, 5/m, %/nx, ，/w, 於/nz, 是/vshi, 發/n, 布/n, 「/w, 電/n, 力/n, 供需/n, 窘迫/a, 注意/v, 報/nz, 」/w, ，/w, 呼/v, 籲/n, 各界/rz, 盡/vi, 量/n, 節約/n, 用/p, 電/n, 。/w, \n",
      "\n",
      "/w, 電/n, 力/n, 供需/n, 窘迫/a, 注意/v, 報/nz, 是/vshi, 今年/t, 5月/t, 為了/p, 呼/v, 籲/n, 民/ng, 眾/nz, 提早/d, 節約/n, 用/p, 電/n, 所/usuo, 新/a, 設/n, 的/ude1, 措施/n, ，/w, 這/n, 次/qv, 是/vshi, 首度/n, 發/n, 布/n, 注意/v, 報/nz, 。/w, \n",
      "\n",
      "/w, 日本政府/nt, 呼/v, 籲/n, 東/w, 京/b, 電/n, 力/n, 公司/nis, 轄/n, 內/nz, 1/m, 都/d, 8/m, 縣/n, 的/ude1, 家庭/n, 、/w, 企/ng, 業/nz, 今天下午/nz, 3/m, 時/ng, 至/p, 6/m, 時/ng, 之間/f, ，/w, 尤其/d, 是/vshi, 下午/t, 4/m, 時/ng, 至/p, 5/m, 時/ng, 之間/f, 盡/vi, 量/n, 配合/v, 節約/n, 用/p, 電/n, 。/w, \n",
      "\n",
      "/w, 但是/c, 日本政府/nt, 也/d, 擔/w, 心/n, 天/qt, 熱/a, 導/w, 致/v, 民/ng, 眾/nz, 中暑/vi, 的/ude1, 危/ag, 險/n, 性/ng, 高/a, ，/w, 呼/v, 籲/n, 民/ng, 眾/nz, 要/v, 適/n, 當/p, 的/ude1, 使用/v, 冷/a, 氣/w, 、/w, 補/n, 充/v, 水分/n, ，/w, 充分/ad, 注意/v, 不要/d, 中暑/vi, ，/w, 不/d, 需/v, 使用/v, 的/ude1, 照明/n, 設/n, 備/w, 等/udeng, 盡/vi, 量/n, 關/n, 閉/n, 以/p, 節約/n, 用/p, 電/n, 。/w, \n",
      "\n",
      "/w, 日本/ns, 資/n, 源/ng, 能源/n, 廳/w, 電/n, 力/n, 基/ng, 盤/n, 整/v, 備/w, 課課長/n, 小/a, 川/b, 要/v, 今天下午/nz, 召/vg, 開/v, 記/v, 者/k, 會/v, 表示/v, ，/w, 今天/t, 電/n, 力/n, 供需/n, 情/n, 況/w, 比/p, 昨天/t, 預/n, 估/v, 的/ude1, 還/d, 要/v, 嚴/w, 峻/ag, 些/q, ，/w, 因/p, 為/nz, 電/n, 力/n, 需求/n, 從/p, 今早/nz, 開始/v, 便/d, 超/v, 過/uguo, 昨天/t, 的/ude1, 預/n, 估/v, ，/w, 氣溫/w, 也/d, 高於/nr, 預/n, 測/w, ，/w, 預/n, 估/v, 今天/t, 傍晚/t, 電/n, 力/n, 供需/n, 將/d, 趨/n, 於/nz, 嚴/w, 峻/ag, ，/w, 盼/v, 民/ng, 眾/nz, 配合/v, 節約/n, 用/p, 電/n, 。/w, \n",
      "\n",
      "/w, 日本/ns, 電/n, 力/n, 供需/n, 窘迫/a, 「/w, 注意/v, 報/nz, 」/w, 與/cc, 「/w, 警/ng, 報/nz, 」/w, 的/ude1, 差/a, 別/nz, ，/w, 在/p, 於/nz, 當/p, 預/n, 估/v, 隔天/nz, 備/w, 轉/n, 容量/n, 率/v, 低/a, 於/nz, 5/m, %/nx, 時/ng, 會/v, 先/d, 發/n, 布/n, 「/w, 注意/v, 報/nz, 」/w, ；/w, 如果/c, 預/n, 估/v, 隔天/nz, 備/w, 轉/n, 容量/n, 率/v, 可能/v, 低/a, 於/nz, 3/m, %/nx, 時/ng, ，/w, 將/d, 發/n, 布/n, 「/w, 警/ng, 報/nz, 」/w, 強/nz, 化/v, 相/d, 關/n, 對/p, 策/ng, ，/w, 進/vf, 一/m, 步呼/nr, 籲/n, 各界/rz, 配合/v, 節電/n, 。/w, \n",
      "\n",
      "/w, 日本/ns, 埼/w, 玉/n, 縣/n, 熊/n, 谷/ng, 與/cc, 越谷/nz, 昨天/t, 觀/n, 測/w, 到/v, 攝/w, 氏/ng, 36.4/m, 度/qv, ，/w, 24/m, 日/b, 起/vf, 連續/n, 3/m, 天/qt, 猛/a, 暑/ag, 日/b, 。/w, 一/m, 名/q, 住在/v, 埼/w, 玉/n, 縣/n, 川/b, 越/d, 市/n, 的/ude1, 94/m, 歲/w, 男性/n, 25/m, 日/b, 疑似/nz, 因/p, 中暑/vi, 死亡/vi, ，/w, 為/nz, 今年/t, 傳/w, 出/vf, 因/p, 中暑/vi, 死亡/vi, 首例/n, 。/w]\n"
     ]
    }
   ],
   "source": [
    "from pyhanlp import *\n",
    "content = \"\"\"日本關東地區近日天氣酷熱，東京電力公司評估轄內地區電力供需嚴峻，日本政府首度發布「電力供需窘迫注意報」（次於警報），要求民眾下午3時至6時盡量節電。\n",
    "\n",
    "日本放送協會（NHK）報導，日本氣象廳今天（6/27）上午宣布，關東甲信、東海地方以及九州南部梅雨季已過，這是關東甲信地區歷來梅雨季最早結束的紀錄。梅雨季一過，天氣變得酷熱，氣象廳呼籲民眾注意避免中暑。\n",
    "\n",
    "日本將攝氏30度以上稱為「真夏日」，35度以上稱為「猛暑日」。東京市中心今天下午觀測到攝氏35度，昨天更飆出追平當地6月最高溫紀錄的攝氏36.2度。東京連3天呈現猛暑日，是東京氣象觀測史上首見。\n",
    "\n",
    "今天下午約2時30分（台灣時間下午1時30分），日本關東甲信地方的櫪木縣佐野觀察到攝氏39.8度、埼玉縣鳩山町攝氏38.7度、山梨縣大月攝氏38.5度。\n",
    "\n",
    "關東地方今天酷熱，民眾使用冷氣等電力需求增大。日本政府昨天已預估東京電力公司轄內地區今天備轉容量率可能低於5%，於是發布「電力供需窘迫注意報」，呼籲各界盡量節約用電。\n",
    "\n",
    "電力供需窘迫注意報是今年5月為了呼籲民眾提早節約用電所新設的措施，這次是首度發布注意報。\n",
    "\n",
    "日本政府呼籲東京電力公司轄內1都8縣的家庭、企業今天下午3時至6時之間，尤其是下午4時至5時之間盡量配合節約用電。\n",
    "\n",
    "但是日本政府也擔心天熱導致民眾中暑的危險性高，呼籲民眾要適當的使用冷氣、補充水分，充分注意不要中暑，不需使用的照明設備等盡量關閉以節約用電。\n",
    "\n",
    "日本資源能源廳電力基盤整備課課長小川要今天下午召開記者會表示，今天電力供需情況比昨天預估的還要嚴峻些，因為電力需求從今早開始便超過昨天的預估，氣溫也高於預測，預估今天傍晚電力供需將趨於嚴峻，盼民眾配合節約用電。\n",
    "\n",
    "日本電力供需窘迫「注意報」與「警報」的差別，在於當預估隔天備轉容量率低於5%時會先發布「注意報」；如果預估隔天備轉容量率可能低於3%時，將發布「警報」強化相關對策，進一步呼籲各界配合節電。\n",
    "\n",
    "日本埼玉縣熊谷與越谷昨天觀測到攝氏36.4度，24日起連續3天猛暑日。一名住在埼玉縣川越市的94歲男性25日疑似因中暑死亡，為今年傳出因中暑死亡首例。\"\"\"\n",
    "print(HanLP.segment(content))"
   ]
  },
  {
   "cell_type": "code",
   "execution_count": null,
   "metadata": {},
   "outputs": [],
   "source": []
  }
 ],
 "metadata": {
  "kernelspec": {
   "display_name": "Python 3",
   "language": "python",
   "name": "python3"
  },
  "language_info": {
   "codemirror_mode": {
    "name": "ipython",
    "version": 3
   },
   "file_extension": ".py",
   "mimetype": "text/x-python",
   "name": "python",
   "nbconvert_exporter": "python",
   "pygments_lexer": "ipython3",
   "version": "3.6.12"
  }
 },
 "nbformat": 4,
 "nbformat_minor": 4
}
