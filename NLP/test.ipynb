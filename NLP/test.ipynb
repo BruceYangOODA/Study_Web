{
 "cells": [
  {
   "cell_type": "code",
   "execution_count": 1,
   "metadata": {},
   "outputs": [
    {
     "name": "stdout",
     "output_type": "stream",
     "text": [
      "[现如今/t, ，/w, 机器学习/gi, 和/cc, 深度/n, 学习/v, 带动/v, 人工智能/n, 飞速/d, 的/ude1, 发展/vn, ，/w, 并/cc, 在/p, 图片/n, 处理/vn, 、/w, 语音/n, 识别/vn, 领域/n, 取得/v, 巨大/a, 成功/a, 。/w]\n"
     ]
    }
   ],
   "source": [
    "from pyhanlp import *\n",
    "content = \"现如今，机器学习和深度学习带动人工智能飞速的发展，并在图片处理、语音识别领域取得巨大成功。\"\n",
    "print(HanLP.segment(content))"
   ]
  },
  {
   "cell_type": "code",
   "execution_count": 2,
   "metadata": {},
   "outputs": [
    {
     "name": "stdout",
     "output_type": "stream",
     "text": [
      "[铁甲/n, 网/n, 是/vshi, 中国/ns, 最大/gm, 的/ude1, 工程机械/nz, 交易平台/nz, 。/w]\n"
     ]
    }
   ],
   "source": [
    "txt = \"铁甲网是中国最大的工程机械交易平台。\"\n",
    "print(HanLP.segment(txt))"
   ]
  },
  {
   "cell_type": "code",
   "execution_count": 6,
   "metadata": {},
   "outputs": [
    {
     "name": "stdout",
     "output_type": "stream",
     "text": [
      "铁甲\tn\n",
      "网\tn\n",
      "是\tvshi\n",
      "中国\tns\n",
      "最大\tgm\n",
      "的\tude1\n",
      "工程机械\tnz\n",
      "交易平台\tnz\n",
      "。\tw\n"
     ]
    }
   ],
   "source": [
    "for term in HanLP.segment(txt):\n",
    "    print('{}\\t{}'.format(term.word, term.nature))"
   ]
  },
  {
   "cell_type": "code",
   "execution_count": 12,
   "metadata": {},
   "outputs": [
    {
     "name": "stdout",
     "output_type": "stream",
     "text": [
      "[带动, 识别, 语音]\n"
     ]
    }
   ],
   "source": [
    "# 關鍵字提取\n",
    "content = \"现如今，机器学习和深度学习带动人工智能飞速的发展，并在图片处理、语音识别领域取得巨大成功。\"\n",
    "print(HanLP.extractKeyword(content,3))"
   ]
  },
  {
   "cell_type": "code",
   "execution_count": 19,
   "metadata": {},
   "outputs": [
    {
     "name": "stdout",
     "output_type": "stream",
     "text": [
      "[并在图片处理、语音识别领域取得巨大成功]\n"
     ]
    }
   ],
   "source": [
    "# 自動摘要\n",
    "content = \"现如今，机器学习和深度学习带动人工智能飞速的发展，并在图片处理、语音识别领域取得巨大成功。\"\n",
    "print(HanLP.extractSummary(content,3))"
   ]
  },
  {
   "cell_type": "code",
   "execution_count": 20,
   "metadata": {},
   "outputs": [
    {
     "name": "stdout",
     "output_type": "stream",
     "text": [
      "1\t现如今\t现如今\tnt\tt\t_\t4\t状中结构\t_\t_\n",
      "2\t，\t，\twp\tw\t_\t1\t标点符号\t_\t_\n",
      "3\t机器\t机器\tn\tn\t_\t4\t定中关系\t_\t_\n",
      "4\t学习\t学习\tv\tv\t_\t0\t核心关系\t_\t_\n",
      "5\t和\t和\tc\tc\t_\t7\t左附加关系\t_\t_\n",
      "6\t深度\t深度\tn\tn\t_\t7\t状中结构\t_\t_\n",
      "7\t学习\t学习\tv\tv\t_\t4\t并列关系\t_\t_\n",
      "8\t带动\t带动\tv\tv\t_\t4\t并列关系\t_\t_\n",
      "9\t人工智能\t人工智能\tn\tn\t_\t12\t定中关系\t_\t_\n",
      "10\t飞速\t飞速\td\td\t_\t12\t定中关系\t_\t_\n",
      "11\t的\t的\tu\tu\t_\t10\t右附加关系\t_\t_\n",
      "12\t发展\t发展\tv\tvn\t_\t8\t动宾关系\t_\t_\n",
      "13\t，\t，\twp\tw\t_\t4\t标点符号\t_\t_\n",
      "14\t并\t并\tc\tc\t_\t22\t状中结构\t_\t_\n",
      "15\t在\t在\tp\tp\t_\t22\t状中结构\t_\t_\n",
      "16\t图片\t图片\tn\tn\t_\t17\t前置宾语\t_\t_\n",
      "17\t处理\t处理\tv\tvn\t_\t21\t定中关系\t_\t_\n",
      "18\t、\t、\twp\tw\t_\t20\t标点符号\t_\t_\n",
      "19\t语音\t语音\tn\tn\t_\t20\t前置宾语\t_\t_\n",
      "20\t识别\t识别\tv\tvn\t_\t17\t并列关系\t_\t_\n",
      "21\t领域\t领域\tn\tn\t_\t15\t介宾关系\t_\t_\n",
      "22\t取得\t取得\tv\tv\t_\t4\t并列关系\t_\t_\n",
      "23\t巨大\t巨大\ta\ta\t_\t24\t定中关系\t_\t_\n",
      "24\t成功\t成功\ta\tan\t_\t22\t动宾关系\t_\t_\n",
      "25\t。\t。\twp\tw\t_\t4\t标点符号\t_\t_\n",
      "\n"
     ]
    }
   ],
   "source": [
    "# 依存句法分析\n",
    "content = \"现如今，机器学习和深度学习带动人工智能飞速的发展，并在图片处理、语音识别领域取得巨大成功。\"\n",
    "print(HanLP.parseDependency(content))"
   ]
  },
  {
   "cell_type": "code",
   "execution_count": 4,
   "metadata": {},
   "outputs": [
    {
     "ename": "AttributeError",
     "evalue": "type object 'com.hankcs.hanlp.corpus.io.IOUtil' has no attribute 'loadDictiornary'",
     "output_type": "error",
     "traceback": [
      "\u001b[1;31m---------------------------------------------------------------------------\u001b[0m",
      "\u001b[1;31mAttributeError\u001b[0m                            Traceback (most recent call last)",
      "\u001b[1;32m<ipython-input-4-710ea732e28b>\u001b[0m in \u001b[0;36m<module>\u001b[1;34m\u001b[0m\n\u001b[0;32m      4\u001b[0m     \u001b[0mdic\u001b[0m \u001b[1;33m=\u001b[0m \u001b[0mIOUtil\u001b[0m\u001b[1;33m.\u001b[0m\u001b[0mloadDictiornary\u001b[0m\u001b[1;33m(\u001b[0m\u001b[1;33m[\u001b[0m\u001b[0mpath\u001b[0m\u001b[1;33m]\u001b[0m\u001b[1;33m)\u001b[0m\u001b[1;33m\u001b[0m\u001b[1;33m\u001b[0m\u001b[0m\n\u001b[0;32m      5\u001b[0m     \u001b[1;32mreturn\u001b[0m \u001b[0mset\u001b[0m\u001b[1;33m(\u001b[0m\u001b[0mdic\u001b[0m\u001b[1;33m.\u001b[0m\u001b[0mkeySet\u001b[0m\u001b[1;33m(\u001b[0m\u001b[1;33m)\u001b[0m\u001b[1;33m)\u001b[0m\u001b[1;33m\u001b[0m\u001b[1;33m\u001b[0m\u001b[0m\n\u001b[1;32m----> 6\u001b[1;33m \u001b[0mprint\u001b[0m\u001b[1;33m(\u001b[0m\u001b[0mload_dictionary\u001b[0m\u001b[1;33m(\u001b[0m\u001b[1;33m)\u001b[0m\u001b[1;33m)\u001b[0m\u001b[1;33m\u001b[0m\u001b[1;33m\u001b[0m\u001b[0m\n\u001b[0m",
      "\u001b[1;32m<ipython-input-4-710ea732e28b>\u001b[0m in \u001b[0;36mload_dictionary\u001b[1;34m()\u001b[0m\n\u001b[0;32m      2\u001b[0m     \u001b[0mIOUtil\u001b[0m \u001b[1;33m=\u001b[0m \u001b[0mJClass\u001b[0m\u001b[1;33m(\u001b[0m\u001b[1;34m'com.hankcs.hanlp.corpus.io.IOUtil'\u001b[0m\u001b[1;33m)\u001b[0m\u001b[1;33m\u001b[0m\u001b[1;33m\u001b[0m\u001b[0m\n\u001b[0;32m      3\u001b[0m     \u001b[0mpath\u001b[0m \u001b[1;33m=\u001b[0m \u001b[0mHanLP\u001b[0m\u001b[1;33m.\u001b[0m\u001b[0mConfig\u001b[0m\u001b[1;33m.\u001b[0m\u001b[0mCoreDictionaryPath\u001b[0m\u001b[1;33m.\u001b[0m\u001b[0mreplace\u001b[0m\u001b[1;33m(\u001b[0m\u001b[1;34m'.txt'\u001b[0m\u001b[1;33m,\u001b[0m\u001b[1;34m'.mini.txt'\u001b[0m\u001b[1;33m)\u001b[0m\u001b[1;33m\u001b[0m\u001b[1;33m\u001b[0m\u001b[0m\n\u001b[1;32m----> 4\u001b[1;33m     \u001b[0mdic\u001b[0m \u001b[1;33m=\u001b[0m \u001b[0mIOUtil\u001b[0m\u001b[1;33m.\u001b[0m\u001b[0mloadDictiornary\u001b[0m\u001b[1;33m(\u001b[0m\u001b[1;33m[\u001b[0m\u001b[0mpath\u001b[0m\u001b[1;33m]\u001b[0m\u001b[1;33m)\u001b[0m\u001b[1;33m\u001b[0m\u001b[1;33m\u001b[0m\u001b[0m\n\u001b[0m\u001b[0;32m      5\u001b[0m     \u001b[1;32mreturn\u001b[0m \u001b[0mset\u001b[0m\u001b[1;33m(\u001b[0m\u001b[0mdic\u001b[0m\u001b[1;33m.\u001b[0m\u001b[0mkeySet\u001b[0m\u001b[1;33m(\u001b[0m\u001b[1;33m)\u001b[0m\u001b[1;33m)\u001b[0m\u001b[1;33m\u001b[0m\u001b[1;33m\u001b[0m\u001b[0m\n\u001b[0;32m      6\u001b[0m \u001b[0mprint\u001b[0m\u001b[1;33m(\u001b[0m\u001b[0mload_dictionary\u001b[0m\u001b[1;33m(\u001b[0m\u001b[1;33m)\u001b[0m\u001b[1;33m)\u001b[0m\u001b[1;33m\u001b[0m\u001b[1;33m\u001b[0m\u001b[0m\n",
      "\u001b[1;32m~\\.conda\\envs\\nlp36\\lib\\site-packages\\jpype\\_jclass.py\u001b[0m in \u001b[0;36m__getattribute__\u001b[1;34m(self, name)\u001b[0m\n\u001b[0;32m    141\u001b[0m                 \u001b[1;32mreturn\u001b[0m \u001b[0m_jclassDoc\u001b[0m\u001b[1;33m(\u001b[0m\u001b[0mself\u001b[0m\u001b[1;33m)\u001b[0m\u001b[1;33m\u001b[0m\u001b[1;33m\u001b[0m\u001b[0m\n\u001b[0;32m    142\u001b[0m             \u001b[1;32mreturn\u001b[0m \u001b[0mtype\u001b[0m\u001b[1;33m.\u001b[0m\u001b[0m__getattribute__\u001b[0m\u001b[1;33m(\u001b[0m\u001b[0mself\u001b[0m\u001b[1;33m,\u001b[0m \u001b[0mname\u001b[0m\u001b[1;33m)\u001b[0m\u001b[1;33m\u001b[0m\u001b[1;33m\u001b[0m\u001b[0m\n\u001b[1;32m--> 143\u001b[1;33m         \u001b[0mattr\u001b[0m \u001b[1;33m=\u001b[0m \u001b[0mtype\u001b[0m\u001b[1;33m.\u001b[0m\u001b[0m__getattribute__\u001b[0m\u001b[1;33m(\u001b[0m\u001b[0mself\u001b[0m\u001b[1;33m,\u001b[0m \u001b[0mname\u001b[0m\u001b[1;33m)\u001b[0m\u001b[1;33m\u001b[0m\u001b[1;33m\u001b[0m\u001b[0m\n\u001b[0m\u001b[0;32m    144\u001b[0m         \u001b[1;32mif\u001b[0m \u001b[0misinstance\u001b[0m\u001b[1;33m(\u001b[0m\u001b[0mattr\u001b[0m\u001b[1;33m,\u001b[0m \u001b[0m_jpype\u001b[0m\u001b[1;33m.\u001b[0m\u001b[0mPyJPMethod\u001b[0m\u001b[1;33m)\u001b[0m\u001b[1;33m:\u001b[0m\u001b[1;33m\u001b[0m\u001b[1;33m\u001b[0m\u001b[0m\n\u001b[0;32m    145\u001b[0m             \u001b[1;32mreturn\u001b[0m \u001b[0mattr\u001b[0m\u001b[1;33m\u001b[0m\u001b[1;33m\u001b[0m\u001b[0m\n",
      "\u001b[1;31mAttributeError\u001b[0m: type object 'com.hankcs.hanlp.corpus.io.IOUtil' has no attribute 'loadDictiornary'"
     ]
    }
   ],
   "source": [
    "def load_dictionary():\n",
    "    IOUtil = JClass('com.hankcs.hanlp.corpus.io.IOUtil')\n",
    "    path = HanLP.Config.CoreDictionaryPath.replace('.txt','.mini.txt')\n",
    "    dic = IOUtil.loadDictiornary([path])\n",
    "    return set(dic.keySet())\n",
    "print(load_dictionary())"
   ]
  },
  {
   "cell_type": "code",
   "execution_count": 5,
   "metadata": {},
   "outputs": [],
   "source": [
    "content = \"\"\"ㄟ 法律是道德的最低標準 你懂不懂?\n",
    "你說你沒有違反法律 那就是說你只是達到了道德的最低標準而已\n",
    "你反質詢合乎法律沒錯啊 但是觀感很差你知道嗎?\n",
    "其實從這邊就知道你平時做事的態度了\n",
    "只要不違反法律 就只是達到了道德觀感的最低標準...\n",
    "道德規範體現著每個人的文明程度和素養\n",
    "如果只是狹隘的認為 只要不違法 觀感標準隨便應對\n",
    "那真是可憐吶\"\"\""
   ]
  },
  {
   "cell_type": "code",
   "execution_count": 3,
   "metadata": {},
   "outputs": [
    {
     "name": "stdout",
     "output_type": "stream",
     "text": [
      "[只要不違反法律 就只是達到了道德觀感的最低標準..., 你反質詢合乎法律沒錯啊 但是觀感很差你知道嗎, 你說你沒有違反法律 那就是說你只是達到了道德的最低標準而已]\n"
     ]
    }
   ],
   "source": [
    "# 自動摘要\n",
    "print(HanLP.extractSummary(content,3))"
   ]
  },
  {
   "cell_type": "code",
   "execution_count": 7,
   "metadata": {},
   "outputs": [
    {
     "name": "stdout",
     "output_type": "stream",
     "text": [
      "[準, 觀, 違]\n"
     ]
    }
   ],
   "source": [
    "# 關鍵字提取\n",
    "print(HanLP.extractKeyword(content,3))"
   ]
  },
  {
   "cell_type": "code",
   "execution_count": 6,
   "metadata": {},
   "outputs": [
    {
     "name": "stdout",
     "output_type": "stream",
     "text": [
      "[ㄟ /w, 法律/n, 是/vshi, 道德/n, 的/ude1, 最低/a, 標/w, 準/nz,  /w, 你/rr, 懂不懂/v, ?/w, \n",
      "/w, 你/rr, 說/v, 你/rr, 沒有/v, 違/n, 反/vi, 法律/n,  /w, 那/rzv, 就是/v, 說/v, 你/rr, 只是/d, 達/v, 到/v, 了/ule, 道德/n, 的/ude1, 最低/a, 標/w, 準/nz, 而已/y, \n",
      "/w, 你/rr, 反/vi, 質詢/n, 合乎/v, 法律/n, 沒/nz, 錯/n, 啊/y,  /w, 但是/c, 觀/n, 感/vg, 很差/d, 你/rr, 知道/v, 嗎/w, ?/w, \n",
      "/w, 其/rz, 實/w, 從/p, 這邊/n, 就/d, 知道/v, 你/rr, 平/v, 時/ng, 做事/vi, 的/ude1, 態度/n, 了/ule, \n",
      "/w, 只/d, 要不/c, 違/n, 反/vi, 法律/n,  /w, 就/d, 只是/d, 達/v, 到/v, 了/ule, 道德/n, 觀/n, 感/vg, 的/ude1, 最低/a, 標/w, 準/nz, .../w, \n",
      "/w, 道德/n, 規範體/n, 現/w, 著/nz, 每/rz, 個人/n, 的/ude1, 文明/n, 程度/n, 和/cc, 素/ag, 養/n, \n",
      "/w, 如果/c, 只是/d, 狹/w, 隘/ng, 的/ude1, 認/n, 為/nz,  /w, 只/d, 要不/c, 違/n, 法/n,  /w, 觀/n, 感/vg, 標/w, 準/nz, 隨/nz, 便/d, 應/w, 對/p, \n",
      "/w, 那/rzv, 真是/d, 可/v, 憐/w, 吶/n]\n"
     ]
    }
   ],
   "source": [
    "print(HanLP.segment(content))"
   ]
  },
  {
   "cell_type": "code",
   "execution_count": 8,
   "metadata": {},
   "outputs": [
    {
     "name": "stdout",
     "output_type": "stream",
     "text": [
      "1\tㄟ 法律\tㄟ 法律\tn\tn\t_\t2\t主谓关系\t_\t_\n",
      "2\t是\t是\tv\tv\t_\t0\t核心关系\t_\t_\n",
      "3\t道德\t道德\tn\tn\t_\t6\t定中关系\t_\t_\n",
      "4\t的\t的\tu\tu\t_\t3\t右附加关系\t_\t_\n",
      "5\t最低\t最低\ta\ta\t_\t6\t定中关系\t_\t_\n",
      "6\t標準 你懂\t標準 你懂\tn\tn\t_\t8\t主谓关系\t_\t_\n",
      "7\t不\t不\td\td\t_\t8\t状中结构\t_\t_\n",
      "8\t懂?\n",
      "你說\t懂?\n",
      "你說\tv\tv\t_\t2\t动宾关系\t_\t_\n",
      "9\t你\t你\tr\tr\t_\t12\t定中关系\t_\t_\n",
      "10\t沒有\t沒有\td\td\t_\t12\t定中关系\t_\t_\n",
      "11\t違反\t違反\tv\tv\t_\t12\t定中关系\t_\t_\n",
      "12\t法律 那就是說\t法律 那就是說\tn\tn\t_\t8\t动宾关系\t_\t_\n",
      "13\t你\t你\tr\tr\t_\t15\t主谓关系\t_\t_\n",
      "14\t只是\t只是\td\td\t_\t15\t状中结构\t_\t_\n",
      "15\t達到\t達到\tv\tv\t_\t8\t并列关系\t_\t_\n",
      "16\t了\t了\tu\tu\t_\t15\t右附加关系\t_\t_\n",
      "17\t道德\t道德\tn\tn\t_\t20\t定中关系\t_\t_\n",
      "18\t的\t的\tu\tu\t_\t17\t右附加关系\t_\t_\n",
      "19\t最低\t最低\ta\ta\t_\t20\t定中关系\t_\t_\n",
      "20\t標準\t標準\tn\tn\t_\t22\t主谓关系\t_\t_\n",
      "21\t而已\n",
      "你反質詢\t而已\n",
      "你反質詢\ta\tad\t_\t22\t状中结构\t_\t_\n",
      "22\t合乎\t合乎\tv\tv\t_\t15\t并列关系\t_\t_\n",
      "23\t法律\t法律\tn\tn\t_\t22\t动宾关系\t_\t_\n",
      "24\t沒錯啊 但是\t沒錯啊 但是\td\td\t_\t28\t状中结构\t_\t_\n",
      "25\t觀感\t觀感\tVg\tVg\t_\t28\t状中结构\t_\t_\n",
      "26\t很差\t很差\tp\tp\t_\t28\t状中结构\t_\t_\n",
      "27\t你\t你\tr\tr\t_\t28\t主谓关系\t_\t_\n",
      "28\t知道\t知道\tv\tv\t_\t22\t并列关系\t_\t_\n",
      "29\t嗎?\n",
      "其實\t嗎?\n",
      "其實\td\td\t_\t33\t状中结构\t_\t_\n",
      "30\t從\t從\tp\tp\t_\t33\t状中结构\t_\t_\n",
      "31\t這邊\t這邊\tr\tr\t_\t30\t介宾关系\t_\t_\n",
      "32\t就\t就\td\td\t_\t33\t状中结构\t_\t_\n",
      "33\t知道\t知道\tv\tv\t_\t28\t动宾关系\t_\t_\n",
      "34\t你\t你\tr\tr\t_\t36\t主谓关系\t_\t_\n",
      "35\t平時\t平時\tnt\tt\t_\t36\t状中结构\t_\t_\n",
      "36\t做事\t做事\tv\tv\t_\t38\t定中关系\t_\t_\n",
      "37\t的\t的\tu\tu\t_\t36\t右附加关系\t_\t_\n",
      "38\t態度了\n",
      "只要\t態度了\n",
      "只要\tn\tn\t_\t40\t主谓关系\t_\t_\n",
      "39\t不\t不\td\td\t_\t40\t状中结构\t_\t_\n",
      "40\t違反\t違反\tv\tv\t_\t33\t动宾关系\t_\t_\n",
      "41\t法律 就只是\t法律 就只是\tn\tn\t_\t40\t动宾关系\t_\t_\n",
      "42\t達到\t達到\tv\tv\t_\t40\t并列关系\t_\t_\n",
      "43\t了\t了\tu\tu\t_\t42\t右附加关系\t_\t_\n",
      "44\t道德\t道德\tn\tn\t_\t45\t定中关系\t_\t_\n",
      "45\t觀感\t觀感\tn\tn\t_\t48\t定中关系\t_\t_\n",
      "46\t的\t的\tu\tu\t_\t45\t右附加关系\t_\t_\n",
      "47\t最低\t最低\ta\ta\t_\t48\t定中关系\t_\t_\n",
      "48\t標準\t標準\tn\tn\t_\t57\t定中关系\t_\t_\n",
      "49\t...\n",
      "道德規範\t...\n",
      "道德規範\ta\tad\t_\t57\t定中关系\t_\t_\n",
      "50\t體現\t體現\tv\tv\t_\t57\t定中关系\t_\t_\n",
      "51\t著\t著\tv\tv\t_\t50\t右附加关系\t_\t_\n",
      "52\t每\t每\tr\tr\t_\t53\t定中关系\t_\t_\n",
      "53\t個\t個\tq\tq\t_\t54\t定中关系\t_\t_\n",
      "54\t人\t人\tn\tn\t_\t57\t定中关系\t_\t_\n",
      "55\t的\t的\tu\tu\t_\t54\t右附加关系\t_\t_\n",
      "56\t文明\t文明\tn\tn\t_\t57\t定中关系\t_\t_\n",
      "57\t程度\t程度\tn\tn\t_\t69\t主谓关系\t_\t_\n",
      "58\t和\t和\tc\tc\t_\t59\t左附加关系\t_\t_\n",
      "59\t素養\n",
      "如果\t素養\n",
      "如果\tn\tn\t_\t57\t并列关系\t_\t_\n",
      "60\t只是\t只是\td\td\t_\t69\t状中结构\t_\t_\n",
      "61\t狹隘\t狹隘\ta\ta\t_\t63\t定中关系\t_\t_\n",
      "62\t的\t的\tu\tu\t_\t61\t右附加关系\t_\t_\n",
      "63\t認為 只要\t認為 只要\ta\tan\t_\t68\t定中关系\t_\t_\n",
      "64\t不\t不\td\td\t_\t65\t状中结构\t_\t_\n",
      "65\t違法 觀感\t違法 觀感\ta\ta\t_\t66\t定中关系\t_\t_\n",
      "66\t標準\t標準\tn\tn\t_\t68\t定中关系\t_\t_\n",
      "67\t隨便\t隨便\ta\tad\t_\t68\t定中关系\t_\t_\n",
      "68\t應對\n",
      "那真\t應對\n",
      "那真\tv\tv\t_\t69\t主谓关系\t_\t_\n",
      "69\t是\t是\tv\tv\t_\t42\t并列关系\t_\t_\n",
      "70\t可憐\t可憐\tv\tv\t_\t69\t动宾关系\t_\t_\n",
      "71\t吶\t吶\te\ty\t_\t70\t动宾关系\t_\t_\n",
      "\n"
     ]
    }
   ],
   "source": [
    "# 依存句法分析\n",
    "print(HanLP.parseDependency(content))"
   ]
  },
  {
   "cell_type": "code",
   "execution_count": 9,
   "metadata": {},
   "outputs": [
    {
     "name": "stdout",
     "output_type": "stream",
     "text": [
      "ㄟ \tw\n",
      "法律\tn\n",
      "是\tvshi\n",
      "道德\tn\n",
      "的\tude1\n",
      "最低\ta\n",
      "標\tw\n",
      "準\tnz\n",
      " \tw\n",
      "你\trr\n",
      "懂不懂\tv\n",
      "?\tw\n",
      "\n",
      "\tw\n",
      "你\trr\n",
      "說\tv\n",
      "你\trr\n",
      "沒有\tv\n",
      "違\tn\n",
      "反\tvi\n",
      "法律\tn\n",
      " \tw\n",
      "那\trzv\n",
      "就是\tv\n",
      "說\tv\n",
      "你\trr\n",
      "只是\td\n",
      "達\tv\n",
      "到\tv\n",
      "了\tule\n",
      "道德\tn\n",
      "的\tude1\n",
      "最低\ta\n",
      "標\tw\n",
      "準\tnz\n",
      "而已\ty\n",
      "\n",
      "\tw\n",
      "你\trr\n",
      "反\tvi\n",
      "質詢\tn\n",
      "合乎\tv\n",
      "法律\tn\n",
      "沒\tnz\n",
      "錯\tn\n",
      "啊\ty\n",
      " \tw\n",
      "但是\tc\n",
      "觀\tn\n",
      "感\tvg\n",
      "很差\td\n",
      "你\trr\n",
      "知道\tv\n",
      "嗎\tw\n",
      "?\tw\n",
      "\n",
      "\tw\n",
      "其\trz\n",
      "實\tw\n",
      "從\tp\n",
      "這邊\tn\n",
      "就\td\n",
      "知道\tv\n",
      "你\trr\n",
      "平\tv\n",
      "時\tng\n",
      "做事\tvi\n",
      "的\tude1\n",
      "態度\tn\n",
      "了\tule\n",
      "\n",
      "\tw\n",
      "只\td\n",
      "要不\tc\n",
      "違\tn\n",
      "反\tvi\n",
      "法律\tn\n",
      " \tw\n",
      "就\td\n",
      "只是\td\n",
      "達\tv\n",
      "到\tv\n",
      "了\tule\n",
      "道德\tn\n",
      "觀\tn\n",
      "感\tvg\n",
      "的\tude1\n",
      "最低\ta\n",
      "標\tw\n",
      "準\tnz\n",
      "...\tw\n",
      "\n",
      "\tw\n",
      "道德\tn\n",
      "規範體\tn\n",
      "現\tw\n",
      "著\tnz\n",
      "每\trz\n",
      "個人\tn\n",
      "的\tude1\n",
      "文明\tn\n",
      "程度\tn\n",
      "和\tcc\n",
      "素\tag\n",
      "養\tn\n",
      "\n",
      "\tw\n",
      "如果\tc\n",
      "只是\td\n",
      "狹\tw\n",
      "隘\tng\n",
      "的\tude1\n",
      "認\tn\n",
      "為\tnz\n",
      " \tw\n",
      "只\td\n",
      "要不\tc\n",
      "違\tn\n",
      "法\tn\n",
      " \tw\n",
      "觀\tn\n",
      "感\tvg\n",
      "標\tw\n",
      "準\tnz\n",
      "隨\tnz\n",
      "便\td\n",
      "應\tw\n",
      "對\tp\n",
      "\n",
      "\tw\n",
      "那\trzv\n",
      "真是\td\n",
      "可\tv\n",
      "憐\tw\n",
      "吶\tn\n"
     ]
    }
   ],
   "source": [
    "for term in HanLP.segment(content):\n",
    "    print('{}\\t{}'.format(term.word, term.nature))"
   ]
  },
  {
   "cell_type": "code",
   "execution_count": 3,
   "metadata": {},
   "outputs": [
    {
     "name": "stdout",
     "output_type": "stream",
     "text": [
      "[2022/m, //w, 06/m, //w, 08/m,  /w, 22/m, :/w, 05/m, \n",
      "/w, 〔/w, 即/v, 時/ng, 新/a, 聞/n, ／/w, 綜/nz, 合/v, 報/nz, 導/w, 〕/mq, 烏/w, 克/q, 蘭/nz, 盧/n, 甘斯/nrf, 克州/nz, （/w, Lugansk/nx, ）/w, 州/n, 長蓋/n, 戴/v, （/w, Sergiy/nx,  /w, Gaiday/nx, ）/w, 今/tg, （/w, 8/m, ）/w, 日/b, 表示/v, ，/w, 由/p, 於/nz, 戰/v, 況/w, 不利/a, ，/w, 烏/w, 軍/nz, 有可能/nz, 得/ude3, 從/p, 北/f, 頓/n, 內/nz, 茨/ng, 克/q, （/w, Severodonetsk/nx, ）/w, 撤退/vi, 。/w, \n",
      "\n",
      "/w, 《/w, 法新社/j, 》/w, 報/nz, 導/w, ，/w, 蓋/n, 戴/v, 本/rz, 日/b, 在/p, 接受/v, 1/m, +/w, 1/m, 電視台/nis, 採/nz, 訪/n, 時/ng, 表示/v, ，/w, 「/w, 有可能/nz, 我們/rr, 得/ude3, 撤退/vi, 到/v, 位置/n, 更好/d, 的/ude1, 據/nz, 點/qt, 。/w, 」/w, 因/p, 為/nz, 北/f, 頓/n, 內/nz, 茨/ng, 克/q, 全天/n, 24/m, 小/a, 時/ng, 持/v, 續/n, 遭受/v, 俄/b, 軍/nz, 砲/n, 擊/w, 。/w, \n",
      "\n",
      "/w, 北/f, 頓/n, 內/nz, 茨/ng, 克/q, 原本/d, 為/nz, 盧/n, 甘斯/nrf, 克州/nz, 的/ude1, 工/n, 業/nz, 重/a, 鎮/n, ，/w, 也/d, 是/vshi, 近期/t, 烏/w, 俄/b, 兩/w, 軍/nz, 激烈/a, 爭奪/w, 的/ude1, 戰/v, 略/d, 要/v, 點/qt, ，/w, 俄/b, 羅斯/nr, 昨日/t, 公開/ad, 宣/nz, 稱/v, 已/d, 成功/a, 占/v, 領/n, 北/f, 頓/n, 內/nz, 茨/ng, 克/q, 的/ude1, 住宅/n, 區/w, ，/w, 工/n, 業/nz, 區/w, 則/d, 尚在/nr, 烏/w, 克/q, 蘭/nz, 掌握/v, 中/f, 。/w, \n",
      "\n",
      "/w, 北/f, 頓/n, 內/nz, 茨/ng, 克/q, 與/cc, 利/n, 西昌/ns, 斯克/nr, （/w, Lysychansk/nx, ）/w, 是/vshi, 烏/w, 克/q, 蘭/nz, 在/p, 盧/n, 甘斯/nrf, 克州/nz, 的/ude1, 最/d, 後/nz, 兩/w, 處/n, 據/nz, 點/qt, ，/w, 這/n, 兩/w, 座/q, 城市/n, 被/pbei, 北/f, 頓/n, 涅/vg, 茨河/nz, （/w, Siverskyi/nx,  /w, Donets/nx, ）/w, 分隔/vi, ，/w, 不過/c, 利/n, 西昌/ns, 斯克/nr, 也/d, 正在/d, 遭受/v, 俄/b, 軍/nz, 的/ude1, 砲/n, 火/n, 打/v, 擊/w, 。/w, \n",
      "\n",
      "/w]\n"
     ]
    }
   ],
   "source": [
    "NEWS = \"\"\"2022/06/08 22:05\n",
    "〔即時新聞／綜合報導〕烏克蘭盧甘斯克州（Lugansk）州長蓋戴（Sergiy Gaiday）今（8）日表示，由於戰況不利，烏軍有可能得從北頓內茨克（Severodonetsk）撤退。\n",
    "\n",
    "《法新社》報導，蓋戴本日在接受1+1電視台採訪時表示，「有可能我們得撤退到位置更好的據點。」因為北頓內茨克全天24小時持續遭受俄軍砲擊。\n",
    "\n",
    "北頓內茨克原本為盧甘斯克州的工業重鎮，也是近期烏俄兩軍激烈爭奪的戰略要點，俄羅斯昨日公開宣稱已成功占領北頓內茨克的住宅區，工業區則尚在烏克蘭掌握中。\n",
    "\n",
    "北頓內茨克與利西昌斯克（Lysychansk）是烏克蘭在盧甘斯克州的最後兩處據點，這兩座城市被北頓涅茨河（Siverskyi Donets）分隔，不過利西昌斯克也正在遭受俄軍的砲火打擊。\n",
    "\n",
    "\"\"\"\n",
    "print(HanLP.segment(NEWS))"
   ]
  },
  {
   "cell_type": "code",
   "execution_count": null,
   "metadata": {},
   "outputs": [],
   "source": []
  }
 ],
 "metadata": {
  "kernelspec": {
   "display_name": "Python 3",
   "language": "python",
   "name": "python3"
  },
  "language_info": {
   "codemirror_mode": {
    "name": "ipython",
    "version": 3
   },
   "file_extension": ".py",
   "mimetype": "text/x-python",
   "name": "python",
   "nbconvert_exporter": "python",
   "pygments_lexer": "ipython3",
   "version": "3.6.12"
  }
 },
 "nbformat": 4,
 "nbformat_minor": 4
}
